{
 "cells": [
  {
   "cell_type": "markdown",
   "metadata": {},
   "source": [
    "읽어오기"
   ]
  },
  {
   "cell_type": "code",
   "execution_count": 170,
   "metadata": {
    "collapsed": true
   },
   "outputs": [],
   "source": [
    "import numpy as np\n",
    "import pandas as pd\n",
    "import matplotlib.pyplot as plt"
   ]
  },
  {
   "cell_type": "code",
   "execution_count": 171,
   "metadata": {
    "collapsed": true
   },
   "outputs": [],
   "source": [
    "input_file = \"maryland_1year_nan_contained.csv\""
   ]
  },
  {
   "cell_type": "code",
   "execution_count": 172,
   "metadata": {},
   "outputs": [
    {
     "name": "stderr",
     "output_type": "stream",
     "text": [
      "C:\\Users\\User\\Anaconda3\\lib\\site-packages\\IPython\\core\\interactiveshell.py:2717: DtypeWarning: Columns (5,7,10,14,26,27,32,33,41,42,45,50,51,52,53,55,66,69,70,71,74,76,79,81,84,86) have mixed types. Specify dtype option on import or set low_memory=False.\n",
      "  interactivity=interactivity, compiler=compiler, result=result)\n"
     ]
    }
   ],
   "source": [
    "df = pd.read_csv(input_file)"
   ]
  },
  {
   "cell_type": "markdown",
   "metadata": {},
   "source": [
    "nan이 많은 컬럼 삭제"
   ]
  },
  {
   "cell_type": "code",
   "execution_count": 173,
   "metadata": {
    "collapsed": true
   },
   "outputs": [],
   "source": [
    "many_nan_list = df.columns[df.isnull().sum(axis=0) >= (200118*2/10)]"
   ]
  },
  {
   "cell_type": "code",
   "execution_count": 174,
   "metadata": {},
   "outputs": [
    {
     "data": {
      "text/plain": [
       "52"
      ]
     },
     "execution_count": 174,
     "metadata": {},
     "output_type": "execute_result"
    }
   ],
   "source": [
    "len(many_nan_list)"
   ]
  },
  {
   "cell_type": "code",
   "execution_count": 175,
   "metadata": {
    "collapsed": true
   },
   "outputs": [],
   "source": [
    "slimmed_df = df.drop(many_nan_list, axis=1)"
   ]
  },
  {
   "cell_type": "markdown",
   "metadata": {},
   "source": [
    "필요없는 컬럼 삭제"
   ]
  },
  {
   "cell_type": "code",
   "execution_count": 176,
   "metadata": {
    "scrolled": true
   },
   "outputs": [
    {
     "name": "stdout",
     "output_type": "stream",
     "text": [
      "<class 'pandas.core.frame.DataFrame'>\n",
      "RangeIndex: 200118 entries, 0 to 200117\n",
      "Data columns (total 37 columns):\n",
      "Unnamed: 0                200118 non-null int64\n",
      "ALCOHOL_TEST_CODE         164293 non-null float64\n",
      "CDL_FLAG                  160309 non-null object\n",
      "CONDITION_CODE            163820 non-null float64\n",
      "DRUG_TEST_CODE            164293 non-null float64\n",
      "EQUIP_PROB_CODE           196134 non-null float64\n",
      "FAULT_FLAG                162548 non-null object\n",
      "INJ_SEVER_CODE            200118 non-null int64\n",
      "PERSON_ID                 200118 non-null object\n",
      "PERSON_TYPE               200118 non-null object\n",
      "REPORT_NO                 200118 non-null object\n",
      "SAF_EQUIP_CODE            200118 non-null float64\n",
      "SEX_CODE                  200117 non-null object\n",
      "VEHICLE_ID                196134 non-null object\n",
      "COLLISION_TYPE_CODE       200118 non-null int64\n",
      "C_M_ZONE_FLAG             200118 non-null object\n",
      "FIX_OBJ_CODE              200118 non-null float64\n",
      "HARM_EVENT_CODE1          200118 non-null float64\n",
      "HARM_EVENT_CODE2          200118 non-null float64\n",
      "JUNCTION_CODE             186610 non-null float64\n",
      "LANE_CODE                 161539 non-null float64\n",
      "LIGHT_CODE                200118 non-null float64\n",
      "RD_COND_CODE              186610 non-null float64\n",
      "RD_DIV_CODE               186610 non-null float64\n",
      "SIGNAL_FLAG               200118 non-null object\n",
      "SURF_COND_CODE            186610 non-null float64\n",
      "WEATHER_CODE              200118 non-null float64\n",
      "AREA_DAMAGED_CODE_MAIN    193710 non-null float64\n",
      "BODY_TYPE_CODE            196128 non-null float64\n",
      "COMMERCIAL_FLAG           196134 non-null object\n",
      "DAMAGE_CODE               196134 non-null float64\n",
      "HARM_EVENT_CODE           196134 non-null float64\n",
      "HIT_AND_RUN_FLAG          196134 non-null object\n",
      "MOVEMENT_CODE             196134 non-null float64\n",
      "VEH_MAKE                  196112 non-null object\n",
      "TIME                      200118 non-null object\n",
      "AGE                       200118 non-null float64\n",
      "dtypes: float64(21), int64(3), object(13)\n",
      "memory usage: 56.5+ MB\n"
     ]
    }
   ],
   "source": [
    "slimmed_df.info()"
   ]
  },
  {
   "cell_type": "code",
   "execution_count": 177,
   "metadata": {
    "collapsed": true
   },
   "outputs": [],
   "source": [
    "useless_list = ['Unnamed: 0', 'ALCOHOL_TEST_CODE', 'CDL_FLAG', 'DRUG_TEST_CODE','EQUIP_PROB_CODE','FIX_OBJ_CODE','HARM_EVENT_CODE1',\n",
    "                'HARM_EVENT_CODE2', 'COMMERCIAL_FLAG', 'AREA_DAMAGED_CODE_MAIN','DAMAGE_CODE', 'HIT_AND_RUN_FLAG',\n",
    "                'VEH_MAKE']\n",
    "slimmed_df2 = slimmed_df.drop(useless_list, axis=1)"
   ]
  },
  {
   "cell_type": "code",
   "execution_count": 178,
   "metadata": {},
   "outputs": [
    {
     "data": {
      "text/plain": [
       "24"
      ]
     },
     "execution_count": 178,
     "metadata": {},
     "output_type": "execute_result"
    }
   ],
   "source": [
    "len(list(slimmed_df2.columns))"
   ]
  },
  {
   "cell_type": "code",
   "execution_count": 179,
   "metadata": {},
   "outputs": [
    {
     "data": {
      "text/plain": [
       "200118"
      ]
     },
     "execution_count": 179,
     "metadata": {},
     "output_type": "execute_result"
    }
   ],
   "source": [
    "len(slimmed_df2)"
   ]
  },
  {
   "cell_type": "code",
   "execution_count": 180,
   "metadata": {},
   "outputs": [
    {
     "name": "stdout",
     "output_type": "stream",
     "text": [
      "<class 'pandas.core.frame.DataFrame'>\n",
      "RangeIndex: 200118 entries, 0 to 200117\n",
      "Data columns (total 24 columns):\n",
      "CONDITION_CODE         163820 non-null float64\n",
      "FAULT_FLAG             162548 non-null object\n",
      "INJ_SEVER_CODE         200118 non-null int64\n",
      "PERSON_ID              200118 non-null object\n",
      "PERSON_TYPE            200118 non-null object\n",
      "REPORT_NO              200118 non-null object\n",
      "SAF_EQUIP_CODE         200118 non-null float64\n",
      "SEX_CODE               200117 non-null object\n",
      "VEHICLE_ID             196134 non-null object\n",
      "COLLISION_TYPE_CODE    200118 non-null int64\n",
      "C_M_ZONE_FLAG          200118 non-null object\n",
      "JUNCTION_CODE          186610 non-null float64\n",
      "LANE_CODE              161539 non-null float64\n",
      "LIGHT_CODE             200118 non-null float64\n",
      "RD_COND_CODE           186610 non-null float64\n",
      "RD_DIV_CODE            186610 non-null float64\n",
      "SIGNAL_FLAG            200118 non-null object\n",
      "SURF_COND_CODE         186610 non-null float64\n",
      "WEATHER_CODE           200118 non-null float64\n",
      "BODY_TYPE_CODE         196128 non-null float64\n",
      "HARM_EVENT_CODE        196134 non-null float64\n",
      "MOVEMENT_CODE          196134 non-null float64\n",
      "TIME                   200118 non-null object\n",
      "AGE                    200118 non-null float64\n",
      "dtypes: float64(13), int64(2), object(9)\n",
      "memory usage: 36.6+ MB\n"
     ]
    }
   ],
   "source": [
    "slimmed_df2.info()"
   ]
  },
  {
   "cell_type": "markdown",
   "metadata": {},
   "source": [
    "INJ_SEVER_CODE 가중치 부여 [1/2]"
   ]
  },
  {
   "cell_type": "code",
   "execution_count": 181,
   "metadata": {
    "collapsed": true,
    "scrolled": true
   },
   "outputs": [],
   "source": [
    "# key columns 저장\n",
    "key_list = ['PERSON_ID','PERSON_TYPE','REPORT_NO','VEHICLE_ID','FAULT_FLAG','INJ_SEVER_CODE']\n",
    "key_df = slimmed_df2[key_list]"
   ]
  },
  {
   "cell_type": "code",
   "execution_count": 182,
   "metadata": {
    "scrolled": true
   },
   "outputs": [
    {
     "name": "stderr",
     "output_type": "stream",
     "text": [
      "C:\\Users\\User\\Anaconda3\\lib\\site-packages\\ipykernel_launcher.py:21: SettingWithCopyWarning: \n",
      "A value is trying to be set on a copy of a slice from a DataFrame.\n",
      "Try using .loc[row_indexer,col_indexer] = value instead\n",
      "\n",
      "See the caveats in the documentation: http://pandas.pydata.org/pandas-docs/stable/indexing.html#indexing-view-versus-copy\n"
     ]
    }
   ],
   "source": [
    "# 인명피해점수 구하기\n",
    "\n",
    "inj_point_df00 = key_df[['REPORT_NO', 'INJ_SEVER_CODE']]\n",
    "\n",
    "# 인명피해점수 가중치 부여\n",
    "\n",
    "def inj_weight(i):\n",
    "    if i['INJ_SEVER_CODE'] == 1:\n",
    "        j = 0\n",
    "    elif i['INJ_SEVER_CODE'] == 2:\n",
    "        j = 1\n",
    "    elif i['INJ_SEVER_CODE'] == 3:\n",
    "        j = 2\n",
    "    elif i['INJ_SEVER_CODE'] == 4:\n",
    "        j = 5\n",
    "    elif i['INJ_SEVER_CODE'] == 5:\n",
    "        j = 89\n",
    "    return j\n",
    "\n",
    "\n",
    "inj_point_df00['INJ_WEIGHT'] = inj_point_df00.apply(inj_weight, axis=1)"
   ]
  },
  {
   "cell_type": "code",
   "execution_count": 183,
   "metadata": {
    "collapsed": true,
    "scrolled": true
   },
   "outputs": [],
   "source": [
    "# 인명피해 관련 통계 구하기\n",
    "\n",
    "inj_sum = inj_point_df00.groupby('REPORT_NO').sum()\n",
    "inj_sum.columns = ['INJ_SUM','INJ_WEIGHT_SUM']\n",
    "\n",
    "inj_point_df = inj_sum.copy()\n"
   ]
  },
  {
   "cell_type": "code",
   "execution_count": 184,
   "metadata": {
    "collapsed": true,
    "scrolled": true
   },
   "outputs": [],
   "source": [
    "# 전체 count\n",
    "\n",
    "inj_total_count = (inj_point_df00[['REPORT_NO','INJ_SEVER_CODE']].groupby('REPORT_NO').count())\n",
    "inj_total_count.columns = ['INJ_TOTAL_COUNT']\n"
   ]
  },
  {
   "cell_type": "code",
   "execution_count": 185,
   "metadata": {
    "collapsed": true
   },
   "outputs": [],
   "source": [
    "# 전체 mean\n",
    "\n",
    "inj_total_mean = (inj_point_df00[['REPORT_NO','INJ_WEIGHT']].groupby('REPORT_NO').mean())\n",
    "inj_total_mean.columns = ['INJ_TW_MEAN']\n",
    "#inj_total_mean"
   ]
  },
  {
   "cell_type": "code",
   "execution_count": 186,
   "metadata": {
    "collapsed": true
   },
   "outputs": [],
   "source": [
    "inj_point_df['INJ_TOTAL_COUNT'] = inj_total_count['INJ_TOTAL_COUNT']\n",
    "inj_point_df['INJ_TW_MEAN'] = inj_total_mean['INJ_TW_MEAN']\n",
    "#inj_point_df"
   ]
  },
  {
   "cell_type": "markdown",
   "metadata": {},
   "source": [
    "nan 있는 레코드 삭제"
   ]
  },
  {
   "cell_type": "code",
   "execution_count": 187,
   "metadata": {
    "collapsed": true
   },
   "outputs": [],
   "source": [
    "no_nan_df = slimmed_df2.dropna()"
   ]
  },
  {
   "cell_type": "code",
   "execution_count": 188,
   "metadata": {},
   "outputs": [
    {
     "data": {
      "text/plain": [
       "['AGE',\n",
       " 'BODY_TYPE_CODE',\n",
       " 'COLLISION_TYPE_CODE',\n",
       " 'CONDITION_CODE',\n",
       " 'C_M_ZONE_FLAG',\n",
       " 'FAULT_FLAG',\n",
       " 'HARM_EVENT_CODE',\n",
       " 'INJ_SEVER_CODE',\n",
       " 'JUNCTION_CODE',\n",
       " 'LANE_CODE',\n",
       " 'LIGHT_CODE',\n",
       " 'MOVEMENT_CODE',\n",
       " 'PERSON_ID',\n",
       " 'PERSON_TYPE',\n",
       " 'RD_COND_CODE',\n",
       " 'RD_DIV_CODE',\n",
       " 'REPORT_NO',\n",
       " 'SAF_EQUIP_CODE',\n",
       " 'SEX_CODE',\n",
       " 'SIGNAL_FLAG',\n",
       " 'SURF_COND_CODE',\n",
       " 'TIME',\n",
       " 'VEHICLE_ID',\n",
       " 'WEATHER_CODE']"
      ]
     },
     "execution_count": 188,
     "metadata": {},
     "output_type": "execute_result"
    }
   ],
   "source": [
    "sorted(list(no_nan_df.columns))"
   ]
  },
  {
   "cell_type": "markdown",
   "metadata": {},
   "source": [
    "의미불명 & 의미없는 레코드 삭제"
   ]
  },
  {
   "cell_type": "code",
   "execution_count": 189,
   "metadata": {
    "collapsed": true
   },
   "outputs": [],
   "source": [
    "no_unknown_df = no_nan_df.copy()"
   ]
  },
  {
   "cell_type": "code",
   "execution_count": 190,
   "metadata": {
    "collapsed": true
   },
   "outputs": [],
   "source": [
    "remove_unknown_f = lambda x : x in [0,88,99,11.04,'U']\n",
    "\n",
    "no_unknown_df1 = no_unknown_df[no_unknown_df.applymap(remove_unknown_f).sum(axis=1)==0]"
   ]
  },
  {
   "cell_type": "code",
   "execution_count": 191,
   "metadata": {},
   "outputs": [
    {
     "data": {
      "text/plain": [
       "[0, 0, 0, 0, 0, 0, 0, 0, 0, 0, 0, 0, 0, 0, 0, 0, 0, 0, 0, 0, 0, 0, 0, 0]"
      ]
     },
     "execution_count": 191,
     "metadata": {},
     "output_type": "execute_result"
    }
   ],
   "source": [
    "# 검사\n",
    "no_unknown_df2 = no_unknown_df1.copy()\n",
    "no_unknown_df2 = no_unknown_df2.applymap(remove_unknown_f).sum()\n",
    "list(no_unknown_df2)"
   ]
  },
  {
   "cell_type": "code",
   "execution_count": 192,
   "metadata": {},
   "outputs": [
    {
     "data": {
      "text/plain": [
       "\"\\nno_unknown_df = no_unknown_df.set_index('AREA_DAMAGED_CODE_MAIN')\\nno_unknown_df = no_unknown_df.drop([0,88,99])\\nno_unknown_df = no_unknown_df.reset_index()\\n\""
      ]
     },
     "execution_count": 192,
     "metadata": {},
     "output_type": "execute_result"
    }
   ],
   "source": [
    "### 다른 방법들 ###\n",
    "\n",
    "# boolean 행삭제\n",
    "# no_unknown_df = no_nan_df[no_nan_df['FAULT_FLAG'] != 'U']\n",
    "\n",
    "# index 지정 이용하여 행삭제\n",
    "'''\n",
    "no_unknown_df = no_unknown_df.set_index('AREA_DAMAGED_CODE_MAIN')\n",
    "no_unknown_df = no_unknown_df.drop([0,88,99])\n",
    "no_unknown_df = no_unknown_df.reset_index()\n",
    "'''"
   ]
  },
  {
   "cell_type": "code",
   "execution_count": 193,
   "metadata": {},
   "outputs": [
    {
     "data": {
      "text/html": [
       "<div>\n",
       "<style>\n",
       "    .dataframe thead tr:only-child th {\n",
       "        text-align: right;\n",
       "    }\n",
       "\n",
       "    .dataframe thead th {\n",
       "        text-align: left;\n",
       "    }\n",
       "\n",
       "    .dataframe tbody tr th {\n",
       "        vertical-align: top;\n",
       "    }\n",
       "</style>\n",
       "<table border=\"1\" class=\"dataframe\">\n",
       "  <thead>\n",
       "    <tr style=\"text-align: right;\">\n",
       "      <th></th>\n",
       "      <th>CONDITION_CODE</th>\n",
       "      <th>FAULT_FLAG</th>\n",
       "      <th>INJ_SEVER_CODE</th>\n",
       "      <th>PERSON_ID</th>\n",
       "      <th>PERSON_TYPE</th>\n",
       "      <th>REPORT_NO</th>\n",
       "      <th>SAF_EQUIP_CODE</th>\n",
       "      <th>SEX_CODE</th>\n",
       "      <th>VEHICLE_ID</th>\n",
       "      <th>COLLISION_TYPE_CODE</th>\n",
       "      <th>...</th>\n",
       "      <th>RD_COND_CODE</th>\n",
       "      <th>RD_DIV_CODE</th>\n",
       "      <th>SIGNAL_FLAG</th>\n",
       "      <th>SURF_COND_CODE</th>\n",
       "      <th>WEATHER_CODE</th>\n",
       "      <th>BODY_TYPE_CODE</th>\n",
       "      <th>HARM_EVENT_CODE</th>\n",
       "      <th>MOVEMENT_CODE</th>\n",
       "      <th>TIME</th>\n",
       "      <th>AGE</th>\n",
       "    </tr>\n",
       "  </thead>\n",
       "  <tbody>\n",
       "  </tbody>\n",
       "</table>\n",
       "<p>0 rows × 24 columns</p>\n",
       "</div>"
      ],
      "text/plain": [
       "Empty DataFrame\n",
       "Columns: [CONDITION_CODE, FAULT_FLAG, INJ_SEVER_CODE, PERSON_ID, PERSON_TYPE, REPORT_NO, SAF_EQUIP_CODE, SEX_CODE, VEHICLE_ID, COLLISION_TYPE_CODE, C_M_ZONE_FLAG, JUNCTION_CODE, LANE_CODE, LIGHT_CODE, RD_COND_CODE, RD_DIV_CODE, SIGNAL_FLAG, SURF_COND_CODE, WEATHER_CODE, BODY_TYPE_CODE, HARM_EVENT_CODE, MOVEMENT_CODE, TIME, AGE]\n",
       "Index: []\n",
       "\n",
       "[0 rows x 24 columns]"
      ]
     },
     "execution_count": 193,
     "metadata": {},
     "output_type": "execute_result"
    }
   ],
   "source": [
    "# 검사\n",
    "no_unknown_df1[no_unknown_df1['PERSON_TYPE'] == 'O']"
   ]
  },
  {
   "cell_type": "code",
   "execution_count": 194,
   "metadata": {},
   "outputs": [
    {
     "data": {
      "text/plain": [
       "76313"
      ]
     },
     "execution_count": 194,
     "metadata": {},
     "output_type": "execute_result"
    }
   ],
   "source": [
    "len(no_unknown_df1)"
   ]
  },
  {
   "cell_type": "code",
   "execution_count": 195,
   "metadata": {
    "collapsed": true
   },
   "outputs": [],
   "source": [
    "no_unknown_df3 = no_unknown_df1.copy()"
   ]
  },
  {
   "cell_type": "markdown",
   "metadata": {},
   "source": [
    "INJ_FW_MEAN 구하기 (ACC_POINT)"
   ]
  },
  {
   "cell_type": "code",
   "execution_count": 196,
   "metadata": {
    "collapsed": true
   },
   "outputs": [],
   "source": [
    "# inj_count 구해서 저장하기\n",
    "\n",
    "key_df2 = no_unknown_df3[key_list]\n",
    "\n",
    "inj_point_df01 = key_df2[['REPORT_NO','INJ_SEVER_CODE']]\n"
   ]
  },
  {
   "cell_type": "code",
   "execution_count": 197,
   "metadata": {
    "collapsed": true
   },
   "outputs": [],
   "source": [
    "inj_point_df2 = inj_point_df01.groupby('REPORT_NO').count()\n",
    "inj_point_df2.columns = ['INJ_F_COUNT']\n",
    "#inj_point_df2\n"
   ]
  },
  {
   "cell_type": "code",
   "execution_count": 198,
   "metadata": {
    "collapsed": true,
    "scrolled": true
   },
   "outputs": [],
   "source": [
    "# 전처리 전 inj_point_df와 merge\n",
    "\n",
    "inj_point_df3 = pd.merge(inj_point_df, inj_point_df2, how='inner', left_index=True, right_index=True)\n",
    "#inj_point_df3"
   ]
  },
  {
   "cell_type": "code",
   "execution_count": 199,
   "metadata": {
    "collapsed": true
   },
   "outputs": [],
   "source": [
    "# inj_fw_mean 구하기\n",
    "\n",
    "inj_point_df3['INJ_FW_MEAN'] = inj_point_df3['INJ_WEIGHT_SUM']/inj_point_df3['INJ_F_COUNT']\n",
    "#inj_point_df3.info()"
   ]
  },
  {
   "cell_type": "code",
   "execution_count": 200,
   "metadata": {
    "collapsed": true
   },
   "outputs": [],
   "source": [
    "# 1차 전처리 끝\n",
    "\n",
    "#no_unknown_df1\n"
   ]
  },
  {
   "cell_type": "code",
   "execution_count": 201,
   "metadata": {},
   "outputs": [
    {
     "data": {
      "text/plain": [
       "array(['D'], dtype=object)"
      ]
     },
     "execution_count": 201,
     "metadata": {},
     "output_type": "execute_result"
    }
   ],
   "source": [
    "no_unknown_df1['PERSON_TYPE'].unique()"
   ]
  },
  {
   "cell_type": "markdown",
   "metadata": {},
   "source": [
    "속성 중분류"
   ]
  },
  {
   "cell_type": "code",
   "execution_count": 202,
   "metadata": {
    "collapsed": true
   },
   "outputs": [],
   "source": [
    "prep_df01 = no_unknown_df1.copy()"
   ]
  },
  {
   "cell_type": "code",
   "execution_count": 203,
   "metadata": {
    "collapsed": true
   },
   "outputs": [],
   "source": [
    "# MOVEMENT_CODE\n",
    "\n",
    "# Moving Constant Speed or Accelerating - 1,2,4\n",
    "# Slowing or Stopping - 3\n",
    "# Changing Lanes - 7\n",
    "# Backing - 11\n",
    "# Making Left Turn - 12\n",
    "# Making Right Turn - 13,14\n",
    "# Making U Turn - 15\n",
    "# Skidding -16\n",
    "# Negotiating a Curve - 20\n",
    "# etc. - 5,6,8,9,10,17,18,19\n",
    "\n",
    "\n",
    "movement_code_list = list(prep_df01['MOVEMENT_CODE'])\n",
    "\n",
    "\n",
    "movement_dir = []\n",
    "for i in movement_code_list:\n",
    "    if i == 1 or i == 2 or i == 4:\n",
    "        movement_dir.append(\"Moving Constant Speed or Accelerating\")\n",
    "    elif i == 3:\n",
    "        movement_dir.append(\"Slowing or Stopping\")\n",
    "    elif i == 7:\n",
    "        movement_dir.append(\"Changing Lanes\")\n",
    "    elif i == 12:\n",
    "        movement_dir.append(\"Making Left Turn\")\n",
    "    elif i == 13 or i == 14:\n",
    "        movement_dir.append(\"Making Right Turn\")\n",
    "    elif i == 15:\n",
    "        movement_dir.append(\"Making U Turn\")\n",
    "    elif i == 16:\n",
    "        movement_dir.append(\"Skidding\")\n",
    "    elif i == 20.03:\n",
    "        movement_dir.append(\"Negotiating a Curve\")\n",
    "    elif i == 5 or i == 6 or i == 8 or i == 9 or i == 10 or i == 11 or i == 17 or i == 18.07 or i == 19.07: \n",
    "        movement_dir.append(\"etc.\")\n",
    "    \n",
    "\n",
    "prep_df03 = prep_df01.copy()\n",
    "\n",
    "prep_df03 = prep_df03.drop(['MOVEMENT_CODE'], axis=1)\n",
    "prep_df03['MOVEMENT_CODE'] = movement_dir\n",
    "#prep_df03"
   ]
  },
  {
   "cell_type": "code",
   "execution_count": 204,
   "metadata": {},
   "outputs": [
    {
     "data": {
      "text/plain": [
       "Counter({'Changing Lanes': 1699,\n",
       "         'Making Left Turn': 5712,\n",
       "         'Making Right Turn': 1389,\n",
       "         'Making U Turn': 435,\n",
       "         'Moving Constant Speed or Accelerating': 40342,\n",
       "         'Negotiating a Curve': 221,\n",
       "         'Skidding': 909,\n",
       "         'Slowing or Stopping': 15882,\n",
       "         'etc.': 9724})"
      ]
     },
     "execution_count": 204,
     "metadata": {},
     "output_type": "execute_result"
    }
   ],
   "source": [
    "import collections\n",
    "collections.Counter(prep_df03['MOVEMENT_CODE'])"
   ]
  },
  {
   "cell_type": "code",
   "execution_count": 205,
   "metadata": {
    "collapsed": true,
    "scrolled": true
   },
   "outputs": [],
   "source": [
    "# BODY_TYPE_CODE\n",
    "\n",
    "# motorcycle or low speed vehicle - 1,19, 24.88, 26.88\n",
    "# car - 2,3,4\n",
    "# van or light truck - 5,8,20,21, 22.05, 23.08, \n",
    "# heavy truck - 6,7\n",
    "# bus - 8,10,11,12, 25.88\n",
    "# public vehicle/NE - 14,16,18\n",
    "# public vehicle/E - 13,15,17\n",
    "# offroad vehicle - 9, 27.88\n",
    "\n",
    "body_type_code_list = list(prep_df03['BODY_TYPE_CODE'])\n",
    "\n",
    "body_type_dir = []\n",
    "\n",
    "for i in body_type_code_list:\n",
    "    if i == 1 or i == 19 or i == 24.88 or i == 26.88:\n",
    "        body_type_dir.append(\"Motorcycle or Low speed vehicle\")\n",
    "    elif i == 2 or i == 3 or i == 4:\n",
    "        body_type_dir.append(\"Car\")\n",
    "    elif i == 5 or i == 8 or i == 20 or i == 21 or i == 22.05 or i == 23.08:\n",
    "        body_type_dir.append(\"Van or Light Truck\")\n",
    "    elif i == 6 or i == 7:\n",
    "        body_type_dir.append(\"Medium or Heavy Truck\")\n",
    "    elif i == 10 or i == 11 or i == 12 or i == 25.88:\n",
    "        body_type_dir.append(\"Bus\")\n",
    "    elif i == 14 or i == 16 or i == 18:\n",
    "        body_type_dir.append(\"Public Vehicle/NE\")\n",
    "    elif i == 13 or i == 15 or i == 17:\n",
    "        body_type_dir.append(\"Public Vehicle/E\")\n",
    "    elif i == 9 or i == 27.88:\n",
    "        body_type_dir.append(\"Offraod Vehicle\")\n",
    "        \n",
    "prep_df04 = prep_df03.copy()\n",
    "\n",
    "prep_df04 = prep_df04.drop(['BODY_TYPE_CODE'], axis=1)\n",
    "prep_df04['BODY_TYPE_CODE'] = body_type_dir\n",
    "#prep_df04\n"
   ]
  },
  {
   "cell_type": "code",
   "execution_count": 206,
   "metadata": {
    "collapsed": true
   },
   "outputs": [],
   "source": [
    "# WEATHER_CODE\n",
    "\n",
    "# Clear or Cloudy - 6,7\n",
    "# Visuality Limited - 2,3,8,9,10,11,12\n",
    "# Severe Winds - 5\n",
    "\n",
    "weather_list = list(prep_df03['WEATHER_CODE'])\n",
    "\n",
    "weather_code_dir = []\n",
    "\n",
    "for i in weather_list:\n",
    "    if i == 5:\n",
    "        weather_code_dir.append('Severe Winds')\n",
    "    elif i == 6.01 or i == 7.01:\n",
    "        weather_code_dir.append('Clear or Cloudy')\n",
    "    else:\n",
    "        weather_code_dir.append('Visuality Limited')\n",
    "        \n",
    "prep_df05 = prep_df04.copy()\n",
    "\n",
    "prep_df05 = prep_df05.drop(['WEATHER_CODE'], axis=1)\n",
    "prep_df05['WEATHER_CODE'] = weather_code_dir\n",
    "#prep_df05"
   ]
  },
  {
   "cell_type": "code",
   "execution_count": 207,
   "metadata": {
    "collapsed": true
   },
   "outputs": [],
   "source": [
    "# SURF_COND_CODE\n",
    "\n",
    "# good - 2\n",
    "# bad - 1,3,4,5,6,7,8,9\n",
    "\n",
    "surf_cond_list = list(prep_df05['SURF_COND_CODE'])\n",
    "\n",
    "surf_cond_dir = []\n",
    "\n",
    "for i in surf_cond_list:\n",
    "    if i == 2:\n",
    "        surf_cond_dir.append(0)\n",
    "    else:\n",
    "        surf_cond_dir.append(2 ** (1/2))\n",
    "    \n",
    "        \n",
    "prep_df06 = prep_df05.copy()\n",
    "\n",
    "prep_df06 = prep_df06.drop(['SURF_COND_CODE'], axis=1)\n",
    "prep_df06['SURF_COND_CODE'] = surf_cond_dir\n",
    "#prep_df06"
   ]
  },
  {
   "cell_type": "code",
   "execution_count": 208,
   "metadata": {
    "collapsed": true
   },
   "outputs": [],
   "source": [
    "# RD_DIV_CODE\n",
    "\n",
    "rd_div_list = list(prep_df06['RD_DIV_CODE'])\n",
    "\n",
    "rd_div_dir = []\n",
    "\n",
    "for i in rd_div_list:\n",
    "    if i == 1 or i == 5.01:\n",
    "        rd_div_dir.append(\"Two-way, Not Divided\")\n",
    "    elif i == 2:\n",
    "        rd_div_dir.append(\"One-way Trafficway\")\n",
    "    elif i == 3:\n",
    "        rd_div_dir.append(\"Two-way, Divided, Unprotected (painted >4 feet) Median\")\n",
    "    elif i == 4:\n",
    "        rd_div_dir.append(\"Two-way, Divided, Positive Median Barrier\")\n",
    "        \n",
    "        \n",
    "prep_df07 = prep_df06.copy()\n",
    "\n",
    "prep_df07 = prep_df07.drop(['RD_DIV_CODE'], axis=1)\n",
    "prep_df07['RD_DIV_CODE'] = rd_div_dir\n",
    "#prep_df07"
   ]
  },
  {
   "cell_type": "code",
   "execution_count": 209,
   "metadata": {
    "collapsed": true
   },
   "outputs": [],
   "source": [
    "# LIGHT_CODE\n",
    "\n",
    "light_code_list = list(prep_df07['LIGHT_CODE'])\n",
    "\n",
    "light_code_dir = []\n",
    "\n",
    "for i in light_code_list:\n",
    "    if i == 1:\n",
    "        light_code_dir.append(\"Daylight\")\n",
    "    elif i == 3:\n",
    "        light_code_dir.append(\"Dark Lights On\")\n",
    "    elif i == 4:\n",
    "        light_code_dir.append(\"Dark No Lights\")\n",
    "    elif i == 5.02 or i == 6.02 or i == 7.88:\n",
    "        light_code_dir.append(\"etc.\")\n",
    " \n",
    "        \n",
    "prep_df08 = prep_df07.copy()\n",
    "\n",
    "prep_df08 = prep_df08.drop(['LIGHT_CODE'], axis=1)\n",
    "prep_df08['LIGHT_CODE'] = light_code_dir\n",
    "#prep_df08"
   ]
  },
  {
   "cell_type": "code",
   "execution_count": 210,
   "metadata": {
    "collapsed": true,
    "scrolled": true
   },
   "outputs": [],
   "source": [
    "# LANE_CODE\n",
    "\n",
    "lane_code_list = list(prep_df08['LANE_CODE'])\n",
    "\n",
    "lane_code_dir = []\n",
    "\n",
    "for i in lane_code_list:\n",
    "    if i == 1:\n",
    "        lane_code_dir.append(\"Right Turn Lane\")\n",
    "    elif i == 2:\n",
    "        lane_code_dir.append(\"Left Turn Lane\")\n",
    "    elif i == 3:\n",
    "        lane_code_dir.append(\"Acceleration Lane\")\n",
    "    elif i == 4:\n",
    "        lane_code_dir.append(\"Deceleration Lane\")\n",
    "    elif i == 5 or i == 6 or i == 7 or i == 8 or i == 9 or i == 10 or i == 11 or i == 12 or i == 13:\n",
    "        lane_code_dir.append(\"etc.\")\n",
    " \n",
    "        \n",
    "prep_df09 = prep_df08.copy()\n",
    "\n",
    "prep_df09 = prep_df09.drop(['LANE_CODE'], axis=1)\n",
    "prep_df09['LANE_CODE'] = lane_code_dir\n",
    "#prep_df09"
   ]
  },
  {
   "cell_type": "code",
   "execution_count": 211,
   "metadata": {
    "collapsed": true
   },
   "outputs": [],
   "source": [
    "# JUNCTION_CODE\n",
    "\n",
    "junction_code_list = list(prep_df09['JUNCTION_CODE'])\n",
    "\n",
    "junction_code_dir = []\n",
    "\n",
    "for i in junction_code_list:\n",
    "    if i == 1:\n",
    "        junction_code_dir.append(\"Non Intersection\")\n",
    "    elif i == 2 or i == 3:\n",
    "        junction_code_dir.append(\"Intersection\")\n",
    "    elif i == 4:\n",
    "        junction_code_dir.append(\"Driveway Alley Access Related\")\n",
    "    elif i == 5.01 or i == 6.01:\n",
    "        junction_code_dir.append(\"Interchange or Crossover Related\")\n",
    "    elif i == 7.01 or i == 8.04 or i == 9.04 or i == 10.04:\n",
    "        junction_code_dir.append(\"etc.\")\n",
    "         \n",
    "prep_df10 = prep_df09.copy()\n",
    "\n",
    "prep_df10 = prep_df10.drop(['JUNCTION_CODE'], axis=1)\n",
    "prep_df10['JUNCTION_CODE'] = junction_code_dir\n",
    "#prep_df10"
   ]
  },
  {
   "cell_type": "code",
   "execution_count": 212,
   "metadata": {
    "collapsed": true
   },
   "outputs": [],
   "source": [
    "# COLLISION_TYPE_CODE\n",
    "\n",
    "# Opposite Direction - 1,2,6,15\n",
    "# Same Direction Rear End - 3,4,5\n",
    "# Same Direction Cut in - 7,8,9,10\n",
    "# Angle Meets - 11,12,13,14\n",
    "# Single Vehicle - 17\n",
    "\n",
    "\n",
    "col_type_code_list = list(prep_df10['COLLISION_TYPE_CODE'])\n",
    "\n",
    "col_type_code_dir = []\n",
    "\n",
    "for i in col_type_code_list:\n",
    "    if i == 1 or i == 2 or i == 6 or i == 15:\n",
    "        col_type_code_dir.append(\"Opposite Direction\")\n",
    "    elif i == 3 or i == 4 or i == 5:\n",
    "        col_type_code_dir.append(\"Same Direction Rear End\")\n",
    "    elif i == 7 or i == 8 or i == 9 or i == 10:\n",
    "        col_type_code_dir.append(\"Same Direction Cut in\")\n",
    "    elif i == 11 or i == 12 or i == 13 or i == 14:\n",
    "        col_type_code_dir.append(\"Angle Meets\")\n",
    "    elif i == 17:\n",
    "        col_type_code_dir.append(\"Single Vehicle\")\n",
    "        \n",
    "prep_df11 = prep_df10.copy()\n",
    "\n",
    "prep_df11 = prep_df11.drop(['COLLISION_TYPE_CODE'], axis=1)\n",
    "prep_df11['COLLISION_TYPE_CODE'] = col_type_code_dir\n",
    "#prep_df11"
   ]
  },
  {
   "cell_type": "code",
   "execution_count": 213,
   "metadata": {
    "collapsed": true
   },
   "outputs": [],
   "source": [
    "# SAF_EQUIP_CODE\n",
    "\n",
    "# None - 1\n",
    "# Belt - 11,12,13\n",
    "# Child Restraint - 14, 15.14, 16.14, 17.14, 18.14\n",
    "# Bike protection - 21,22,23, 24.88, 25.88, 26.88\n",
    "# Air Bag - 31, 32\n",
    "\n",
    "saf_equip_code_list = list(prep_df11['SAF_EQUIP_CODE'])\n",
    "\n",
    "saf_equip_code_dir = []\n",
    "\n",
    "for i in saf_equip_code_list:\n",
    "    if i == 1:\n",
    "        saf_equip_code_dir.append(\"None\")\n",
    "    elif i == 11 or i == 12 or i == 13:\n",
    "        saf_equip_code_dir.append(\"Belt\")\n",
    "    elif i == 14 or i == 15.14 or i == 16.14 or i == 17.14 or i == 18.14:\n",
    "        saf_equip_code_dir.append(\"Child Restraints\")\n",
    "    elif i == 21 or i == 22 or i == 23 or i == 24.88 or i == 25.88 or i == 26.88:\n",
    "        saf_equip_code_dir.append(\"Bike Protection\")\n",
    "    elif i == 31 or i == 32:\n",
    "        saf_equip_code_dir.append(\"Air Bag\")\n",
    "   \n",
    "    \n",
    " \n",
    "        \n",
    "prep_df12 = prep_df11.copy()\n",
    "\n",
    "prep_df12 = prep_df12.drop(['SAF_EQUIP_CODE'], axis=1)\n",
    "prep_df12['SAF_EQUIP_CODE'] = saf_equip_code_dir\n",
    "#prep_df12"
   ]
  },
  {
   "cell_type": "code",
   "execution_count": 214,
   "metadata": {
    "collapsed": true
   },
   "outputs": [],
   "source": [
    "# SEX_CODE\n",
    "\n",
    "def sex_code(i):\n",
    "    if i['SEX_CODE'] == 'M':\n",
    "        val = 2 ** (1/2)\n",
    "    else:\n",
    "        val = 0\n",
    "    return val\n",
    "\n",
    "prep_df13 = prep_df12.copy()\n",
    "prep_df13['SEX_CODE_M'] = prep_df13.apply(sex_code, axis=1)\n",
    "prep_df13 = prep_df13.drop('SEX_CODE', axis=1)\n",
    "#prep_df13\n",
    "\n",
    "# C_M_ZONE_FLAG\n",
    "\n",
    "def c_m_zone_flag(row):\n",
    "    if row['C_M_ZONE_FLAG'] == 'Y':\n",
    "        val = 2 ** (1/2)\n",
    "    else:\n",
    "        val = 0\n",
    "    return val\n",
    "\n",
    "prep_df13['C_M_ZONE_FLAG'] = prep_df13.apply(c_m_zone_flag, axis=1)\n",
    "#prep_df13"
   ]
  },
  {
   "cell_type": "code",
   "execution_count": 215,
   "metadata": {
    "collapsed": true
   },
   "outputs": [],
   "source": [
    "# SIGNAL_FLAG\n",
    "\n",
    "def signal_flag(i):\n",
    "    if i['SIGNAL_FLAG'] == 'Y':\n",
    "        j = 2 ** (1/2)\n",
    "    else:\n",
    "        j = 0\n",
    "    return j\n",
    "\n",
    "prep_df14 = prep_df13.copy()\n",
    "prep_df14 = prep_df14.drop('SIGNAL_FLAG', axis=1)\n",
    "prep_df14['SIGNAL_FLAG'] = prep_df13.apply(signal_flag, axis=1)\n",
    "#prep_df14"
   ]
  },
  {
   "cell_type": "code",
   "execution_count": 216,
   "metadata": {},
   "outputs": [
    {
     "data": {
      "text/plain": [
       "24"
      ]
     },
     "execution_count": 216,
     "metadata": {},
     "output_type": "execute_result"
    }
   ],
   "source": [
    "# TIME - 요일, 시간\n",
    "\n",
    "import datetime\n",
    "import time\n",
    "import numpy as np\n",
    "from bisect import bisect\n",
    "\n",
    "weekday_list = list(map(lambda x : (datetime.datetime.strptime(x, \"%Y-%m-%d %H:%M:%S\").timetuple().tm_wday),prep_df14['TIME']))\n",
    "a1 = pd.Series(weekday_list)\n",
    "\n",
    "hours_list = list(map(lambda x : (datetime.datetime.strptime(x, \"%Y-%m-%d %H:%M:%S\").timetuple().tm_hour),prep_df14['TIME']))\n",
    "a2 = pd.Series(hours_list)\n",
    "\n",
    "weekday_time = ['WEEKDAY_NON_RUSH_HOUR','WEEKDAY_RUSH_HOUR','WEEKDAY_NON_RUSH_HOUR','WEEKDAY_RUSH_HOUR','WEEKDAY_NON_RUSH_HOUR']\n",
    "weekday_breakpoint = [7,10,17,20]\n",
    "\n",
    "named_hours = []\n",
    "for i in range(len(weekday_list)):\n",
    "    if weekday_list[i] == 0 or weekday_list[i] == 6:\n",
    "        named_hours.append('WEEKEND')\n",
    "    else:\n",
    "        named_hours.append(weekday_time[bisect(weekday_breakpoint, hours_list[i])])\n",
    "        \n",
    "prep_df15 = prep_df14.copy()\n",
    "prep_df15['TIME_bin'] = named_hours\n",
    "#prep_df15 = prep_df15.drop('TIME', axis=1)\n",
    "\n",
    "\n",
    "prep_df15.loc[:,['TIME','TIME_bin']]\n",
    "\n",
    "prep_df15 = prep_df15.drop('TIME', axis=1)\n",
    "len(prep_df15.columns)"
   ]
  },
  {
   "cell_type": "code",
   "execution_count": 217,
   "metadata": {},
   "outputs": [
    {
     "data": {
      "text/plain": [
       "Counter({'WEEKDAY_NON_RUSH_HOUR': 35981,\n",
       "         'WEEKDAY_RUSH_HOUR': 21791,\n",
       "         'WEEKEND': 18541})"
      ]
     },
     "execution_count": 217,
     "metadata": {},
     "output_type": "execute_result"
    }
   ],
   "source": [
    "import collections\n",
    "collections.Counter(prep_df15['TIME_bin'])"
   ]
  },
  {
   "cell_type": "code",
   "execution_count": 218,
   "metadata": {},
   "outputs": [
    {
     "data": {
      "text/plain": [
       "\"                                                                    \\n['Other Vehicle','Parked Vehicle','Pedestrian','Bicycle','Other Pedalcycle','Other Conveyance','Railway Train','Animal','Fixed Object',\\n'Other Object','Overturn','Spilled Cargo','Jackknife','Units Separated','Other Non Collision','Off Road','Downhill Roadway',\\n'Explosion or Fire','Backing','U-turn','Immersion','Fell Jumped from Motor Vehicle','Thrown or Falling Object']\\n\""
      ]
     },
     "execution_count": 218,
     "metadata": {},
     "output_type": "execute_result"
    }
   ],
   "source": [
    "# HARM_EVENT_CODE\n",
    "\n",
    "prep_df16 = prep_df15.copy()\n",
    "\n",
    "HARM_EVENT_CODE_list= list(map(lambda x : float(format(x, '.2f')) ,sorted(prep_df15['HARM_EVENT_CODE'].unique())))\n",
    "\n",
    "\n",
    "# [0] Other Vehicle - Other Vehicle\n",
    "# [1] Pedestrian or Bicycle - Pedestrian, Bicycle, Other Pedalcycle, Other Conveyance\n",
    "# [2] Fixed Object - Fixed Object\n",
    "# [3] Not Fixed Object - Parked Vehicle, Animal, Other Object, Spilled Cargo, Units Separated, Thrown or Falling Object \n",
    "# [4] Lost Control - Overturn, Off Road, Downhill Roadway, Immersion, Fell Jumped from Motor Vehicle\n",
    "# [5] etc. - Railway Train, Jackknife, Other Non Collision, Explosion or Fire, Backing, U-turn\n",
    "\n",
    "merged_HEC_list = ['Other Vehicle', 'Pedestrian or Bicycle', 'Fixed Object', 'Not Fixed Object', 'Lost Control', 'etc.']\n",
    "\n",
    "prep_df16['HARM_EVENT_CODE'] = prep_df16['HARM_EVENT_CODE'].replace(HARM_EVENT_CODE_list,\n",
    "                            [merged_HEC_list[0], merged_HEC_list[3], merged_HEC_list[1], merged_HEC_list[1], merged_HEC_list[1], \n",
    "                             merged_HEC_list[1], merged_HEC_list[5], merged_HEC_list[3], merged_HEC_list[2], merged_HEC_list[3], \n",
    "                             merged_HEC_list[4], merged_HEC_list[3], merged_HEC_list[5], merged_HEC_list[3], merged_HEC_list[5], \n",
    "                             merged_HEC_list[4], merged_HEC_list[4], merged_HEC_list[5], merged_HEC_list[5], merged_HEC_list[5], \n",
    "                             merged_HEC_list[4], merged_HEC_list[4], merged_HEC_list[3]])\n",
    "\n",
    "'''                                                                    \n",
    "['Other Vehicle','Parked Vehicle','Pedestrian','Bicycle','Other Pedalcycle','Other Conveyance','Railway Train','Animal','Fixed Object',\n",
    "'Other Object','Overturn','Spilled Cargo','Jackknife','Units Separated','Other Non Collision','Off Road','Downhill Roadway',\n",
    "'Explosion or Fire','Backing','U-turn','Immersion','Fell Jumped from Motor Vehicle','Thrown or Falling Object']\n",
    "'''\n",
    "\n",
    "#prep_df16"
   ]
  },
  {
   "cell_type": "code",
   "execution_count": 219,
   "metadata": {
    "collapsed": true,
    "scrolled": true
   },
   "outputs": [],
   "source": [
    "#list(prep_df16.columns)"
   ]
  },
  {
   "cell_type": "code",
   "execution_count": 220,
   "metadata": {},
   "outputs": [
    {
     "data": {
      "text/plain": [
       "Index(['CONDITION_CODE', 'FAULT_FLAG', 'INJ_SEVER_CODE', 'PERSON_ID',\n",
       "       'PERSON_TYPE', 'REPORT_NO', 'VEHICLE_ID', 'C_M_ZONE_FLAG',\n",
       "       'RD_COND_CODE', 'HARM_EVENT_CODE', 'AGE', 'MOVEMENT_CODE',\n",
       "       'BODY_TYPE_CODE', 'WEATHER_CODE', 'SURF_COND_CODE', 'RD_DIV_CODE',\n",
       "       'LIGHT_CODE', 'LANE_CODE', 'JUNCTION_CODE', 'COLLISION_TYPE_CODE',\n",
       "       'SAF_EQUIP_CODE', 'SEX_CODE_M', 'SIGNAL_FLAG', 'TIME_bin'],\n",
       "      dtype='object')"
      ]
     },
     "execution_count": 220,
     "metadata": {},
     "output_type": "execute_result"
    }
   ],
   "source": [
    "# CONDITION_CODE\n",
    "\n",
    "# Apparently Normal - 1\n",
    "# Drunken or Drugged - 2,3\n",
    "# Asleep or Fainted or Ill - 6,7,8\n",
    "# Physical or Psychological Handicaps - 4,5,9,10\n",
    "\n",
    "CONDITION_CODE_list= list(map(lambda x : float(format(x, '.2f')) ,sorted(prep_df16['CONDITION_CODE'].unique())))\n",
    "\n",
    "prep_df17 = prep_df16.copy()\n",
    "\n",
    "prep_df17['CONDITION_CODE'] = prep_df17['CONDITION_CODE'].replace(CONDITION_CODE_list,['Apparently Normal','Drunken or Drugged',\n",
    "'Drunken or Drugged','Physical or Psychological Handicaps','Physical or Psychological Handicaps','Asleep or Fainted or Ill','Asleep or Fainted or Ill','Asleep or Fainted or Ill','Physical or Psychological Handicaps',\n",
    "'Physical or Psychological Handicaps'])\n",
    "\n",
    "prep_df17.columns"
   ]
  },
  {
   "cell_type": "code",
   "execution_count": 221,
   "metadata": {
    "collapsed": true
   },
   "outputs": [],
   "source": [
    "# RD_COND_CODE\n",
    "\n",
    "# 'No Defects' - 1\n",
    "# 'Defects on Surface' - 2,3,4,5\n",
    "# 'Obstruction' - 6,7,8\n",
    "\n",
    "RD_COND_CODE_list= list(map(lambda x : float(format(x, '.2f')) ,sorted(prep_df16['RD_COND_CODE'].unique())))\n",
    "\n",
    "prep_df18 = prep_df17.copy()\n",
    "\n",
    "prep_df18['RD_COND_CODE'] = prep_df18['RD_COND_CODE'].replace(RD_COND_CODE_list,['No Defects',\n",
    "                                                                                'Shoulder Defect',\n",
    "                                                                                'Defects on Surface',\n",
    "                                                                                'Defects on Surface',\n",
    "                                                                                'Defects on Surface',\n",
    "                                                                                'Obstruction',\n",
    "                                                                                'Obstruction',\n",
    "                                                                                'Obstruction'])\n",
    "\n",
    "#prep_df18"
   ]
  },
  {
   "cell_type": "code",
   "execution_count": 222,
   "metadata": {},
   "outputs": [
    {
     "data": {
      "text/plain": [
       "Counter({'Defects on Surface': 760,\n",
       "         'No Defects': 75379,\n",
       "         'Obstruction': 70,\n",
       "         'Shoulder Defect': 104})"
      ]
     },
     "execution_count": 222,
     "metadata": {},
     "output_type": "execute_result"
    }
   ],
   "source": [
    "import collections\n",
    "collections.Counter(prep_df18['RD_COND_CODE'])"
   ]
  },
  {
   "cell_type": "code",
   "execution_count": 223,
   "metadata": {},
   "outputs": [
    {
     "data": {
      "text/plain": [
       "Index(['CONDITION_CODE', 'FAULT_FLAG', 'INJ_SEVER_CODE', 'PERSON_ID',\n",
       "       'PERSON_TYPE', 'REPORT_NO', 'VEHICLE_ID', 'C_M_ZONE_FLAG',\n",
       "       'RD_COND_CODE', 'HARM_EVENT_CODE', 'AGE', 'MOVEMENT_CODE',\n",
       "       'BODY_TYPE_CODE', 'WEATHER_CODE', 'SURF_COND_CODE', 'RD_DIV_CODE',\n",
       "       'LIGHT_CODE', 'LANE_CODE', 'JUNCTION_CODE', 'COLLISION_TYPE_CODE',\n",
       "       'SAF_EQUIP_CODE', 'SEX_CODE_M', 'SIGNAL_FLAG', 'TIME_bin'],\n",
       "      dtype='object')"
      ]
     },
     "execution_count": 223,
     "metadata": {},
     "output_type": "execute_result"
    }
   ],
   "source": [
    "prep_df19 = prep_df18.copy()\n",
    "prep_df19 = prep_df19[prep_df19['FAULT_FLAG']=='Y']\n",
    "\n",
    "prep_df19.columns"
   ]
  },
  {
   "cell_type": "code",
   "execution_count": 224,
   "metadata": {
    "collapsed": true,
    "scrolled": true
   },
   "outputs": [],
   "source": [
    "prep_df19_key_df = prep_df19[key_list]\n",
    "#prep_df19_key_df"
   ]
  },
  {
   "cell_type": "code",
   "execution_count": 225,
   "metadata": {
    "collapsed": true
   },
   "outputs": [],
   "source": [
    "# import pickle\n",
    "import pickle\n",
    "\n",
    "# save as DataFrame\n",
    "with open('prep_df19(not dummied).pkl', 'wb') as f:\n",
    "    pickle.dump(prep_df19, f)\n",
    "    \n",
    "with open('prep_df19_key_df.pkl', 'wb') as f:\n",
    "    pickle.dump(prep_df19_key_df, f)\n",
    "    \n",
    "with open('inj_point_df3.pkl', 'wb') as f:\n",
    "    pickle.dump(inj_point_df3, f)\n",
    "\n",
    "# load as DataFrame\n",
    "# with open('save_df.pkl', 'rb') as f:\n",
    "# loaded_df =pickle.load(f)   \n",
    "   \n"
   ]
  },
  {
   "cell_type": "markdown",
   "metadata": {},
   "source": [
    "savepoint"
   ]
  },
  {
   "cell_type": "code",
   "execution_count": 226,
   "metadata": {
    "collapsed": true
   },
   "outputs": [],
   "source": [
    "# 분석직전부터\n",
    "\n",
    "import numpy as np\n",
    "import pandas as pd\n",
    "import matplotlib.pyplot as plt\n",
    "\n",
    "import pickle\n",
    "\n",
    "with open('prep_df19(not dummied).pkl', 'rb') as f:\n",
    "    prep_df19 = pickle.load(f)   \n",
    "    \n",
    "with open('prep_df19_key_df.pkl', 'rb') as f:\n",
    "    prep_df19_key_df = pickle.load(f)\n",
    "    \n",
    "with open('inj_point_df3.pkl', 'rb') as f:\n",
    "    inj_point_df3 = pickle.load(f)\n",
    "    \n",
    "key_list = ['PERSON_ID','PERSON_TYPE','REPORT_NO','VEHICLE_ID','FAULT_FLAG','INJ_SEVER_CODE']"
   ]
  },
  {
   "cell_type": "code",
   "execution_count": 227,
   "metadata": {
    "collapsed": true,
    "scrolled": true
   },
   "outputs": [],
   "source": [
    "prep_df19a = prep_df19.set_index('REPORT_NO').sort_index()\n",
    "#prep_df18a"
   ]
  },
  {
   "cell_type": "code",
   "execution_count": 228,
   "metadata": {
    "collapsed": true
   },
   "outputs": [],
   "source": [
    "prep_df_merged = pd.merge(prep_df19a, inj_point_df3, how='inner',\n",
    "                          left_index=True, right_index=True)\n",
    "#prep_df_merged"
   ]
  },
  {
   "cell_type": "code",
   "execution_count": 229,
   "metadata": {
    "collapsed": true
   },
   "outputs": [],
   "source": [
    "prep_df_merged1 = prep_df_merged.reset_index()\n",
    "#prep_df_merged1"
   ]
  },
  {
   "cell_type": "code",
   "execution_count": 61,
   "metadata": {
    "collapsed": true
   },
   "outputs": [],
   "source": [
    "# 엑셀파일로 내보내기\n",
    "\n",
    "from pandas import ExcelWriter\n",
    "\n",
    "writer = ExcelWriter\n",
    "\n",
    "with ExcelWriter('Crash_Qtr_2015_prep_df_merged(not dummied).xlsx') as writer:\n",
    "    prep_df_merged1.to_excel(writer, sheet_name=\"prep_df_merged\", index=False)\n"
   ]
  },
  {
   "cell_type": "markdown",
   "metadata": {},
   "source": [
    "분석"
   ]
  },
  {
   "cell_type": "code",
   "execution_count": 230,
   "metadata": {
    "collapsed": true
   },
   "outputs": [],
   "source": [
    "prep_df20 = prep_df19.copy()\n",
    "prep_df20 = prep_df20.set_index('REPORT_NO').sort_index()\n",
    "key_list2 = key_list.copy()\n",
    "key_list2.remove('REPORT_NO')\n",
    "prep_df20 = prep_df20.drop(key_list2, axis=1)\n",
    "\n",
    "#prep_df20\n"
   ]
  },
  {
   "cell_type": "code",
   "execution_count": 231,
   "metadata": {},
   "outputs": [
    {
     "data": {
      "text/plain": [
       "['CONDITION_CODE',\n",
       " 'C_M_ZONE_FLAG',\n",
       " 'RD_COND_CODE',\n",
       " 'HARM_EVENT_CODE',\n",
       " 'AGE',\n",
       " 'MOVEMENT_CODE',\n",
       " 'BODY_TYPE_CODE',\n",
       " 'WEATHER_CODE',\n",
       " 'SURF_COND_CODE',\n",
       " 'RD_DIV_CODE',\n",
       " 'LIGHT_CODE',\n",
       " 'LANE_CODE',\n",
       " 'JUNCTION_CODE',\n",
       " 'COLLISION_TYPE_CODE',\n",
       " 'SAF_EQUIP_CODE',\n",
       " 'SEX_CODE_M',\n",
       " 'SIGNAL_FLAG',\n",
       " 'TIME_bin']"
      ]
     },
     "execution_count": 231,
     "metadata": {},
     "output_type": "execute_result"
    }
   ],
   "source": [
    "list(prep_df20.columns)"
   ]
  },
  {
   "cell_type": "code",
   "execution_count": 232,
   "metadata": {
    "collapsed": true,
    "scrolled": true
   },
   "outputs": [],
   "source": [
    "# 나이 정규화\n",
    "\n",
    "prep_df20['AGE'] = (prep_df20['AGE']-prep_df20['AGE'].min()) / (prep_df20['AGE'].max()-prep_df20['AGE'].min()) * (2 ** (1/2))\n",
    "#prep_df20\n",
    "\n",
    "# preprocessed_df[scaling_cols] = (preprocessed_df[scaling_cols]-preprocessed_df[scaling_cols].min()) / (preprocessed_df[scaling_cols].max()-preprocessed_df[scaling_cols].min())"
   ]
  },
  {
   "cell_type": "code",
   "execution_count": 233,
   "metadata": {
    "collapsed": true
   },
   "outputs": [],
   "source": [
    "# 변인 분류\n",
    "\n",
    "details = ['JUNCTION_CODE', 'MOVEMENT_CODE', 'COLLISION_TYPE_CODE']\n",
    "\n",
    "circumstances = ['WEATHER_CODE', 'LIGHT_CODE',\n",
    " 'RD_COND_CODE', 'SURF_COND_CODE',\n",
    " 'C_M_ZONE_FLAG', 'RD_DIV_CODE',\n",
    " 'TIME_bin', 'BODY_TYPE_CODE',\n",
    " 'CONDITION_CODE', 'SEX_CODE_M', 'AGE', 'SAF_EQUIP_CODE']\n",
    "\n",
    "# lane code는 못씀\n",
    "\n",
    "#human_factor = ['CONDITION_CODE', 'AGE', 'SAF_EQUIP_CODE', \n",
    "#                'SEX_CODE_M','BODY_TYPE_CODE']\n",
    "\n",
    "prep_df_c = prep_df20.loc[:, circumstances]\n",
    "prep_df_d = prep_df20.loc[:, details]\n",
    "#prep_df_h = prep_df20.loc[:, human_factor]"
   ]
  },
  {
   "cell_type": "markdown",
   "metadata": {},
   "source": [
    "여기"
   ]
  },
  {
   "cell_type": "code",
   "execution_count": 234,
   "metadata": {
    "collapsed": true,
    "scrolled": true
   },
   "outputs": [],
   "source": [
    "# 더미변수 생성\n",
    "\n",
    "d_dummy_cols = ['JUNCTION_CODE', 'MOVEMENT_CODE', 'COLLISION_TYPE_CODE']\n",
    "\n",
    "c_dummy_cols = ['WEATHER_CODE', 'LIGHT_CODE',\n",
    " 'RD_COND_CODE',\n",
    " 'RD_DIV_CODE',\n",
    " 'TIME_bin', 'BODY_TYPE_CODE',\n",
    " 'CONDITION_CODE', 'SAF_EQUIP_CODE']\n",
    "\n",
    "prep_df_d_dum = pd.get_dummies(prep_df_d, columns=d_dummy_cols)\n",
    "prep_df_c_dum = pd.get_dummies(prep_df_c, columns=c_dummy_cols)"
   ]
  },
  {
   "cell_type": "code",
   "execution_count": 235,
   "metadata": {
    "collapsed": true
   },
   "outputs": [],
   "source": [
    "# import pickle\n",
    "import pickle\n",
    "\n",
    "# save as DataFrame\n",
    "with open('prep_df_c_dum.pkl', 'wb') as f:\n",
    "    pickle.dump(prep_df_c_dum, f)\n",
    "    \n",
    "with open('prep_df_d_dum.pkl', 'wb') as f:\n",
    "    pickle.dump(prep_df_d_dum, f)\n",
    "    \n",
    "#with open('prep_df_h.pkl', 'wb') as f:\n",
    "#    pickle.dump(prep_df_h, f)"
   ]
  },
  {
   "cell_type": "markdown",
   "metadata": {},
   "source": [
    "checkpoint_dum"
   ]
  },
  {
   "cell_type": "code",
   "execution_count": 15,
   "metadata": {
    "collapsed": true
   },
   "outputs": [],
   "source": [
    "import numpy as np\n",
    "import pandas as pd\n",
    "import matplotlib.pyplot as plt\n",
    "import pickle\n",
    "\n",
    "with open('prep_df19(not dummied).pkl', 'rb') as f:\n",
    "    prep_df19 = pickle.load(f)   \n",
    "    \n",
    "with open('prep_df19_key_df.pkl', 'rb') as f:\n",
    "    prep_df19_key_df = pickle.load(f)\n",
    "    \n",
    "with open('inj_point_df3.pkl', 'rb') as f:\n",
    "    inj_point_df3 = pickle.load(f)\n",
    "\n",
    "# 더미처리된 파일들\n",
    "\n",
    "with open('prep_df_c_dum.pkl', 'rb') as f:\n",
    "    prep_df_c_dum = pickle.load(f)\n",
    "    \n",
    "with open('prep_df_d_dum.pkl', 'rb') as f:\n",
    "    prep_df_d_dum = pickle.load(f)\n",
    "    \n",
    "key_list = ['PERSON_ID','PERSON_TYPE','REPORT_NO','VEHICLE_ID','FAULT_FLAG','INJ_SEVER_CODE']\n",
    "    \n",
    "#with open('prep_df_h.pkl', 'rb') as f:\n",
    "#    prep_df_h = pickle.load(f)"
   ]
  },
  {
   "cell_type": "markdown",
   "metadata": {},
   "source": [
    "군집화 - 계층군집화"
   ]
  },
  {
   "cell_type": "code",
   "execution_count": 2,
   "metadata": {
    "collapsed": true
   },
   "outputs": [],
   "source": [
    "from scipy.cluster.hierarchy import linkage"
   ]
  },
  {
   "cell_type": "code",
   "execution_count": 3,
   "metadata": {
    "collapsed": true
   },
   "outputs": [],
   "source": [
    "Z = linkage(prep_df_d_dum.sample(n=24000), 'ward')\n",
    "#Z = linkage(prep_df_d_dum.sample(n=17000), 'ward')"
   ]
  },
  {
   "cell_type": "code",
   "execution_count": 4,
   "metadata": {
    "collapsed": true
   },
   "outputs": [],
   "source": [
    "from matplotlib import pyplot as plt\n",
    "from scipy.cluster.hierarchy import dendrogram"
   ]
  },
  {
   "cell_type": "code",
   "execution_count": 5,
   "metadata": {
    "collapsed": true
   },
   "outputs": [],
   "source": [
    "def plot_dendrogram(title, xlabel, ylabel, Z, max_d=None, p=30):\n",
    "    # Settings for figure\n",
    "    plt.figure(figsize=(25, 10))\n",
    "    plt.title('Hierarchical Clustering Dendrogram')\n",
    "    plt.xlabel('Index of Data')\n",
    "    plt.ylabel('Distance')\n",
    "\n",
    "    # Dendrogram\n",
    "    if p:\n",
    "        dendrogram(\n",
    "            Z,\n",
    "            leaf_rotation=90.,  # rotates the x axis labels\n",
    "            leaf_font_size=8.,  # font size for the x axis labels\n",
    "            truncate_mode = 'lastp',\n",
    "            p=p,\n",
    "            show_contracted = True\n",
    "        )\n",
    "    else:\n",
    "        dendrogram(\n",
    "            Z,\n",
    "            leaf_rotation=90.,  # rotates the x axis labels\n",
    "            leaf_font_size=8.,  # font size for the x axis labels\n",
    "        )\n",
    "    \n",
    "    if max_d:\n",
    "        plt.axhline(y=max_d, c='k')\n",
    "    plt.show()"
   ]
  },
  {
   "cell_type": "code",
   "execution_count": 6,
   "metadata": {
    "scrolled": false
   },
   "outputs": [
    {
     "data": {
      "image/png": "[encoded data removed]",
      "text/plain": [
       "<matplotlib.figure.Figure at 0x17bbaeb3780>"
      ]
     },
     "metadata": {},
     "output_type": "display_data"
    }
   ],
   "source": [
    "import sys\n",
    "sys.setrecursionlimit(30000)\n",
    "\n",
    "plot_dendrogram('Hierarhcical Clustering Dendrogram', 'Index of Data', 'Distance', \n",
    "                Z)"
   ]
  },
  {
   "cell_type": "code",
   "execution_count": 7,
   "metadata": {
    "collapsed": true
   },
   "outputs": [],
   "source": [
    "from scipy.cluster.hierarchy import fcluster"
   ]
  },
  {
   "cell_type": "code",
   "execution_count": 106,
   "metadata": {},
   "outputs": [
    {
     "data": {
      "text/plain": [
       "Counter({1: 2992, 2: 7295, 3: 6028, 4: 7685})"
      ]
     },
     "execution_count": 106,
     "metadata": {},
     "output_type": "execute_result"
    }
   ],
   "source": [
    "# cluster 개수 결정\n",
    "\n",
    "import collections\n",
    "\n",
    "big_labels = fcluster(Z, 76, criterion = 'distance');big_labels\n",
    "acc_counts = collections.Counter(big_labels)\n",
    "acc_counts"
   ]
  },
  {
   "cell_type": "code",
   "execution_count": 107,
   "metadata": {},
   "outputs": [
    {
     "data": {
      "text/plain": [
       "array([3, 3, 4, ..., 3, 4, 1], dtype=int32)"
      ]
     },
     "execution_count": 107,
     "metadata": {},
     "output_type": "execute_result"
    }
   ],
   "source": [
    "big_labels"
   ]
  },
  {
   "cell_type": "code",
   "execution_count": 108,
   "metadata": {
    "scrolled": true
   },
   "outputs": [
    {
     "data": {
      "text/plain": [
       "24000"
      ]
     },
     "execution_count": 108,
     "metadata": {},
     "output_type": "execute_result"
    }
   ],
   "source": [
    "len(list(big_labels))"
   ]
  },
  {
   "cell_type": "markdown",
   "metadata": {},
   "source": [
    "KMeans"
   ]
  },
  {
   "cell_type": "code",
   "execution_count": 109,
   "metadata": {
    "collapsed": true
   },
   "outputs": [],
   "source": [
    "# import packages\n",
    "\n",
    "from sklearn.cluster import KMeans"
   ]
  },
  {
   "cell_type": "code",
   "execution_count": 110,
   "metadata": {
    "collapsed": true
   },
   "outputs": [],
   "source": [
    "# set parameter\n",
    "#n_cluster = n\n",
    "\n",
    "n_cluster = len(acc_counts)"
   ]
  },
  {
   "cell_type": "code",
   "execution_count": 111,
   "metadata": {
    "collapsed": true
   },
   "outputs": [],
   "source": [
    "# set model\n",
    "\n",
    "kmeans_model = KMeans(n_clusters= n_cluster, max_iter=1500)"
   ]
  },
  {
   "cell_type": "code",
   "execution_count": 112,
   "metadata": {},
   "outputs": [
    {
     "data": {
      "text/plain": [
       "KMeans(algorithm='auto', copy_x=True, init='k-means++', max_iter=1500,\n",
       "    n_clusters=4, n_init=10, n_jobs=1, precompute_distances='auto',\n",
       "    random_state=None, tol=0.0001, verbose=0)"
      ]
     },
     "execution_count": 112,
     "metadata": {},
     "output_type": "execute_result"
    }
   ],
   "source": [
    "# fit to model\n",
    "\n",
    "kmeans_model.fit(prep_df_d_dum)"
   ]
  },
  {
   "cell_type": "code",
   "execution_count": 113,
   "metadata": {},
   "outputs": [
    {
     "data": {
      "text/plain": [
       "array([3, 0, 1, ..., 1, 1, 1])"
      ]
     },
     "execution_count": 113,
     "metadata": {},
     "output_type": "execute_result"
    }
   ],
   "source": [
    "# predicted_labels\n",
    "\n",
    "kmeans_model.labels_\n",
    "\n",
    "#kmeans_model.fit_predict(preprocessed_df)"
   ]
  },
  {
   "cell_type": "code",
   "execution_count": 114,
   "metadata": {},
   "outputs": [
    {
     "data": {
      "text/plain": [
       "0.16666666666666757"
      ]
     },
     "execution_count": 114,
     "metadata": {},
     "output_type": "execute_result"
    }
   ],
   "source": [
    "# cluster_centers_\n",
    "\n",
    "kmeans_model.cluster_centers_.mean()"
   ]
  },
  {
   "cell_type": "code",
   "execution_count": 115,
   "metadata": {},
   "outputs": [
    {
     "name": "stdout",
     "output_type": "stream",
     "text": [
      "<class 'pandas.core.frame.DataFrame'>\n",
      "Index: 43924 entries, AA00330004 to ZW01690008\n",
      "Data columns (total 2 columns):\n",
      "LATITUDE     43924 non-null float64\n",
      "LONGITUDE    43924 non-null float64\n",
      "dtypes: float64(2)\n",
      "memory usage: 2.3+ MB\n"
     ]
    }
   ],
   "source": [
    "df_raw.info()"
   ]
  },
  {
   "cell_type": "code",
   "execution_count": 122,
   "metadata": {
    "collapsed": true
   },
   "outputs": [],
   "source": [
    "# 분석용 엑셀파일에 라벨 붙이기\n",
    "\n",
    "input_file = \"Crash_Qtr_2015_prep_df_merged(not dummied).xlsx\"\n",
    "df_merged = pd.read_excel(input_file)\n",
    "\n",
    "df_merged = df_merged.set_index('REPORT_NO').sort_index()\n",
    "df_merged['big_label'] = kmeans_model.labels_ + 1\n",
    "df_merged_labeled = df_merged.copy()"
   ]
  },
  {
   "cell_type": "code",
   "execution_count": 123,
   "metadata": {
    "scrolled": true
   },
   "outputs": [
    {
     "data": {
      "text/html": [
       "<div>\n",
       "<style>\n",
       "    .dataframe thead tr:only-child th {\n",
       "        text-align: right;\n",
       "    }\n",
       "\n",
       "    .dataframe thead th {\n",
       "        text-align: left;\n",
       "    }\n",
       "\n",
       "    .dataframe tbody tr th {\n",
       "        vertical-align: top;\n",
       "    }\n",
       "</style>\n",
       "<table border=\"1\" class=\"dataframe\">\n",
       "  <thead>\n",
       "    <tr style=\"text-align: right;\">\n",
       "      <th></th>\n",
       "      <th>INJ_FW_MEAN</th>\n",
       "      <th>INJ_F_COUNT</th>\n",
       "      <th>ACC_POINT</th>\n",
       "    </tr>\n",
       "    <tr>\n",
       "      <th>big_label</th>\n",
       "      <th></th>\n",
       "      <th></th>\n",
       "      <th></th>\n",
       "    </tr>\n",
       "  </thead>\n",
       "  <tbody>\n",
       "    <tr>\n",
       "      <th>1</th>\n",
       "      <td>0.778857</td>\n",
       "      <td>14834</td>\n",
       "      <td>11553.561111</td>\n",
       "    </tr>\n",
       "    <tr>\n",
       "      <th>2</th>\n",
       "      <td>0.981644</td>\n",
       "      <td>10742</td>\n",
       "      <td>10544.816667</td>\n",
       "    </tr>\n",
       "    <tr>\n",
       "      <th>3</th>\n",
       "      <td>0.544705</td>\n",
       "      <td>6500</td>\n",
       "      <td>3540.583333</td>\n",
       "    </tr>\n",
       "    <tr>\n",
       "      <th>4</th>\n",
       "      <td>0.399294</td>\n",
       "      <td>5419</td>\n",
       "      <td>2163.776190</td>\n",
       "    </tr>\n",
       "  </tbody>\n",
       "</table>\n",
       "</div>"
      ],
      "text/plain": [
       "           INJ_FW_MEAN  INJ_F_COUNT     ACC_POINT\n",
       "big_label                                        \n",
       "1             0.778857        14834  11553.561111\n",
       "2             0.981644        10742  10544.816667\n",
       "3             0.544705         6500   3540.583333\n",
       "4             0.399294         5419   2163.776190"
      ]
     },
     "execution_count": 123,
     "metadata": {},
     "output_type": "execute_result"
    }
   ],
   "source": [
    "# 분석용 엑셀파일에서 사고유형별 ACC_POINT 구하기\n",
    "\n",
    "acc_type_rank_df_mean = df_merged_labeled[['big_label','INJ_FW_MEAN']].groupby('big_label').mean()\n",
    "\n",
    "\n",
    "acc_type_rank_df_count = df_merged_labeled[['big_label','INJ_F_COUNT']].groupby('big_label').count()\n",
    "\n",
    "acc_type_rank_df = acc_type_rank_df_mean.copy()\n",
    "acc_type_rank_df['INJ_F_COUNT'] = acc_type_rank_df_count.INJ_F_COUNT\n",
    "acc_type_rank_df['ACC_POINT'] = acc_type_rank_df.INJ_FW_MEAN * acc_type_rank_df.INJ_F_COUNT\n",
    "acc_type_rank_df"
   ]
  },
  {
   "cell_type": "code",
   "execution_count": 124,
   "metadata": {},
   "outputs": [
    {
     "name": "stderr",
     "output_type": "stream",
     "text": [
      "C:\\Users\\User\\Anaconda3\\lib\\site-packages\\IPython\\core\\interactiveshell.py:2717: DtypeWarning: Columns (5,7,10,14,26,27,32,33,41,42,45,50,51,52,53,55,66,69,70,71,74,76,79,81,84,86) have mixed types. Specify dtype option on import or set low_memory=False.\n",
      "  interactivity=interactivity, compiler=compiler, result=result)\n"
     ]
    }
   ],
   "source": [
    "### 위치정보 붙여서 저장하기\n",
    "\n",
    "input_file_raw = \"maryland_1year_nan_contained.csv\"\n",
    "df_raw = pd.read_csv(input_file_raw)\n",
    "df_raw = df_raw[['REPORT_NO','LATITUDE','LONGITUDE']]\n",
    "df_raw = df_raw.dropna()\n",
    "df_raw = df_raw.set_index('REPORT_NO').sort_index()\n",
    "\n",
    "df_merged_labeled_loc = pd.merge(df_merged_labeled, df_raw, left_index=True, right_index=True, how='inner')\n",
    "\n",
    "df_merged_labeled = df_merged.reset_index()\n",
    "\n",
    "from pandas import ExcelWriter\n",
    "\n",
    "writer = ExcelWriter\n",
    "\n",
    "with ExcelWriter('Crash_Qtr_2015_prep_df_merged(not dummied)_labeled_withloc.xlsx') as writer:\n",
    "    df_merged_labeled.to_excel(writer, sheet_name=\"df_merged_labeled\", index=False)\n",
    "    df_merged_labeled_loc.to_excel(writer, sheet_name=\"df_merged_labeled_with_location\", index=False)\n",
    "    acc_type_rank_df.to_excel(writer, sheet_name=\"inj_eval_grouped\", index=False)\n"
   ]
  },
  {
   "cell_type": "markdown",
   "metadata": {},
   "source": [
    "dt 돌릴 df에도 같은 작업"
   ]
  },
  {
   "cell_type": "code",
   "execution_count": 125,
   "metadata": {
    "collapsed": true,
    "scrolled": true
   },
   "outputs": [],
   "source": [
    "prep_df_d_dum_labeled = prep_df_d_dum.copy()\n",
    "prep_df_d_dum_labeled['big_labels'] = kmeans_model.labels_+1\n",
    "#prep_df_d_dummied"
   ]
  },
  {
   "cell_type": "code",
   "execution_count": 23,
   "metadata": {
    "collapsed": true
   },
   "outputs": [],
   "source": [
    "# 라벨링된 df 저장\n",
    "\n",
    "# import pickle\n",
    "import pickle\n",
    "\n",
    "# save as DataFrame\n",
    "with open('prep_df_d_dum_labeled.pkl', 'wb') as f:\n",
    "    pickle.dump(prep_df_d_dum_labeled, f)\n",
    "    \n",
    "with open('prep_df_c_dum_labeled.pkl', 'wb') as f:\n",
    "    pickle.dump(prep_df_c_dum_labeled, f)"
   ]
  },
  {
   "cell_type": "code",
   "execution_count": 25,
   "metadata": {
    "collapsed": true
   },
   "outputs": [],
   "source": [
    "# 라벨링된 df 불러오기\n",
    "\n",
    "import numpy as np\n",
    "import pandas as pd\n",
    "import matplotlib.pyplot as plt\n",
    "\n",
    "import pickle\n",
    "\n",
    "with open('prep_df_d_dum_labeled.pkl', 'rb') as f:\n",
    "    prep_df_d_dum_labeled = pickle.load(f)\n",
    "    \n",
    "with open('prep_df_c_dum_labeled.pkl', 'rb') as f:\n",
    "    prep_df_c_dum_labeled = pickle.load(f)\n",
    "    \n"
   ]
  },
  {
   "cell_type": "code",
   "execution_count": 22,
   "metadata": {
    "scrolled": true
   },
   "outputs": [
    {
     "data": {
      "text/html": [
       "<div>\n",
       "<style>\n",
       "    .dataframe thead tr:only-child th {\n",
       "        text-align: right;\n",
       "    }\n",
       "\n",
       "    .dataframe thead th {\n",
       "        text-align: left;\n",
       "    }\n",
       "\n",
       "    .dataframe tbody tr th {\n",
       "        vertical-align: top;\n",
       "    }\n",
       "</style>\n",
       "<table border=\"1\" class=\"dataframe\">\n",
       "  <thead>\n",
       "    <tr style=\"text-align: right;\">\n",
       "      <th></th>\n",
       "      <th>SURF_COND_CODE</th>\n",
       "      <th>C_M_ZONE_FLAG</th>\n",
       "      <th>SEX_CODE_M</th>\n",
       "      <th>AGE</th>\n",
       "      <th>WEATHER_CODE_Clear or Cloudy</th>\n",
       "      <th>WEATHER_CODE_Severe Winds</th>\n",
       "      <th>WEATHER_CODE_Visuality Limited</th>\n",
       "      <th>LIGHT_CODE_Dark Lights On</th>\n",
       "      <th>LIGHT_CODE_Dark No Lights</th>\n",
       "      <th>LIGHT_CODE_Daylight</th>\n",
       "      <th>...</th>\n",
       "      <th>BODY_TYPE_CODE_Van or Light Truck</th>\n",
       "      <th>CONDITION_CODE_Apparently Normal</th>\n",
       "      <th>CONDITION_CODE_Asleep or Fainted or Ill</th>\n",
       "      <th>CONDITION_CODE_Drunken or Drugged</th>\n",
       "      <th>CONDITION_CODE_Physical or Psychological Handicaps</th>\n",
       "      <th>SAF_EQUIP_CODE_Belt</th>\n",
       "      <th>SAF_EQUIP_CODE_Bike Protection</th>\n",
       "      <th>SAF_EQUIP_CODE_Child Restraints</th>\n",
       "      <th>SAF_EQUIP_CODE_None</th>\n",
       "      <th>big_label</th>\n",
       "    </tr>\n",
       "    <tr>\n",
       "      <th>REPORT_NO</th>\n",
       "      <th></th>\n",
       "      <th></th>\n",
       "      <th></th>\n",
       "      <th></th>\n",
       "      <th></th>\n",
       "      <th></th>\n",
       "      <th></th>\n",
       "      <th></th>\n",
       "      <th></th>\n",
       "      <th></th>\n",
       "      <th></th>\n",
       "      <th></th>\n",
       "      <th></th>\n",
       "      <th></th>\n",
       "      <th></th>\n",
       "      <th></th>\n",
       "      <th></th>\n",
       "      <th></th>\n",
       "      <th></th>\n",
       "      <th></th>\n",
       "      <th></th>\n",
       "    </tr>\n",
       "  </thead>\n",
       "  <tbody>\n",
       "    <tr>\n",
       "      <th>AA00320001</th>\n",
       "      <td>0.000000</td>\n",
       "      <td>1.414214</td>\n",
       "      <td>0.000000</td>\n",
       "      <td>0.879106</td>\n",
       "      <td>1</td>\n",
       "      <td>0</td>\n",
       "      <td>0</td>\n",
       "      <td>0</td>\n",
       "      <td>0</td>\n",
       "      <td>1</td>\n",
       "      <td>...</td>\n",
       "      <td>1</td>\n",
       "      <td>1</td>\n",
       "      <td>0</td>\n",
       "      <td>0</td>\n",
       "      <td>0</td>\n",
       "      <td>1</td>\n",
       "      <td>0</td>\n",
       "      <td>0</td>\n",
       "      <td>0</td>\n",
       "      <td>4</td>\n",
       "    </tr>\n",
       "    <tr>\n",
       "      <th>AA0033000B</th>\n",
       "      <td>1.414214</td>\n",
       "      <td>1.414214</td>\n",
       "      <td>1.414214</td>\n",
       "      <td>0.133777</td>\n",
       "      <td>1</td>\n",
       "      <td>0</td>\n",
       "      <td>0</td>\n",
       "      <td>0</td>\n",
       "      <td>0</td>\n",
       "      <td>1</td>\n",
       "      <td>...</td>\n",
       "      <td>0</td>\n",
       "      <td>1</td>\n",
       "      <td>0</td>\n",
       "      <td>0</td>\n",
       "      <td>0</td>\n",
       "      <td>1</td>\n",
       "      <td>0</td>\n",
       "      <td>0</td>\n",
       "      <td>0</td>\n",
       "      <td>1</td>\n",
       "    </tr>\n",
       "    <tr>\n",
       "      <th>AA0034000H</th>\n",
       "      <td>0.000000</td>\n",
       "      <td>0.000000</td>\n",
       "      <td>1.414214</td>\n",
       "      <td>0.152888</td>\n",
       "      <td>1</td>\n",
       "      <td>0</td>\n",
       "      <td>0</td>\n",
       "      <td>0</td>\n",
       "      <td>0</td>\n",
       "      <td>0</td>\n",
       "      <td>...</td>\n",
       "      <td>0</td>\n",
       "      <td>1</td>\n",
       "      <td>0</td>\n",
       "      <td>0</td>\n",
       "      <td>0</td>\n",
       "      <td>1</td>\n",
       "      <td>0</td>\n",
       "      <td>0</td>\n",
       "      <td>0</td>\n",
       "      <td>2</td>\n",
       "    </tr>\n",
       "    <tr>\n",
       "      <th>AA00400005</th>\n",
       "      <td>1.414214</td>\n",
       "      <td>0.000000</td>\n",
       "      <td>1.414214</td>\n",
       "      <td>0.573330</td>\n",
       "      <td>0</td>\n",
       "      <td>0</td>\n",
       "      <td>1</td>\n",
       "      <td>0</td>\n",
       "      <td>0</td>\n",
       "      <td>1</td>\n",
       "      <td>...</td>\n",
       "      <td>0</td>\n",
       "      <td>1</td>\n",
       "      <td>0</td>\n",
       "      <td>0</td>\n",
       "      <td>0</td>\n",
       "      <td>1</td>\n",
       "      <td>0</td>\n",
       "      <td>0</td>\n",
       "      <td>0</td>\n",
       "      <td>2</td>\n",
       "    </tr>\n",
       "    <tr>\n",
       "      <th>AA00400008</th>\n",
       "      <td>0.000000</td>\n",
       "      <td>0.000000</td>\n",
       "      <td>0.000000</td>\n",
       "      <td>0.286665</td>\n",
       "      <td>1</td>\n",
       "      <td>0</td>\n",
       "      <td>0</td>\n",
       "      <td>0</td>\n",
       "      <td>0</td>\n",
       "      <td>1</td>\n",
       "      <td>...</td>\n",
       "      <td>0</td>\n",
       "      <td>1</td>\n",
       "      <td>0</td>\n",
       "      <td>0</td>\n",
       "      <td>0</td>\n",
       "      <td>1</td>\n",
       "      <td>0</td>\n",
       "      <td>0</td>\n",
       "      <td>0</td>\n",
       "      <td>3</td>\n",
       "    </tr>\n",
       "    <tr>\n",
       "      <th>AA0040000L</th>\n",
       "      <td>0.000000</td>\n",
       "      <td>0.000000</td>\n",
       "      <td>1.414214</td>\n",
       "      <td>0.114666</td>\n",
       "      <td>1</td>\n",
       "      <td>0</td>\n",
       "      <td>0</td>\n",
       "      <td>0</td>\n",
       "      <td>0</td>\n",
       "      <td>1</td>\n",
       "      <td>...</td>\n",
       "      <td>0</td>\n",
       "      <td>1</td>\n",
       "      <td>0</td>\n",
       "      <td>0</td>\n",
       "      <td>0</td>\n",
       "      <td>1</td>\n",
       "      <td>0</td>\n",
       "      <td>0</td>\n",
       "      <td>0</td>\n",
       "      <td>1</td>\n",
       "    </tr>\n",
       "    <tr>\n",
       "      <th>AA0040000M</th>\n",
       "      <td>0.000000</td>\n",
       "      <td>0.000000</td>\n",
       "      <td>0.000000</td>\n",
       "      <td>0.229332</td>\n",
       "      <td>1</td>\n",
       "      <td>0</td>\n",
       "      <td>0</td>\n",
       "      <td>0</td>\n",
       "      <td>0</td>\n",
       "      <td>1</td>\n",
       "      <td>...</td>\n",
       "      <td>0</td>\n",
       "      <td>1</td>\n",
       "      <td>0</td>\n",
       "      <td>0</td>\n",
       "      <td>0</td>\n",
       "      <td>1</td>\n",
       "      <td>0</td>\n",
       "      <td>0</td>\n",
       "      <td>0</td>\n",
       "      <td>1</td>\n",
       "    </tr>\n",
       "    <tr>\n",
       "      <th>AA0040000P</th>\n",
       "      <td>0.000000</td>\n",
       "      <td>0.000000</td>\n",
       "      <td>0.000000</td>\n",
       "      <td>0.019111</td>\n",
       "      <td>1</td>\n",
       "      <td>0</td>\n",
       "      <td>0</td>\n",
       "      <td>0</td>\n",
       "      <td>0</td>\n",
       "      <td>1</td>\n",
       "      <td>...</td>\n",
       "      <td>0</td>\n",
       "      <td>1</td>\n",
       "      <td>0</td>\n",
       "      <td>0</td>\n",
       "      <td>0</td>\n",
       "      <td>1</td>\n",
       "      <td>0</td>\n",
       "      <td>0</td>\n",
       "      <td>0</td>\n",
       "      <td>2</td>\n",
       "    </tr>\n",
       "    <tr>\n",
       "      <th>AA00720005</th>\n",
       "      <td>0.000000</td>\n",
       "      <td>1.414214</td>\n",
       "      <td>0.000000</td>\n",
       "      <td>0.305776</td>\n",
       "      <td>1</td>\n",
       "      <td>0</td>\n",
       "      <td>0</td>\n",
       "      <td>0</td>\n",
       "      <td>0</td>\n",
       "      <td>1</td>\n",
       "      <td>...</td>\n",
       "      <td>0</td>\n",
       "      <td>1</td>\n",
       "      <td>0</td>\n",
       "      <td>0</td>\n",
       "      <td>0</td>\n",
       "      <td>1</td>\n",
       "      <td>0</td>\n",
       "      <td>0</td>\n",
       "      <td>0</td>\n",
       "      <td>3</td>\n",
       "    </tr>\n",
       "    <tr>\n",
       "      <th>AA00720007</th>\n",
       "      <td>0.000000</td>\n",
       "      <td>0.000000</td>\n",
       "      <td>1.414214</td>\n",
       "      <td>0.649774</td>\n",
       "      <td>1</td>\n",
       "      <td>0</td>\n",
       "      <td>0</td>\n",
       "      <td>0</td>\n",
       "      <td>0</td>\n",
       "      <td>1</td>\n",
       "      <td>...</td>\n",
       "      <td>1</td>\n",
       "      <td>0</td>\n",
       "      <td>1</td>\n",
       "      <td>0</td>\n",
       "      <td>0</td>\n",
       "      <td>1</td>\n",
       "      <td>0</td>\n",
       "      <td>0</td>\n",
       "      <td>0</td>\n",
       "      <td>2</td>\n",
       "    </tr>\n",
       "    <tr>\n",
       "      <th>AA0072000B</th>\n",
       "      <td>0.000000</td>\n",
       "      <td>0.000000</td>\n",
       "      <td>1.414214</td>\n",
       "      <td>0.057333</td>\n",
       "      <td>1</td>\n",
       "      <td>0</td>\n",
       "      <td>0</td>\n",
       "      <td>0</td>\n",
       "      <td>0</td>\n",
       "      <td>1</td>\n",
       "      <td>...</td>\n",
       "      <td>0</td>\n",
       "      <td>1</td>\n",
       "      <td>0</td>\n",
       "      <td>0</td>\n",
       "      <td>0</td>\n",
       "      <td>1</td>\n",
       "      <td>0</td>\n",
       "      <td>0</td>\n",
       "      <td>0</td>\n",
       "      <td>4</td>\n",
       "    </tr>\n",
       "    <tr>\n",
       "      <th>AA0072000C</th>\n",
       "      <td>0.000000</td>\n",
       "      <td>0.000000</td>\n",
       "      <td>0.000000</td>\n",
       "      <td>0.057333</td>\n",
       "      <td>1</td>\n",
       "      <td>0</td>\n",
       "      <td>0</td>\n",
       "      <td>0</td>\n",
       "      <td>0</td>\n",
       "      <td>1</td>\n",
       "      <td>...</td>\n",
       "      <td>0</td>\n",
       "      <td>1</td>\n",
       "      <td>0</td>\n",
       "      <td>0</td>\n",
       "      <td>0</td>\n",
       "      <td>1</td>\n",
       "      <td>0</td>\n",
       "      <td>0</td>\n",
       "      <td>0</td>\n",
       "      <td>1</td>\n",
       "    </tr>\n",
       "    <tr>\n",
       "      <th>AA0072000D</th>\n",
       "      <td>0.000000</td>\n",
       "      <td>0.000000</td>\n",
       "      <td>1.414214</td>\n",
       "      <td>0.554219</td>\n",
       "      <td>1</td>\n",
       "      <td>0</td>\n",
       "      <td>0</td>\n",
       "      <td>0</td>\n",
       "      <td>0</td>\n",
       "      <td>1</td>\n",
       "      <td>...</td>\n",
       "      <td>1</td>\n",
       "      <td>1</td>\n",
       "      <td>0</td>\n",
       "      <td>0</td>\n",
       "      <td>0</td>\n",
       "      <td>1</td>\n",
       "      <td>0</td>\n",
       "      <td>0</td>\n",
       "      <td>0</td>\n",
       "      <td>1</td>\n",
       "    </tr>\n",
       "    <tr>\n",
       "      <th>AA0072000G</th>\n",
       "      <td>1.414214</td>\n",
       "      <td>0.000000</td>\n",
       "      <td>0.000000</td>\n",
       "      <td>0.324887</td>\n",
       "      <td>0</td>\n",
       "      <td>0</td>\n",
       "      <td>1</td>\n",
       "      <td>0</td>\n",
       "      <td>0</td>\n",
       "      <td>1</td>\n",
       "      <td>...</td>\n",
       "      <td>1</td>\n",
       "      <td>1</td>\n",
       "      <td>0</td>\n",
       "      <td>0</td>\n",
       "      <td>0</td>\n",
       "      <td>1</td>\n",
       "      <td>0</td>\n",
       "      <td>0</td>\n",
       "      <td>0</td>\n",
       "      <td>4</td>\n",
       "    </tr>\n",
       "    <tr>\n",
       "      <th>AA00730008</th>\n",
       "      <td>0.000000</td>\n",
       "      <td>0.000000</td>\n",
       "      <td>0.000000</td>\n",
       "      <td>0.477775</td>\n",
       "      <td>1</td>\n",
       "      <td>0</td>\n",
       "      <td>0</td>\n",
       "      <td>0</td>\n",
       "      <td>0</td>\n",
       "      <td>1</td>\n",
       "      <td>...</td>\n",
       "      <td>0</td>\n",
       "      <td>1</td>\n",
       "      <td>0</td>\n",
       "      <td>0</td>\n",
       "      <td>0</td>\n",
       "      <td>1</td>\n",
       "      <td>0</td>\n",
       "      <td>0</td>\n",
       "      <td>0</td>\n",
       "      <td>2</td>\n",
       "    </tr>\n",
       "    <tr>\n",
       "      <th>AA00730009</th>\n",
       "      <td>1.414214</td>\n",
       "      <td>0.000000</td>\n",
       "      <td>0.000000</td>\n",
       "      <td>0.019111</td>\n",
       "      <td>0</td>\n",
       "      <td>0</td>\n",
       "      <td>1</td>\n",
       "      <td>0</td>\n",
       "      <td>1</td>\n",
       "      <td>0</td>\n",
       "      <td>...</td>\n",
       "      <td>0</td>\n",
       "      <td>1</td>\n",
       "      <td>0</td>\n",
       "      <td>0</td>\n",
       "      <td>0</td>\n",
       "      <td>1</td>\n",
       "      <td>0</td>\n",
       "      <td>0</td>\n",
       "      <td>0</td>\n",
       "      <td>2</td>\n",
       "    </tr>\n",
       "    <tr>\n",
       "      <th>AA00740005</th>\n",
       "      <td>1.414214</td>\n",
       "      <td>0.000000</td>\n",
       "      <td>0.000000</td>\n",
       "      <td>1.031994</td>\n",
       "      <td>0</td>\n",
       "      <td>0</td>\n",
       "      <td>1</td>\n",
       "      <td>0</td>\n",
       "      <td>1</td>\n",
       "      <td>0</td>\n",
       "      <td>...</td>\n",
       "      <td>0</td>\n",
       "      <td>1</td>\n",
       "      <td>0</td>\n",
       "      <td>0</td>\n",
       "      <td>0</td>\n",
       "      <td>1</td>\n",
       "      <td>0</td>\n",
       "      <td>0</td>\n",
       "      <td>0</td>\n",
       "      <td>1</td>\n",
       "    </tr>\n",
       "    <tr>\n",
       "      <th>AA00750002</th>\n",
       "      <td>0.000000</td>\n",
       "      <td>1.414214</td>\n",
       "      <td>1.414214</td>\n",
       "      <td>0.076444</td>\n",
       "      <td>1</td>\n",
       "      <td>0</td>\n",
       "      <td>0</td>\n",
       "      <td>0</td>\n",
       "      <td>1</td>\n",
       "      <td>0</td>\n",
       "      <td>...</td>\n",
       "      <td>0</td>\n",
       "      <td>1</td>\n",
       "      <td>0</td>\n",
       "      <td>0</td>\n",
       "      <td>0</td>\n",
       "      <td>1</td>\n",
       "      <td>0</td>\n",
       "      <td>0</td>\n",
       "      <td>0</td>\n",
       "      <td>1</td>\n",
       "    </tr>\n",
       "    <tr>\n",
       "      <th>AA00750004</th>\n",
       "      <td>0.000000</td>\n",
       "      <td>1.414214</td>\n",
       "      <td>1.414214</td>\n",
       "      <td>0.802662</td>\n",
       "      <td>1</td>\n",
       "      <td>0</td>\n",
       "      <td>0</td>\n",
       "      <td>1</td>\n",
       "      <td>0</td>\n",
       "      <td>0</td>\n",
       "      <td>...</td>\n",
       "      <td>1</td>\n",
       "      <td>1</td>\n",
       "      <td>0</td>\n",
       "      <td>0</td>\n",
       "      <td>0</td>\n",
       "      <td>1</td>\n",
       "      <td>0</td>\n",
       "      <td>0</td>\n",
       "      <td>0</td>\n",
       "      <td>1</td>\n",
       "    </tr>\n",
       "    <tr>\n",
       "      <th>AA00790002</th>\n",
       "      <td>0.000000</td>\n",
       "      <td>0.000000</td>\n",
       "      <td>0.000000</td>\n",
       "      <td>0.420442</td>\n",
       "      <td>1</td>\n",
       "      <td>0</td>\n",
       "      <td>0</td>\n",
       "      <td>0</td>\n",
       "      <td>0</td>\n",
       "      <td>0</td>\n",
       "      <td>...</td>\n",
       "      <td>0</td>\n",
       "      <td>1</td>\n",
       "      <td>0</td>\n",
       "      <td>0</td>\n",
       "      <td>0</td>\n",
       "      <td>0</td>\n",
       "      <td>0</td>\n",
       "      <td>0</td>\n",
       "      <td>1</td>\n",
       "      <td>2</td>\n",
       "    </tr>\n",
       "    <tr>\n",
       "      <th>AA00790003</th>\n",
       "      <td>1.414214</td>\n",
       "      <td>0.000000</td>\n",
       "      <td>1.414214</td>\n",
       "      <td>0.191110</td>\n",
       "      <td>1</td>\n",
       "      <td>0</td>\n",
       "      <td>0</td>\n",
       "      <td>0</td>\n",
       "      <td>0</td>\n",
       "      <td>1</td>\n",
       "      <td>...</td>\n",
       "      <td>0</td>\n",
       "      <td>1</td>\n",
       "      <td>0</td>\n",
       "      <td>0</td>\n",
       "      <td>0</td>\n",
       "      <td>1</td>\n",
       "      <td>0</td>\n",
       "      <td>0</td>\n",
       "      <td>0</td>\n",
       "      <td>1</td>\n",
       "    </tr>\n",
       "    <tr>\n",
       "      <th>AA00790004</th>\n",
       "      <td>0.000000</td>\n",
       "      <td>0.000000</td>\n",
       "      <td>1.414214</td>\n",
       "      <td>0.038222</td>\n",
       "      <td>1</td>\n",
       "      <td>0</td>\n",
       "      <td>0</td>\n",
       "      <td>0</td>\n",
       "      <td>0</td>\n",
       "      <td>1</td>\n",
       "      <td>...</td>\n",
       "      <td>0</td>\n",
       "      <td>1</td>\n",
       "      <td>0</td>\n",
       "      <td>0</td>\n",
       "      <td>0</td>\n",
       "      <td>1</td>\n",
       "      <td>0</td>\n",
       "      <td>0</td>\n",
       "      <td>0</td>\n",
       "      <td>1</td>\n",
       "    </tr>\n",
       "    <tr>\n",
       "      <th>AA0085000F</th>\n",
       "      <td>0.000000</td>\n",
       "      <td>0.000000</td>\n",
       "      <td>1.414214</td>\n",
       "      <td>0.363109</td>\n",
       "      <td>1</td>\n",
       "      <td>0</td>\n",
       "      <td>0</td>\n",
       "      <td>0</td>\n",
       "      <td>0</td>\n",
       "      <td>1</td>\n",
       "      <td>...</td>\n",
       "      <td>1</td>\n",
       "      <td>1</td>\n",
       "      <td>0</td>\n",
       "      <td>0</td>\n",
       "      <td>0</td>\n",
       "      <td>1</td>\n",
       "      <td>0</td>\n",
       "      <td>0</td>\n",
       "      <td>0</td>\n",
       "      <td>2</td>\n",
       "    </tr>\n",
       "    <tr>\n",
       "      <th>AA0085000H</th>\n",
       "      <td>0.000000</td>\n",
       "      <td>1.414214</td>\n",
       "      <td>0.000000</td>\n",
       "      <td>0.210221</td>\n",
       "      <td>1</td>\n",
       "      <td>0</td>\n",
       "      <td>0</td>\n",
       "      <td>0</td>\n",
       "      <td>0</td>\n",
       "      <td>1</td>\n",
       "      <td>...</td>\n",
       "      <td>0</td>\n",
       "      <td>1</td>\n",
       "      <td>0</td>\n",
       "      <td>0</td>\n",
       "      <td>0</td>\n",
       "      <td>1</td>\n",
       "      <td>0</td>\n",
       "      <td>0</td>\n",
       "      <td>0</td>\n",
       "      <td>4</td>\n",
       "    </tr>\n",
       "    <tr>\n",
       "      <th>AA0085000J</th>\n",
       "      <td>0.000000</td>\n",
       "      <td>0.000000</td>\n",
       "      <td>0.000000</td>\n",
       "      <td>1.127549</td>\n",
       "      <td>1</td>\n",
       "      <td>0</td>\n",
       "      <td>0</td>\n",
       "      <td>0</td>\n",
       "      <td>0</td>\n",
       "      <td>1</td>\n",
       "      <td>...</td>\n",
       "      <td>0</td>\n",
       "      <td>1</td>\n",
       "      <td>0</td>\n",
       "      <td>0</td>\n",
       "      <td>0</td>\n",
       "      <td>1</td>\n",
       "      <td>0</td>\n",
       "      <td>0</td>\n",
       "      <td>0</td>\n",
       "      <td>2</td>\n",
       "    </tr>\n",
       "    <tr>\n",
       "      <th>AA0085000K</th>\n",
       "      <td>0.000000</td>\n",
       "      <td>0.000000</td>\n",
       "      <td>1.414214</td>\n",
       "      <td>0.343998</td>\n",
       "      <td>1</td>\n",
       "      <td>0</td>\n",
       "      <td>0</td>\n",
       "      <td>0</td>\n",
       "      <td>0</td>\n",
       "      <td>1</td>\n",
       "      <td>...</td>\n",
       "      <td>0</td>\n",
       "      <td>1</td>\n",
       "      <td>0</td>\n",
       "      <td>0</td>\n",
       "      <td>0</td>\n",
       "      <td>1</td>\n",
       "      <td>0</td>\n",
       "      <td>0</td>\n",
       "      <td>0</td>\n",
       "      <td>4</td>\n",
       "    </tr>\n",
       "    <tr>\n",
       "      <th>AA0085000L</th>\n",
       "      <td>0.000000</td>\n",
       "      <td>0.000000</td>\n",
       "      <td>0.000000</td>\n",
       "      <td>0.210221</td>\n",
       "      <td>1</td>\n",
       "      <td>0</td>\n",
       "      <td>0</td>\n",
       "      <td>0</td>\n",
       "      <td>0</td>\n",
       "      <td>1</td>\n",
       "      <td>...</td>\n",
       "      <td>0</td>\n",
       "      <td>1</td>\n",
       "      <td>0</td>\n",
       "      <td>0</td>\n",
       "      <td>0</td>\n",
       "      <td>1</td>\n",
       "      <td>0</td>\n",
       "      <td>0</td>\n",
       "      <td>0</td>\n",
       "      <td>3</td>\n",
       "    </tr>\n",
       "    <tr>\n",
       "      <th>AA0085000M</th>\n",
       "      <td>0.000000</td>\n",
       "      <td>0.000000</td>\n",
       "      <td>1.414214</td>\n",
       "      <td>0.382220</td>\n",
       "      <td>1</td>\n",
       "      <td>0</td>\n",
       "      <td>0</td>\n",
       "      <td>0</td>\n",
       "      <td>0</td>\n",
       "      <td>1</td>\n",
       "      <td>...</td>\n",
       "      <td>1</td>\n",
       "      <td>1</td>\n",
       "      <td>0</td>\n",
       "      <td>0</td>\n",
       "      <td>0</td>\n",
       "      <td>1</td>\n",
       "      <td>0</td>\n",
       "      <td>0</td>\n",
       "      <td>0</td>\n",
       "      <td>4</td>\n",
       "    </tr>\n",
       "    <tr>\n",
       "      <th>AA0085000P</th>\n",
       "      <td>0.000000</td>\n",
       "      <td>0.000000</td>\n",
       "      <td>1.414214</td>\n",
       "      <td>0.936439</td>\n",
       "      <td>1</td>\n",
       "      <td>0</td>\n",
       "      <td>0</td>\n",
       "      <td>0</td>\n",
       "      <td>0</td>\n",
       "      <td>1</td>\n",
       "      <td>...</td>\n",
       "      <td>0</td>\n",
       "      <td>1</td>\n",
       "      <td>0</td>\n",
       "      <td>0</td>\n",
       "      <td>0</td>\n",
       "      <td>1</td>\n",
       "      <td>0</td>\n",
       "      <td>0</td>\n",
       "      <td>0</td>\n",
       "      <td>2</td>\n",
       "    </tr>\n",
       "    <tr>\n",
       "      <th>AA0085000Q</th>\n",
       "      <td>0.000000</td>\n",
       "      <td>1.414214</td>\n",
       "      <td>1.414214</td>\n",
       "      <td>0.974661</td>\n",
       "      <td>1</td>\n",
       "      <td>0</td>\n",
       "      <td>0</td>\n",
       "      <td>0</td>\n",
       "      <td>0</td>\n",
       "      <td>1</td>\n",
       "      <td>...</td>\n",
       "      <td>1</td>\n",
       "      <td>1</td>\n",
       "      <td>0</td>\n",
       "      <td>0</td>\n",
       "      <td>0</td>\n",
       "      <td>1</td>\n",
       "      <td>0</td>\n",
       "      <td>0</td>\n",
       "      <td>0</td>\n",
       "      <td>4</td>\n",
       "    </tr>\n",
       "    <tr>\n",
       "      <th>...</th>\n",
       "      <td>...</td>\n",
       "      <td>...</td>\n",
       "      <td>...</td>\n",
       "      <td>...</td>\n",
       "      <td>...</td>\n",
       "      <td>...</td>\n",
       "      <td>...</td>\n",
       "      <td>...</td>\n",
       "      <td>...</td>\n",
       "      <td>...</td>\n",
       "      <td>...</td>\n",
       "      <td>...</td>\n",
       "      <td>...</td>\n",
       "      <td>...</td>\n",
       "      <td>...</td>\n",
       "      <td>...</td>\n",
       "      <td>...</td>\n",
       "      <td>...</td>\n",
       "      <td>...</td>\n",
       "      <td>...</td>\n",
       "      <td>...</td>\n",
       "    </tr>\n",
       "    <tr>\n",
       "      <th>ZW0130000G</th>\n",
       "      <td>0.000000</td>\n",
       "      <td>0.000000</td>\n",
       "      <td>1.414214</td>\n",
       "      <td>0.229332</td>\n",
       "      <td>1</td>\n",
       "      <td>0</td>\n",
       "      <td>0</td>\n",
       "      <td>0</td>\n",
       "      <td>0</td>\n",
       "      <td>1</td>\n",
       "      <td>...</td>\n",
       "      <td>1</td>\n",
       "      <td>1</td>\n",
       "      <td>0</td>\n",
       "      <td>0</td>\n",
       "      <td>0</td>\n",
       "      <td>1</td>\n",
       "      <td>0</td>\n",
       "      <td>0</td>\n",
       "      <td>0</td>\n",
       "      <td>1</td>\n",
       "    </tr>\n",
       "    <tr>\n",
       "      <th>ZW0130000J</th>\n",
       "      <td>0.000000</td>\n",
       "      <td>0.000000</td>\n",
       "      <td>0.000000</td>\n",
       "      <td>0.305776</td>\n",
       "      <td>1</td>\n",
       "      <td>0</td>\n",
       "      <td>0</td>\n",
       "      <td>0</td>\n",
       "      <td>0</td>\n",
       "      <td>1</td>\n",
       "      <td>...</td>\n",
       "      <td>0</td>\n",
       "      <td>1</td>\n",
       "      <td>0</td>\n",
       "      <td>0</td>\n",
       "      <td>0</td>\n",
       "      <td>1</td>\n",
       "      <td>0</td>\n",
       "      <td>0</td>\n",
       "      <td>0</td>\n",
       "      <td>2</td>\n",
       "    </tr>\n",
       "    <tr>\n",
       "      <th>ZW0130000M</th>\n",
       "      <td>0.000000</td>\n",
       "      <td>0.000000</td>\n",
       "      <td>1.414214</td>\n",
       "      <td>0.936439</td>\n",
       "      <td>1</td>\n",
       "      <td>0</td>\n",
       "      <td>0</td>\n",
       "      <td>0</td>\n",
       "      <td>0</td>\n",
       "      <td>1</td>\n",
       "      <td>...</td>\n",
       "      <td>1</td>\n",
       "      <td>1</td>\n",
       "      <td>0</td>\n",
       "      <td>0</td>\n",
       "      <td>0</td>\n",
       "      <td>1</td>\n",
       "      <td>0</td>\n",
       "      <td>0</td>\n",
       "      <td>0</td>\n",
       "      <td>2</td>\n",
       "    </tr>\n",
       "    <tr>\n",
       "      <th>ZW0130000N</th>\n",
       "      <td>0.000000</td>\n",
       "      <td>0.000000</td>\n",
       "      <td>1.414214</td>\n",
       "      <td>0.668885</td>\n",
       "      <td>1</td>\n",
       "      <td>0</td>\n",
       "      <td>0</td>\n",
       "      <td>0</td>\n",
       "      <td>0</td>\n",
       "      <td>1</td>\n",
       "      <td>...</td>\n",
       "      <td>1</td>\n",
       "      <td>1</td>\n",
       "      <td>0</td>\n",
       "      <td>0</td>\n",
       "      <td>0</td>\n",
       "      <td>1</td>\n",
       "      <td>0</td>\n",
       "      <td>0</td>\n",
       "      <td>0</td>\n",
       "      <td>3</td>\n",
       "    </tr>\n",
       "    <tr>\n",
       "      <th>ZW0130000P</th>\n",
       "      <td>0.000000</td>\n",
       "      <td>0.000000</td>\n",
       "      <td>1.414214</td>\n",
       "      <td>0.879106</td>\n",
       "      <td>1</td>\n",
       "      <td>0</td>\n",
       "      <td>0</td>\n",
       "      <td>0</td>\n",
       "      <td>0</td>\n",
       "      <td>1</td>\n",
       "      <td>...</td>\n",
       "      <td>0</td>\n",
       "      <td>1</td>\n",
       "      <td>0</td>\n",
       "      <td>0</td>\n",
       "      <td>0</td>\n",
       "      <td>1</td>\n",
       "      <td>0</td>\n",
       "      <td>0</td>\n",
       "      <td>0</td>\n",
       "      <td>2</td>\n",
       "    </tr>\n",
       "    <tr>\n",
       "      <th>ZW0131000C</th>\n",
       "      <td>1.414214</td>\n",
       "      <td>0.000000</td>\n",
       "      <td>1.414214</td>\n",
       "      <td>0.114666</td>\n",
       "      <td>1</td>\n",
       "      <td>0</td>\n",
       "      <td>0</td>\n",
       "      <td>0</td>\n",
       "      <td>1</td>\n",
       "      <td>0</td>\n",
       "      <td>...</td>\n",
       "      <td>1</td>\n",
       "      <td>1</td>\n",
       "      <td>0</td>\n",
       "      <td>0</td>\n",
       "      <td>0</td>\n",
       "      <td>1</td>\n",
       "      <td>0</td>\n",
       "      <td>0</td>\n",
       "      <td>0</td>\n",
       "      <td>2</td>\n",
       "    </tr>\n",
       "    <tr>\n",
       "      <th>ZW0134000L</th>\n",
       "      <td>0.000000</td>\n",
       "      <td>0.000000</td>\n",
       "      <td>0.000000</td>\n",
       "      <td>0.095555</td>\n",
       "      <td>1</td>\n",
       "      <td>0</td>\n",
       "      <td>0</td>\n",
       "      <td>0</td>\n",
       "      <td>0</td>\n",
       "      <td>1</td>\n",
       "      <td>...</td>\n",
       "      <td>0</td>\n",
       "      <td>1</td>\n",
       "      <td>0</td>\n",
       "      <td>0</td>\n",
       "      <td>0</td>\n",
       "      <td>1</td>\n",
       "      <td>0</td>\n",
       "      <td>0</td>\n",
       "      <td>0</td>\n",
       "      <td>4</td>\n",
       "    </tr>\n",
       "    <tr>\n",
       "      <th>ZW0134000M</th>\n",
       "      <td>0.000000</td>\n",
       "      <td>0.000000</td>\n",
       "      <td>0.000000</td>\n",
       "      <td>0.191110</td>\n",
       "      <td>1</td>\n",
       "      <td>0</td>\n",
       "      <td>0</td>\n",
       "      <td>0</td>\n",
       "      <td>1</td>\n",
       "      <td>0</td>\n",
       "      <td>...</td>\n",
       "      <td>0</td>\n",
       "      <td>1</td>\n",
       "      <td>0</td>\n",
       "      <td>0</td>\n",
       "      <td>0</td>\n",
       "      <td>1</td>\n",
       "      <td>0</td>\n",
       "      <td>0</td>\n",
       "      <td>0</td>\n",
       "      <td>1</td>\n",
       "    </tr>\n",
       "    <tr>\n",
       "      <th>ZW0134000N</th>\n",
       "      <td>0.000000</td>\n",
       "      <td>0.000000</td>\n",
       "      <td>1.414214</td>\n",
       "      <td>0.363109</td>\n",
       "      <td>1</td>\n",
       "      <td>0</td>\n",
       "      <td>0</td>\n",
       "      <td>0</td>\n",
       "      <td>1</td>\n",
       "      <td>0</td>\n",
       "      <td>...</td>\n",
       "      <td>0</td>\n",
       "      <td>1</td>\n",
       "      <td>0</td>\n",
       "      <td>0</td>\n",
       "      <td>0</td>\n",
       "      <td>1</td>\n",
       "      <td>0</td>\n",
       "      <td>0</td>\n",
       "      <td>0</td>\n",
       "      <td>2</td>\n",
       "    </tr>\n",
       "    <tr>\n",
       "      <th>ZW01380004</th>\n",
       "      <td>0.000000</td>\n",
       "      <td>0.000000</td>\n",
       "      <td>1.414214</td>\n",
       "      <td>0.057333</td>\n",
       "      <td>1</td>\n",
       "      <td>0</td>\n",
       "      <td>0</td>\n",
       "      <td>0</td>\n",
       "      <td>1</td>\n",
       "      <td>0</td>\n",
       "      <td>...</td>\n",
       "      <td>0</td>\n",
       "      <td>1</td>\n",
       "      <td>0</td>\n",
       "      <td>0</td>\n",
       "      <td>0</td>\n",
       "      <td>1</td>\n",
       "      <td>0</td>\n",
       "      <td>0</td>\n",
       "      <td>0</td>\n",
       "      <td>2</td>\n",
       "    </tr>\n",
       "    <tr>\n",
       "      <th>ZW01390003</th>\n",
       "      <td>0.000000</td>\n",
       "      <td>0.000000</td>\n",
       "      <td>1.414214</td>\n",
       "      <td>0.152888</td>\n",
       "      <td>1</td>\n",
       "      <td>0</td>\n",
       "      <td>0</td>\n",
       "      <td>1</td>\n",
       "      <td>0</td>\n",
       "      <td>0</td>\n",
       "      <td>...</td>\n",
       "      <td>0</td>\n",
       "      <td>0</td>\n",
       "      <td>0</td>\n",
       "      <td>1</td>\n",
       "      <td>0</td>\n",
       "      <td>1</td>\n",
       "      <td>0</td>\n",
       "      <td>0</td>\n",
       "      <td>0</td>\n",
       "      <td>2</td>\n",
       "    </tr>\n",
       "    <tr>\n",
       "      <th>ZW0139000F</th>\n",
       "      <td>0.000000</td>\n",
       "      <td>0.000000</td>\n",
       "      <td>1.414214</td>\n",
       "      <td>0.611552</td>\n",
       "      <td>1</td>\n",
       "      <td>0</td>\n",
       "      <td>0</td>\n",
       "      <td>0</td>\n",
       "      <td>1</td>\n",
       "      <td>0</td>\n",
       "      <td>...</td>\n",
       "      <td>1</td>\n",
       "      <td>1</td>\n",
       "      <td>0</td>\n",
       "      <td>0</td>\n",
       "      <td>0</td>\n",
       "      <td>1</td>\n",
       "      <td>0</td>\n",
       "      <td>0</td>\n",
       "      <td>0</td>\n",
       "      <td>2</td>\n",
       "    </tr>\n",
       "    <tr>\n",
       "      <th>ZW0139000H</th>\n",
       "      <td>0.000000</td>\n",
       "      <td>0.000000</td>\n",
       "      <td>1.414214</td>\n",
       "      <td>0.019111</td>\n",
       "      <td>1</td>\n",
       "      <td>0</td>\n",
       "      <td>0</td>\n",
       "      <td>0</td>\n",
       "      <td>1</td>\n",
       "      <td>0</td>\n",
       "      <td>...</td>\n",
       "      <td>1</td>\n",
       "      <td>1</td>\n",
       "      <td>0</td>\n",
       "      <td>0</td>\n",
       "      <td>0</td>\n",
       "      <td>1</td>\n",
       "      <td>0</td>\n",
       "      <td>0</td>\n",
       "      <td>0</td>\n",
       "      <td>2</td>\n",
       "    </tr>\n",
       "    <tr>\n",
       "      <th>ZW01410009</th>\n",
       "      <td>1.414214</td>\n",
       "      <td>0.000000</td>\n",
       "      <td>1.414214</td>\n",
       "      <td>0.038222</td>\n",
       "      <td>0</td>\n",
       "      <td>0</td>\n",
       "      <td>1</td>\n",
       "      <td>0</td>\n",
       "      <td>1</td>\n",
       "      <td>0</td>\n",
       "      <td>...</td>\n",
       "      <td>0</td>\n",
       "      <td>1</td>\n",
       "      <td>0</td>\n",
       "      <td>0</td>\n",
       "      <td>0</td>\n",
       "      <td>1</td>\n",
       "      <td>0</td>\n",
       "      <td>0</td>\n",
       "      <td>0</td>\n",
       "      <td>2</td>\n",
       "    </tr>\n",
       "    <tr>\n",
       "      <th>ZW0141000B</th>\n",
       "      <td>1.414214</td>\n",
       "      <td>0.000000</td>\n",
       "      <td>1.414214</td>\n",
       "      <td>0.229332</td>\n",
       "      <td>0</td>\n",
       "      <td>0</td>\n",
       "      <td>1</td>\n",
       "      <td>0</td>\n",
       "      <td>1</td>\n",
       "      <td>0</td>\n",
       "      <td>...</td>\n",
       "      <td>0</td>\n",
       "      <td>1</td>\n",
       "      <td>0</td>\n",
       "      <td>0</td>\n",
       "      <td>0</td>\n",
       "      <td>1</td>\n",
       "      <td>0</td>\n",
       "      <td>0</td>\n",
       "      <td>0</td>\n",
       "      <td>3</td>\n",
       "    </tr>\n",
       "    <tr>\n",
       "      <th>ZW0141000C</th>\n",
       "      <td>0.000000</td>\n",
       "      <td>0.000000</td>\n",
       "      <td>0.000000</td>\n",
       "      <td>0.038222</td>\n",
       "      <td>1</td>\n",
       "      <td>0</td>\n",
       "      <td>0</td>\n",
       "      <td>0</td>\n",
       "      <td>0</td>\n",
       "      <td>1</td>\n",
       "      <td>...</td>\n",
       "      <td>0</td>\n",
       "      <td>1</td>\n",
       "      <td>0</td>\n",
       "      <td>0</td>\n",
       "      <td>0</td>\n",
       "      <td>1</td>\n",
       "      <td>0</td>\n",
       "      <td>0</td>\n",
       "      <td>0</td>\n",
       "      <td>2</td>\n",
       "    </tr>\n",
       "    <tr>\n",
       "      <th>ZW0141000D</th>\n",
       "      <td>0.000000</td>\n",
       "      <td>0.000000</td>\n",
       "      <td>1.414214</td>\n",
       "      <td>0.057333</td>\n",
       "      <td>1</td>\n",
       "      <td>0</td>\n",
       "      <td>0</td>\n",
       "      <td>0</td>\n",
       "      <td>1</td>\n",
       "      <td>0</td>\n",
       "      <td>...</td>\n",
       "      <td>0</td>\n",
       "      <td>0</td>\n",
       "      <td>0</td>\n",
       "      <td>1</td>\n",
       "      <td>0</td>\n",
       "      <td>1</td>\n",
       "      <td>0</td>\n",
       "      <td>0</td>\n",
       "      <td>0</td>\n",
       "      <td>2</td>\n",
       "    </tr>\n",
       "    <tr>\n",
       "      <th>ZW0152000K</th>\n",
       "      <td>1.414214</td>\n",
       "      <td>0.000000</td>\n",
       "      <td>1.414214</td>\n",
       "      <td>0.649774</td>\n",
       "      <td>0</td>\n",
       "      <td>0</td>\n",
       "      <td>1</td>\n",
       "      <td>0</td>\n",
       "      <td>0</td>\n",
       "      <td>1</td>\n",
       "      <td>...</td>\n",
       "      <td>1</td>\n",
       "      <td>1</td>\n",
       "      <td>0</td>\n",
       "      <td>0</td>\n",
       "      <td>0</td>\n",
       "      <td>1</td>\n",
       "      <td>0</td>\n",
       "      <td>0</td>\n",
       "      <td>0</td>\n",
       "      <td>2</td>\n",
       "    </tr>\n",
       "    <tr>\n",
       "      <th>ZW0152000M</th>\n",
       "      <td>0.000000</td>\n",
       "      <td>0.000000</td>\n",
       "      <td>1.414214</td>\n",
       "      <td>0.783551</td>\n",
       "      <td>1</td>\n",
       "      <td>0</td>\n",
       "      <td>0</td>\n",
       "      <td>0</td>\n",
       "      <td>0</td>\n",
       "      <td>1</td>\n",
       "      <td>...</td>\n",
       "      <td>1</td>\n",
       "      <td>1</td>\n",
       "      <td>0</td>\n",
       "      <td>0</td>\n",
       "      <td>0</td>\n",
       "      <td>1</td>\n",
       "      <td>0</td>\n",
       "      <td>0</td>\n",
       "      <td>0</td>\n",
       "      <td>2</td>\n",
       "    </tr>\n",
       "    <tr>\n",
       "      <th>ZW01660008</th>\n",
       "      <td>1.414214</td>\n",
       "      <td>0.000000</td>\n",
       "      <td>0.000000</td>\n",
       "      <td>0.554219</td>\n",
       "      <td>0</td>\n",
       "      <td>0</td>\n",
       "      <td>1</td>\n",
       "      <td>0</td>\n",
       "      <td>0</td>\n",
       "      <td>1</td>\n",
       "      <td>...</td>\n",
       "      <td>0</td>\n",
       "      <td>1</td>\n",
       "      <td>0</td>\n",
       "      <td>0</td>\n",
       "      <td>0</td>\n",
       "      <td>1</td>\n",
       "      <td>0</td>\n",
       "      <td>0</td>\n",
       "      <td>0</td>\n",
       "      <td>1</td>\n",
       "    </tr>\n",
       "    <tr>\n",
       "      <th>ZW01660009</th>\n",
       "      <td>1.414214</td>\n",
       "      <td>0.000000</td>\n",
       "      <td>1.414214</td>\n",
       "      <td>0.133777</td>\n",
       "      <td>1</td>\n",
       "      <td>0</td>\n",
       "      <td>0</td>\n",
       "      <td>0</td>\n",
       "      <td>0</td>\n",
       "      <td>0</td>\n",
       "      <td>...</td>\n",
       "      <td>1</td>\n",
       "      <td>1</td>\n",
       "      <td>0</td>\n",
       "      <td>0</td>\n",
       "      <td>0</td>\n",
       "      <td>1</td>\n",
       "      <td>0</td>\n",
       "      <td>0</td>\n",
       "      <td>0</td>\n",
       "      <td>2</td>\n",
       "    </tr>\n",
       "    <tr>\n",
       "      <th>ZW0166000C</th>\n",
       "      <td>0.000000</td>\n",
       "      <td>0.000000</td>\n",
       "      <td>1.414214</td>\n",
       "      <td>0.038222</td>\n",
       "      <td>1</td>\n",
       "      <td>0</td>\n",
       "      <td>0</td>\n",
       "      <td>0</td>\n",
       "      <td>0</td>\n",
       "      <td>1</td>\n",
       "      <td>...</td>\n",
       "      <td>1</td>\n",
       "      <td>1</td>\n",
       "      <td>0</td>\n",
       "      <td>0</td>\n",
       "      <td>0</td>\n",
       "      <td>1</td>\n",
       "      <td>0</td>\n",
       "      <td>0</td>\n",
       "      <td>0</td>\n",
       "      <td>1</td>\n",
       "    </tr>\n",
       "    <tr>\n",
       "      <th>ZW0166000D</th>\n",
       "      <td>0.000000</td>\n",
       "      <td>0.000000</td>\n",
       "      <td>0.000000</td>\n",
       "      <td>0.210221</td>\n",
       "      <td>1</td>\n",
       "      <td>0</td>\n",
       "      <td>0</td>\n",
       "      <td>0</td>\n",
       "      <td>0</td>\n",
       "      <td>1</td>\n",
       "      <td>...</td>\n",
       "      <td>0</td>\n",
       "      <td>1</td>\n",
       "      <td>0</td>\n",
       "      <td>0</td>\n",
       "      <td>0</td>\n",
       "      <td>1</td>\n",
       "      <td>0</td>\n",
       "      <td>0</td>\n",
       "      <td>0</td>\n",
       "      <td>1</td>\n",
       "    </tr>\n",
       "    <tr>\n",
       "      <th>ZW0166000F</th>\n",
       "      <td>0.000000</td>\n",
       "      <td>0.000000</td>\n",
       "      <td>0.000000</td>\n",
       "      <td>0.649774</td>\n",
       "      <td>1</td>\n",
       "      <td>0</td>\n",
       "      <td>0</td>\n",
       "      <td>0</td>\n",
       "      <td>0</td>\n",
       "      <td>1</td>\n",
       "      <td>...</td>\n",
       "      <td>0</td>\n",
       "      <td>1</td>\n",
       "      <td>0</td>\n",
       "      <td>0</td>\n",
       "      <td>0</td>\n",
       "      <td>1</td>\n",
       "      <td>0</td>\n",
       "      <td>0</td>\n",
       "      <td>0</td>\n",
       "      <td>1</td>\n",
       "    </tr>\n",
       "    <tr>\n",
       "      <th>ZW01690009</th>\n",
       "      <td>0.000000</td>\n",
       "      <td>0.000000</td>\n",
       "      <td>0.000000</td>\n",
       "      <td>0.401331</td>\n",
       "      <td>1</td>\n",
       "      <td>0</td>\n",
       "      <td>0</td>\n",
       "      <td>0</td>\n",
       "      <td>0</td>\n",
       "      <td>1</td>\n",
       "      <td>...</td>\n",
       "      <td>0</td>\n",
       "      <td>1</td>\n",
       "      <td>0</td>\n",
       "      <td>0</td>\n",
       "      <td>0</td>\n",
       "      <td>1</td>\n",
       "      <td>0</td>\n",
       "      <td>0</td>\n",
       "      <td>0</td>\n",
       "      <td>1</td>\n",
       "    </tr>\n",
       "    <tr>\n",
       "      <th>ZW0169000B</th>\n",
       "      <td>0.000000</td>\n",
       "      <td>0.000000</td>\n",
       "      <td>1.414214</td>\n",
       "      <td>0.745329</td>\n",
       "      <td>1</td>\n",
       "      <td>0</td>\n",
       "      <td>0</td>\n",
       "      <td>0</td>\n",
       "      <td>0</td>\n",
       "      <td>0</td>\n",
       "      <td>...</td>\n",
       "      <td>0</td>\n",
       "      <td>1</td>\n",
       "      <td>0</td>\n",
       "      <td>0</td>\n",
       "      <td>0</td>\n",
       "      <td>1</td>\n",
       "      <td>0</td>\n",
       "      <td>0</td>\n",
       "      <td>0</td>\n",
       "      <td>1</td>\n",
       "    </tr>\n",
       "    <tr>\n",
       "      <th>ZW0169000C</th>\n",
       "      <td>0.000000</td>\n",
       "      <td>0.000000</td>\n",
       "      <td>1.414214</td>\n",
       "      <td>0.764440</td>\n",
       "      <td>1</td>\n",
       "      <td>0</td>\n",
       "      <td>0</td>\n",
       "      <td>0</td>\n",
       "      <td>0</td>\n",
       "      <td>0</td>\n",
       "      <td>...</td>\n",
       "      <td>1</td>\n",
       "      <td>0</td>\n",
       "      <td>0</td>\n",
       "      <td>1</td>\n",
       "      <td>0</td>\n",
       "      <td>1</td>\n",
       "      <td>0</td>\n",
       "      <td>0</td>\n",
       "      <td>0</td>\n",
       "      <td>2</td>\n",
       "    </tr>\n",
       "    <tr>\n",
       "      <th>ZW0169000D</th>\n",
       "      <td>1.414214</td>\n",
       "      <td>0.000000</td>\n",
       "      <td>0.000000</td>\n",
       "      <td>0.439553</td>\n",
       "      <td>0</td>\n",
       "      <td>0</td>\n",
       "      <td>1</td>\n",
       "      <td>0</td>\n",
       "      <td>1</td>\n",
       "      <td>0</td>\n",
       "      <td>...</td>\n",
       "      <td>0</td>\n",
       "      <td>1</td>\n",
       "      <td>0</td>\n",
       "      <td>0</td>\n",
       "      <td>0</td>\n",
       "      <td>1</td>\n",
       "      <td>0</td>\n",
       "      <td>0</td>\n",
       "      <td>0</td>\n",
       "      <td>2</td>\n",
       "    </tr>\n",
       "    <tr>\n",
       "      <th>ZW0169000F</th>\n",
       "      <td>0.000000</td>\n",
       "      <td>0.000000</td>\n",
       "      <td>1.414214</td>\n",
       "      <td>0.057333</td>\n",
       "      <td>1</td>\n",
       "      <td>0</td>\n",
       "      <td>0</td>\n",
       "      <td>0</td>\n",
       "      <td>1</td>\n",
       "      <td>0</td>\n",
       "      <td>...</td>\n",
       "      <td>1</td>\n",
       "      <td>1</td>\n",
       "      <td>0</td>\n",
       "      <td>0</td>\n",
       "      <td>0</td>\n",
       "      <td>1</td>\n",
       "      <td>0</td>\n",
       "      <td>0</td>\n",
       "      <td>0</td>\n",
       "      <td>2</td>\n",
       "    </tr>\n",
       "    <tr>\n",
       "      <th>ZW0169000H</th>\n",
       "      <td>1.414214</td>\n",
       "      <td>0.000000</td>\n",
       "      <td>1.414214</td>\n",
       "      <td>0.879106</td>\n",
       "      <td>0</td>\n",
       "      <td>0</td>\n",
       "      <td>1</td>\n",
       "      <td>0</td>\n",
       "      <td>1</td>\n",
       "      <td>0</td>\n",
       "      <td>...</td>\n",
       "      <td>1</td>\n",
       "      <td>1</td>\n",
       "      <td>0</td>\n",
       "      <td>0</td>\n",
       "      <td>0</td>\n",
       "      <td>1</td>\n",
       "      <td>0</td>\n",
       "      <td>0</td>\n",
       "      <td>0</td>\n",
       "      <td>2</td>\n",
       "    </tr>\n",
       "  </tbody>\n",
       "</table>\n",
       "<p>37495 rows × 39 columns</p>\n",
       "</div>"
      ],
      "text/plain": [
       "            SURF_COND_CODE  C_M_ZONE_FLAG  SEX_CODE_M       AGE  \\\n",
       "REPORT_NO                                                         \n",
       "AA00320001        0.000000       1.414214    0.000000  0.879106   \n",
       "AA0033000B        1.414214       1.414214    1.414214  0.133777   \n",
       "AA0034000H        0.000000       0.000000    1.414214  0.152888   \n",
       "AA00400005        1.414214       0.000000    1.414214  0.573330   \n",
       "AA00400008        0.000000       0.000000    0.000000  0.286665   \n",
       "AA0040000L        0.000000       0.000000    1.414214  0.114666   \n",
       "AA0040000M        0.000000       0.000000    0.000000  0.229332   \n",
       "AA0040000P        0.000000       0.000000    0.000000  0.019111   \n",
       "AA00720005        0.000000       1.414214    0.000000  0.305776   \n",
       "AA00720007        0.000000       0.000000    1.414214  0.649774   \n",
       "AA0072000B        0.000000       0.000000    1.414214  0.057333   \n",
       "AA0072000C        0.000000       0.000000    0.000000  0.057333   \n",
       "AA0072000D        0.000000       0.000000    1.414214  0.554219   \n",
       "AA0072000G        1.414214       0.000000    0.000000  0.324887   \n",
       "AA00730008        0.000000       0.000000    0.000000  0.477775   \n",
       "AA00730009        1.414214       0.000000    0.000000  0.019111   \n",
       "AA00740005        1.414214       0.000000    0.000000  1.031994   \n",
       "AA00750002        0.000000       1.414214    1.414214  0.076444   \n",
       "AA00750004        0.000000       1.414214    1.414214  0.802662   \n",
       "AA00790002        0.000000       0.000000    0.000000  0.420442   \n",
       "AA00790003        1.414214       0.000000    1.414214  0.191110   \n",
       "AA00790004        0.000000       0.000000    1.414214  0.038222   \n",
       "AA0085000F        0.000000       0.000000    1.414214  0.363109   \n",
       "AA0085000H        0.000000       1.414214    0.000000  0.210221   \n",
       "AA0085000J        0.000000       0.000000    0.000000  1.127549   \n",
       "AA0085000K        0.000000       0.000000    1.414214  0.343998   \n",
       "AA0085000L        0.000000       0.000000    0.000000  0.210221   \n",
       "AA0085000M        0.000000       0.000000    1.414214  0.382220   \n",
       "AA0085000P        0.000000       0.000000    1.414214  0.936439   \n",
       "AA0085000Q        0.000000       1.414214    1.414214  0.974661   \n",
       "...                    ...            ...         ...       ...   \n",
       "ZW0130000G        0.000000       0.000000    1.414214  0.229332   \n",
       "ZW0130000J        0.000000       0.000000    0.000000  0.305776   \n",
       "ZW0130000M        0.000000       0.000000    1.414214  0.936439   \n",
       "ZW0130000N        0.000000       0.000000    1.414214  0.668885   \n",
       "ZW0130000P        0.000000       0.000000    1.414214  0.879106   \n",
       "ZW0131000C        1.414214       0.000000    1.414214  0.114666   \n",
       "ZW0134000L        0.000000       0.000000    0.000000  0.095555   \n",
       "ZW0134000M        0.000000       0.000000    0.000000  0.191110   \n",
       "ZW0134000N        0.000000       0.000000    1.414214  0.363109   \n",
       "ZW01380004        0.000000       0.000000    1.414214  0.057333   \n",
       "ZW01390003        0.000000       0.000000    1.414214  0.152888   \n",
       "ZW0139000F        0.000000       0.000000    1.414214  0.611552   \n",
       "ZW0139000H        0.000000       0.000000    1.414214  0.019111   \n",
       "ZW01410009        1.414214       0.000000    1.414214  0.038222   \n",
       "ZW0141000B        1.414214       0.000000    1.414214  0.229332   \n",
       "ZW0141000C        0.000000       0.000000    0.000000  0.038222   \n",
       "ZW0141000D        0.000000       0.000000    1.414214  0.057333   \n",
       "ZW0152000K        1.414214       0.000000    1.414214  0.649774   \n",
       "ZW0152000M        0.000000       0.000000    1.414214  0.783551   \n",
       "ZW01660008        1.414214       0.000000    0.000000  0.554219   \n",
       "ZW01660009        1.414214       0.000000    1.414214  0.133777   \n",
       "ZW0166000C        0.000000       0.000000    1.414214  0.038222   \n",
       "ZW0166000D        0.000000       0.000000    0.000000  0.210221   \n",
       "ZW0166000F        0.000000       0.000000    0.000000  0.649774   \n",
       "ZW01690009        0.000000       0.000000    0.000000  0.401331   \n",
       "ZW0169000B        0.000000       0.000000    1.414214  0.745329   \n",
       "ZW0169000C        0.000000       0.000000    1.414214  0.764440   \n",
       "ZW0169000D        1.414214       0.000000    0.000000  0.439553   \n",
       "ZW0169000F        0.000000       0.000000    1.414214  0.057333   \n",
       "ZW0169000H        1.414214       0.000000    1.414214  0.879106   \n",
       "\n",
       "            WEATHER_CODE_Clear or Cloudy  WEATHER_CODE_Severe Winds  \\\n",
       "REPORT_NO                                                             \n",
       "AA00320001                             1                          0   \n",
       "AA0033000B                             1                          0   \n",
       "AA0034000H                             1                          0   \n",
       "AA00400005                             0                          0   \n",
       "AA00400008                             1                          0   \n",
       "AA0040000L                             1                          0   \n",
       "AA0040000M                             1                          0   \n",
       "AA0040000P                             1                          0   \n",
       "AA00720005                             1                          0   \n",
       "AA00720007                             1                          0   \n",
       "AA0072000B                             1                          0   \n",
       "AA0072000C                             1                          0   \n",
       "AA0072000D                             1                          0   \n",
       "AA0072000G                             0                          0   \n",
       "AA00730008                             1                          0   \n",
       "AA00730009                             0                          0   \n",
       "AA00740005                             0                          0   \n",
       "AA00750002                             1                          0   \n",
       "AA00750004                             1                          0   \n",
       "AA00790002                             1                          0   \n",
       "AA00790003                             1                          0   \n",
       "AA00790004                             1                          0   \n",
       "AA0085000F                             1                          0   \n",
       "AA0085000H                             1                          0   \n",
       "AA0085000J                             1                          0   \n",
       "AA0085000K                             1                          0   \n",
       "AA0085000L                             1                          0   \n",
       "AA0085000M                             1                          0   \n",
       "AA0085000P                             1                          0   \n",
       "AA0085000Q                             1                          0   \n",
       "...                                  ...                        ...   \n",
       "ZW0130000G                             1                          0   \n",
       "ZW0130000J                             1                          0   \n",
       "ZW0130000M                             1                          0   \n",
       "ZW0130000N                             1                          0   \n",
       "ZW0130000P                             1                          0   \n",
       "ZW0131000C                             1                          0   \n",
       "ZW0134000L                             1                          0   \n",
       "ZW0134000M                             1                          0   \n",
       "ZW0134000N                             1                          0   \n",
       "ZW01380004                             1                          0   \n",
       "ZW01390003                             1                          0   \n",
       "ZW0139000F                             1                          0   \n",
       "ZW0139000H                             1                          0   \n",
       "ZW01410009                             0                          0   \n",
       "ZW0141000B                             0                          0   \n",
       "ZW0141000C                             1                          0   \n",
       "ZW0141000D                             1                          0   \n",
       "ZW0152000K                             0                          0   \n",
       "ZW0152000M                             1                          0   \n",
       "ZW01660008                             0                          0   \n",
       "ZW01660009                             1                          0   \n",
       "ZW0166000C                             1                          0   \n",
       "ZW0166000D                             1                          0   \n",
       "ZW0166000F                             1                          0   \n",
       "ZW01690009                             1                          0   \n",
       "ZW0169000B                             1                          0   \n",
       "ZW0169000C                             1                          0   \n",
       "ZW0169000D                             0                          0   \n",
       "ZW0169000F                             1                          0   \n",
       "ZW0169000H                             0                          0   \n",
       "\n",
       "            WEATHER_CODE_Visuality Limited  LIGHT_CODE_Dark Lights On  \\\n",
       "REPORT_NO                                                               \n",
       "AA00320001                               0                          0   \n",
       "AA0033000B                               0                          0   \n",
       "AA0034000H                               0                          0   \n",
       "AA00400005                               1                          0   \n",
       "AA00400008                               0                          0   \n",
       "AA0040000L                               0                          0   \n",
       "AA0040000M                               0                          0   \n",
       "AA0040000P                               0                          0   \n",
       "AA00720005                               0                          0   \n",
       "AA00720007                               0                          0   \n",
       "AA0072000B                               0                          0   \n",
       "AA0072000C                               0                          0   \n",
       "AA0072000D                               0                          0   \n",
       "AA0072000G                               1                          0   \n",
       "AA00730008                               0                          0   \n",
       "AA00730009                               1                          0   \n",
       "AA00740005                               1                          0   \n",
       "AA00750002                               0                          0   \n",
       "AA00750004                               0                          1   \n",
       "AA00790002                               0                          0   \n",
       "AA00790003                               0                          0   \n",
       "AA00790004                               0                          0   \n",
       "AA0085000F                               0                          0   \n",
       "AA0085000H                               0                          0   \n",
       "AA0085000J                               0                          0   \n",
       "AA0085000K                               0                          0   \n",
       "AA0085000L                               0                          0   \n",
       "AA0085000M                               0                          0   \n",
       "AA0085000P                               0                          0   \n",
       "AA0085000Q                               0                          0   \n",
       "...                                    ...                        ...   \n",
       "ZW0130000G                               0                          0   \n",
       "ZW0130000J                               0                          0   \n",
       "ZW0130000M                               0                          0   \n",
       "ZW0130000N                               0                          0   \n",
       "ZW0130000P                               0                          0   \n",
       "ZW0131000C                               0                          0   \n",
       "ZW0134000L                               0                          0   \n",
       "ZW0134000M                               0                          0   \n",
       "ZW0134000N                               0                          0   \n",
       "ZW01380004                               0                          0   \n",
       "ZW01390003                               0                          1   \n",
       "ZW0139000F                               0                          0   \n",
       "ZW0139000H                               0                          0   \n",
       "ZW01410009                               1                          0   \n",
       "ZW0141000B                               1                          0   \n",
       "ZW0141000C                               0                          0   \n",
       "ZW0141000D                               0                          0   \n",
       "ZW0152000K                               1                          0   \n",
       "ZW0152000M                               0                          0   \n",
       "ZW01660008                               1                          0   \n",
       "ZW01660009                               0                          0   \n",
       "ZW0166000C                               0                          0   \n",
       "ZW0166000D                               0                          0   \n",
       "ZW0166000F                               0                          0   \n",
       "ZW01690009                               0                          0   \n",
       "ZW0169000B                               0                          0   \n",
       "ZW0169000C                               0                          0   \n",
       "ZW0169000D                               1                          0   \n",
       "ZW0169000F                               0                          0   \n",
       "ZW0169000H                               1                          0   \n",
       "\n",
       "            LIGHT_CODE_Dark No Lights  LIGHT_CODE_Daylight    ...      \\\n",
       "REPORT_NO                                                     ...       \n",
       "AA00320001                          0                    1    ...       \n",
       "AA0033000B                          0                    1    ...       \n",
       "AA0034000H                          0                    0    ...       \n",
       "AA00400005                          0                    1    ...       \n",
       "AA00400008                          0                    1    ...       \n",
       "AA0040000L                          0                    1    ...       \n",
       "AA0040000M                          0                    1    ...       \n",
       "AA0040000P                          0                    1    ...       \n",
       "AA00720005                          0                    1    ...       \n",
       "AA00720007                          0                    1    ...       \n",
       "AA0072000B                          0                    1    ...       \n",
       "AA0072000C                          0                    1    ...       \n",
       "AA0072000D                          0                    1    ...       \n",
       "AA0072000G                          0                    1    ...       \n",
       "AA00730008                          0                    1    ...       \n",
       "AA00730009                          1                    0    ...       \n",
       "AA00740005                          1                    0    ...       \n",
       "AA00750002                          1                    0    ...       \n",
       "AA00750004                          0                    0    ...       \n",
       "AA00790002                          0                    0    ...       \n",
       "AA00790003                          0                    1    ...       \n",
       "AA00790004                          0                    1    ...       \n",
       "AA0085000F                          0                    1    ...       \n",
       "AA0085000H                          0                    1    ...       \n",
       "AA0085000J                          0                    1    ...       \n",
       "AA0085000K                          0                    1    ...       \n",
       "AA0085000L                          0                    1    ...       \n",
       "AA0085000M                          0                    1    ...       \n",
       "AA0085000P                          0                    1    ...       \n",
       "AA0085000Q                          0                    1    ...       \n",
       "...                               ...                  ...    ...       \n",
       "ZW0130000G                          0                    1    ...       \n",
       "ZW0130000J                          0                    1    ...       \n",
       "ZW0130000M                          0                    1    ...       \n",
       "ZW0130000N                          0                    1    ...       \n",
       "ZW0130000P                          0                    1    ...       \n",
       "ZW0131000C                          1                    0    ...       \n",
       "ZW0134000L                          0                    1    ...       \n",
       "ZW0134000M                          1                    0    ...       \n",
       "ZW0134000N                          1                    0    ...       \n",
       "ZW01380004                          1                    0    ...       \n",
       "ZW01390003                          0                    0    ...       \n",
       "ZW0139000F                          1                    0    ...       \n",
       "ZW0139000H                          1                    0    ...       \n",
       "ZW01410009                          1                    0    ...       \n",
       "ZW0141000B                          1                    0    ...       \n",
       "ZW0141000C                          0                    1    ...       \n",
       "ZW0141000D                          1                    0    ...       \n",
       "ZW0152000K                          0                    1    ...       \n",
       "ZW0152000M                          0                    1    ...       \n",
       "ZW01660008                          0                    1    ...       \n",
       "ZW01660009                          0                    0    ...       \n",
       "ZW0166000C                          0                    1    ...       \n",
       "ZW0166000D                          0                    1    ...       \n",
       "ZW0166000F                          0                    1    ...       \n",
       "ZW01690009                          0                    1    ...       \n",
       "ZW0169000B                          0                    0    ...       \n",
       "ZW0169000C                          0                    0    ...       \n",
       "ZW0169000D                          1                    0    ...       \n",
       "ZW0169000F                          1                    0    ...       \n",
       "ZW0169000H                          1                    0    ...       \n",
       "\n",
       "            BODY_TYPE_CODE_Van or Light Truck  \\\n",
       "REPORT_NO                                       \n",
       "AA00320001                                  1   \n",
       "AA0033000B                                  0   \n",
       "AA0034000H                                  0   \n",
       "AA00400005                                  0   \n",
       "AA00400008                                  0   \n",
       "AA0040000L                                  0   \n",
       "AA0040000M                                  0   \n",
       "AA0040000P                                  0   \n",
       "AA00720005                                  0   \n",
       "AA00720007                                  1   \n",
       "AA0072000B                                  0   \n",
       "AA0072000C                                  0   \n",
       "AA0072000D                                  1   \n",
       "AA0072000G                                  1   \n",
       "AA00730008                                  0   \n",
       "AA00730009                                  0   \n",
       "AA00740005                                  0   \n",
       "AA00750002                                  0   \n",
       "AA00750004                                  1   \n",
       "AA00790002                                  0   \n",
       "AA00790003                                  0   \n",
       "AA00790004                                  0   \n",
       "AA0085000F                                  1   \n",
       "AA0085000H                                  0   \n",
       "AA0085000J                                  0   \n",
       "AA0085000K                                  0   \n",
       "AA0085000L                                  0   \n",
       "AA0085000M                                  1   \n",
       "AA0085000P                                  0   \n",
       "AA0085000Q                                  1   \n",
       "...                                       ...   \n",
       "ZW0130000G                                  1   \n",
       "ZW0130000J                                  0   \n",
       "ZW0130000M                                  1   \n",
       "ZW0130000N                                  1   \n",
       "ZW0130000P                                  0   \n",
       "ZW0131000C                                  1   \n",
       "ZW0134000L                                  0   \n",
       "ZW0134000M                                  0   \n",
       "ZW0134000N                                  0   \n",
       "ZW01380004                                  0   \n",
       "ZW01390003                                  0   \n",
       "ZW0139000F                                  1   \n",
       "ZW0139000H                                  1   \n",
       "ZW01410009                                  0   \n",
       "ZW0141000B                                  0   \n",
       "ZW0141000C                                  0   \n",
       "ZW0141000D                                  0   \n",
       "ZW0152000K                                  1   \n",
       "ZW0152000M                                  1   \n",
       "ZW01660008                                  0   \n",
       "ZW01660009                                  1   \n",
       "ZW0166000C                                  1   \n",
       "ZW0166000D                                  0   \n",
       "ZW0166000F                                  0   \n",
       "ZW01690009                                  0   \n",
       "ZW0169000B                                  0   \n",
       "ZW0169000C                                  1   \n",
       "ZW0169000D                                  0   \n",
       "ZW0169000F                                  1   \n",
       "ZW0169000H                                  1   \n",
       "\n",
       "            CONDITION_CODE_Apparently Normal  \\\n",
       "REPORT_NO                                      \n",
       "AA00320001                                 1   \n",
       "AA0033000B                                 1   \n",
       "AA0034000H                                 1   \n",
       "AA00400005                                 1   \n",
       "AA00400008                                 1   \n",
       "AA0040000L                                 1   \n",
       "AA0040000M                                 1   \n",
       "AA0040000P                                 1   \n",
       "AA00720005                                 1   \n",
       "AA00720007                                 0   \n",
       "AA0072000B                                 1   \n",
       "AA0072000C                                 1   \n",
       "AA0072000D                                 1   \n",
       "AA0072000G                                 1   \n",
       "AA00730008                                 1   \n",
       "AA00730009                                 1   \n",
       "AA00740005                                 1   \n",
       "AA00750002                                 1   \n",
       "AA00750004                                 1   \n",
       "AA00790002                                 1   \n",
       "AA00790003                                 1   \n",
       "AA00790004                                 1   \n",
       "AA0085000F                                 1   \n",
       "AA0085000H                                 1   \n",
       "AA0085000J                                 1   \n",
       "AA0085000K                                 1   \n",
       "AA0085000L                                 1   \n",
       "AA0085000M                                 1   \n",
       "AA0085000P                                 1   \n",
       "AA0085000Q                                 1   \n",
       "...                                      ...   \n",
       "ZW0130000G                                 1   \n",
       "ZW0130000J                                 1   \n",
       "ZW0130000M                                 1   \n",
       "ZW0130000N                                 1   \n",
       "ZW0130000P                                 1   \n",
       "ZW0131000C                                 1   \n",
       "ZW0134000L                                 1   \n",
       "ZW0134000M                                 1   \n",
       "ZW0134000N                                 1   \n",
       "ZW01380004                                 1   \n",
       "ZW01390003                                 0   \n",
       "ZW0139000F                                 1   \n",
       "ZW0139000H                                 1   \n",
       "ZW01410009                                 1   \n",
       "ZW0141000B                                 1   \n",
       "ZW0141000C                                 1   \n",
       "ZW0141000D                                 0   \n",
       "ZW0152000K                                 1   \n",
       "ZW0152000M                                 1   \n",
       "ZW01660008                                 1   \n",
       "ZW01660009                                 1   \n",
       "ZW0166000C                                 1   \n",
       "ZW0166000D                                 1   \n",
       "ZW0166000F                                 1   \n",
       "ZW01690009                                 1   \n",
       "ZW0169000B                                 1   \n",
       "ZW0169000C                                 0   \n",
       "ZW0169000D                                 1   \n",
       "ZW0169000F                                 1   \n",
       "ZW0169000H                                 1   \n",
       "\n",
       "            CONDITION_CODE_Asleep or Fainted or Ill  \\\n",
       "REPORT_NO                                             \n",
       "AA00320001                                        0   \n",
       "AA0033000B                                        0   \n",
       "AA0034000H                                        0   \n",
       "AA00400005                                        0   \n",
       "AA00400008                                        0   \n",
       "AA0040000L                                        0   \n",
       "AA0040000M                                        0   \n",
       "AA0040000P                                        0   \n",
       "AA00720005                                        0   \n",
       "AA00720007                                        1   \n",
       "AA0072000B                                        0   \n",
       "AA0072000C                                        0   \n",
       "AA0072000D                                        0   \n",
       "AA0072000G                                        0   \n",
       "AA00730008                                        0   \n",
       "AA00730009                                        0   \n",
       "AA00740005                                        0   \n",
       "AA00750002                                        0   \n",
       "AA00750004                                        0   \n",
       "AA00790002                                        0   \n",
       "AA00790003                                        0   \n",
       "AA00790004                                        0   \n",
       "AA0085000F                                        0   \n",
       "AA0085000H                                        0   \n",
       "AA0085000J                                        0   \n",
       "AA0085000K                                        0   \n",
       "AA0085000L                                        0   \n",
       "AA0085000M                                        0   \n",
       "AA0085000P                                        0   \n",
       "AA0085000Q                                        0   \n",
       "...                                             ...   \n",
       "ZW0130000G                                        0   \n",
       "ZW0130000J                                        0   \n",
       "ZW0130000M                                        0   \n",
       "ZW0130000N                                        0   \n",
       "ZW0130000P                                        0   \n",
       "ZW0131000C                                        0   \n",
       "ZW0134000L                                        0   \n",
       "ZW0134000M                                        0   \n",
       "ZW0134000N                                        0   \n",
       "ZW01380004                                        0   \n",
       "ZW01390003                                        0   \n",
       "ZW0139000F                                        0   \n",
       "ZW0139000H                                        0   \n",
       "ZW01410009                                        0   \n",
       "ZW0141000B                                        0   \n",
       "ZW0141000C                                        0   \n",
       "ZW0141000D                                        0   \n",
       "ZW0152000K                                        0   \n",
       "ZW0152000M                                        0   \n",
       "ZW01660008                                        0   \n",
       "ZW01660009                                        0   \n",
       "ZW0166000C                                        0   \n",
       "ZW0166000D                                        0   \n",
       "ZW0166000F                                        0   \n",
       "ZW01690009                                        0   \n",
       "ZW0169000B                                        0   \n",
       "ZW0169000C                                        0   \n",
       "ZW0169000D                                        0   \n",
       "ZW0169000F                                        0   \n",
       "ZW0169000H                                        0   \n",
       "\n",
       "            CONDITION_CODE_Drunken or Drugged  \\\n",
       "REPORT_NO                                       \n",
       "AA00320001                                  0   \n",
       "AA0033000B                                  0   \n",
       "AA0034000H                                  0   \n",
       "AA00400005                                  0   \n",
       "AA00400008                                  0   \n",
       "AA0040000L                                  0   \n",
       "AA0040000M                                  0   \n",
       "AA0040000P                                  0   \n",
       "AA00720005                                  0   \n",
       "AA00720007                                  0   \n",
       "AA0072000B                                  0   \n",
       "AA0072000C                                  0   \n",
       "AA0072000D                                  0   \n",
       "AA0072000G                                  0   \n",
       "AA00730008                                  0   \n",
       "AA00730009                                  0   \n",
       "AA00740005                                  0   \n",
       "AA00750002                                  0   \n",
       "AA00750004                                  0   \n",
       "AA00790002                                  0   \n",
       "AA00790003                                  0   \n",
       "AA00790004                                  0   \n",
       "AA0085000F                                  0   \n",
       "AA0085000H                                  0   \n",
       "AA0085000J                                  0   \n",
       "AA0085000K                                  0   \n",
       "AA0085000L                                  0   \n",
       "AA0085000M                                  0   \n",
       "AA0085000P                                  0   \n",
       "AA0085000Q                                  0   \n",
       "...                                       ...   \n",
       "ZW0130000G                                  0   \n",
       "ZW0130000J                                  0   \n",
       "ZW0130000M                                  0   \n",
       "ZW0130000N                                  0   \n",
       "ZW0130000P                                  0   \n",
       "ZW0131000C                                  0   \n",
       "ZW0134000L                                  0   \n",
       "ZW0134000M                                  0   \n",
       "ZW0134000N                                  0   \n",
       "ZW01380004                                  0   \n",
       "ZW01390003                                  1   \n",
       "ZW0139000F                                  0   \n",
       "ZW0139000H                                  0   \n",
       "ZW01410009                                  0   \n",
       "ZW0141000B                                  0   \n",
       "ZW0141000C                                  0   \n",
       "ZW0141000D                                  1   \n",
       "ZW0152000K                                  0   \n",
       "ZW0152000M                                  0   \n",
       "ZW01660008                                  0   \n",
       "ZW01660009                                  0   \n",
       "ZW0166000C                                  0   \n",
       "ZW0166000D                                  0   \n",
       "ZW0166000F                                  0   \n",
       "ZW01690009                                  0   \n",
       "ZW0169000B                                  0   \n",
       "ZW0169000C                                  1   \n",
       "ZW0169000D                                  0   \n",
       "ZW0169000F                                  0   \n",
       "ZW0169000H                                  0   \n",
       "\n",
       "            CONDITION_CODE_Physical or Psychological Handicaps  \\\n",
       "REPORT_NO                                                        \n",
       "AA00320001                                                  0    \n",
       "AA0033000B                                                  0    \n",
       "AA0034000H                                                  0    \n",
       "AA00400005                                                  0    \n",
       "AA00400008                                                  0    \n",
       "AA0040000L                                                  0    \n",
       "AA0040000M                                                  0    \n",
       "AA0040000P                                                  0    \n",
       "AA00720005                                                  0    \n",
       "AA00720007                                                  0    \n",
       "AA0072000B                                                  0    \n",
       "AA0072000C                                                  0    \n",
       "AA0072000D                                                  0    \n",
       "AA0072000G                                                  0    \n",
       "AA00730008                                                  0    \n",
       "AA00730009                                                  0    \n",
       "AA00740005                                                  0    \n",
       "AA00750002                                                  0    \n",
       "AA00750004                                                  0    \n",
       "AA00790002                                                  0    \n",
       "AA00790003                                                  0    \n",
       "AA00790004                                                  0    \n",
       "AA0085000F                                                  0    \n",
       "AA0085000H                                                  0    \n",
       "AA0085000J                                                  0    \n",
       "AA0085000K                                                  0    \n",
       "AA0085000L                                                  0    \n",
       "AA0085000M                                                  0    \n",
       "AA0085000P                                                  0    \n",
       "AA0085000Q                                                  0    \n",
       "...                                                       ...    \n",
       "ZW0130000G                                                  0    \n",
       "ZW0130000J                                                  0    \n",
       "ZW0130000M                                                  0    \n",
       "ZW0130000N                                                  0    \n",
       "ZW0130000P                                                  0    \n",
       "ZW0131000C                                                  0    \n",
       "ZW0134000L                                                  0    \n",
       "ZW0134000M                                                  0    \n",
       "ZW0134000N                                                  0    \n",
       "ZW01380004                                                  0    \n",
       "ZW01390003                                                  0    \n",
       "ZW0139000F                                                  0    \n",
       "ZW0139000H                                                  0    \n",
       "ZW01410009                                                  0    \n",
       "ZW0141000B                                                  0    \n",
       "ZW0141000C                                                  0    \n",
       "ZW0141000D                                                  0    \n",
       "ZW0152000K                                                  0    \n",
       "ZW0152000M                                                  0    \n",
       "ZW01660008                                                  0    \n",
       "ZW01660009                                                  0    \n",
       "ZW0166000C                                                  0    \n",
       "ZW0166000D                                                  0    \n",
       "ZW0166000F                                                  0    \n",
       "ZW01690009                                                  0    \n",
       "ZW0169000B                                                  0    \n",
       "ZW0169000C                                                  0    \n",
       "ZW0169000D                                                  0    \n",
       "ZW0169000F                                                  0    \n",
       "ZW0169000H                                                  0    \n",
       "\n",
       "            SAF_EQUIP_CODE_Belt  SAF_EQUIP_CODE_Bike Protection  \\\n",
       "REPORT_NO                                                         \n",
       "AA00320001                    1                               0   \n",
       "AA0033000B                    1                               0   \n",
       "AA0034000H                    1                               0   \n",
       "AA00400005                    1                               0   \n",
       "AA00400008                    1                               0   \n",
       "AA0040000L                    1                               0   \n",
       "AA0040000M                    1                               0   \n",
       "AA0040000P                    1                               0   \n",
       "AA00720005                    1                               0   \n",
       "AA00720007                    1                               0   \n",
       "AA0072000B                    1                               0   \n",
       "AA0072000C                    1                               0   \n",
       "AA0072000D                    1                               0   \n",
       "AA0072000G                    1                               0   \n",
       "AA00730008                    1                               0   \n",
       "AA00730009                    1                               0   \n",
       "AA00740005                    1                               0   \n",
       "AA00750002                    1                               0   \n",
       "AA00750004                    1                               0   \n",
       "AA00790002                    0                               0   \n",
       "AA00790003                    1                               0   \n",
       "AA00790004                    1                               0   \n",
       "AA0085000F                    1                               0   \n",
       "AA0085000H                    1                               0   \n",
       "AA0085000J                    1                               0   \n",
       "AA0085000K                    1                               0   \n",
       "AA0085000L                    1                               0   \n",
       "AA0085000M                    1                               0   \n",
       "AA0085000P                    1                               0   \n",
       "AA0085000Q                    1                               0   \n",
       "...                         ...                             ...   \n",
       "ZW0130000G                    1                               0   \n",
       "ZW0130000J                    1                               0   \n",
       "ZW0130000M                    1                               0   \n",
       "ZW0130000N                    1                               0   \n",
       "ZW0130000P                    1                               0   \n",
       "ZW0131000C                    1                               0   \n",
       "ZW0134000L                    1                               0   \n",
       "ZW0134000M                    1                               0   \n",
       "ZW0134000N                    1                               0   \n",
       "ZW01380004                    1                               0   \n",
       "ZW01390003                    1                               0   \n",
       "ZW0139000F                    1                               0   \n",
       "ZW0139000H                    1                               0   \n",
       "ZW01410009                    1                               0   \n",
       "ZW0141000B                    1                               0   \n",
       "ZW0141000C                    1                               0   \n",
       "ZW0141000D                    1                               0   \n",
       "ZW0152000K                    1                               0   \n",
       "ZW0152000M                    1                               0   \n",
       "ZW01660008                    1                               0   \n",
       "ZW01660009                    1                               0   \n",
       "ZW0166000C                    1                               0   \n",
       "ZW0166000D                    1                               0   \n",
       "ZW0166000F                    1                               0   \n",
       "ZW01690009                    1                               0   \n",
       "ZW0169000B                    1                               0   \n",
       "ZW0169000C                    1                               0   \n",
       "ZW0169000D                    1                               0   \n",
       "ZW0169000F                    1                               0   \n",
       "ZW0169000H                    1                               0   \n",
       "\n",
       "            SAF_EQUIP_CODE_Child Restraints  SAF_EQUIP_CODE_None  big_label  \n",
       "REPORT_NO                                                                    \n",
       "AA00320001                                0                    0          4  \n",
       "AA0033000B                                0                    0          1  \n",
       "AA0034000H                                0                    0          2  \n",
       "AA00400005                                0                    0          2  \n",
       "AA00400008                                0                    0          3  \n",
       "AA0040000L                                0                    0          1  \n",
       "AA0040000M                                0                    0          1  \n",
       "AA0040000P                                0                    0          2  \n",
       "AA00720005                                0                    0          3  \n",
       "AA00720007                                0                    0          2  \n",
       "AA0072000B                                0                    0          4  \n",
       "AA0072000C                                0                    0          1  \n",
       "AA0072000D                                0                    0          1  \n",
       "AA0072000G                                0                    0          4  \n",
       "AA00730008                                0                    0          2  \n",
       "AA00730009                                0                    0          2  \n",
       "AA00740005                                0                    0          1  \n",
       "AA00750002                                0                    0          1  \n",
       "AA00750004                                0                    0          1  \n",
       "AA00790002                                0                    1          2  \n",
       "AA00790003                                0                    0          1  \n",
       "AA00790004                                0                    0          1  \n",
       "AA0085000F                                0                    0          2  \n",
       "AA0085000H                                0                    0          4  \n",
       "AA0085000J                                0                    0          2  \n",
       "AA0085000K                                0                    0          4  \n",
       "AA0085000L                                0                    0          3  \n",
       "AA0085000M                                0                    0          4  \n",
       "AA0085000P                                0                    0          2  \n",
       "AA0085000Q                                0                    0          4  \n",
       "...                                     ...                  ...        ...  \n",
       "ZW0130000G                                0                    0          1  \n",
       "ZW0130000J                                0                    0          2  \n",
       "ZW0130000M                                0                    0          2  \n",
       "ZW0130000N                                0                    0          3  \n",
       "ZW0130000P                                0                    0          2  \n",
       "ZW0131000C                                0                    0          2  \n",
       "ZW0134000L                                0                    0          4  \n",
       "ZW0134000M                                0                    0          1  \n",
       "ZW0134000N                                0                    0          2  \n",
       "ZW01380004                                0                    0          2  \n",
       "ZW01390003                                0                    0          2  \n",
       "ZW0139000F                                0                    0          2  \n",
       "ZW0139000H                                0                    0          2  \n",
       "ZW01410009                                0                    0          2  \n",
       "ZW0141000B                                0                    0          3  \n",
       "ZW0141000C                                0                    0          2  \n",
       "ZW0141000D                                0                    0          2  \n",
       "ZW0152000K                                0                    0          2  \n",
       "ZW0152000M                                0                    0          2  \n",
       "ZW01660008                                0                    0          1  \n",
       "ZW01660009                                0                    0          2  \n",
       "ZW0166000C                                0                    0          1  \n",
       "ZW0166000D                                0                    0          1  \n",
       "ZW0166000F                                0                    0          1  \n",
       "ZW01690009                                0                    0          1  \n",
       "ZW0169000B                                0                    0          1  \n",
       "ZW0169000C                                0                    0          2  \n",
       "ZW0169000D                                0                    0          2  \n",
       "ZW0169000F                                0                    0          2  \n",
       "ZW0169000H                                0                    0          2  \n",
       "\n",
       "[37495 rows x 39 columns]"
      ]
     },
     "execution_count": 22,
     "metadata": {},
     "output_type": "execute_result"
    }
   ],
   "source": [
    "b_label = list(prep_df_d_dum_labeled['big_labels'])\n",
    "len(b_label)\n",
    "prep_df_c_dum_labeled = prep_df_c_dum.copy()\n",
    "prep_df_c_dum_labeled['big_label'] = b_label\n",
    "prep_df_c_dum_labeled"
   ]
  },
  {
   "cell_type": "code",
   "execution_count": 9,
   "metadata": {
    "collapsed": true
   },
   "outputs": [],
   "source": [
    "# split X, y\n",
    "\n",
    "X, y = prep_df_d_dum_labeled.drop('big_labels', axis=1),prep_df_d_dum_labeled.big_labels"
   ]
  },
  {
   "cell_type": "markdown",
   "metadata": {},
   "source": [
    "Train-Test Split"
   ]
  },
  {
   "cell_type": "code",
   "execution_count": 10,
   "metadata": {
    "collapsed": true
   },
   "outputs": [],
   "source": [
    "# import packages\n",
    "\n",
    "from sklearn.model_selection import train_test_split"
   ]
  },
  {
   "cell_type": "code",
   "execution_count": 11,
   "metadata": {
    "collapsed": true
   },
   "outputs": [],
   "source": [
    "# train_test_split with 'stratify'\n",
    "\n",
    "X_train, X_test, y_train, y_test = train_test_split(X, y, test_size=0.25, \n",
    "                                                    stratify=y)"
   ]
  },
  {
   "cell_type": "markdown",
   "metadata": {},
   "source": [
    "Decision Tree"
   ]
  },
  {
   "cell_type": "code",
   "execution_count": 12,
   "metadata": {
    "collapsed": true
   },
   "outputs": [],
   "source": [
    "# import packages\n",
    "\n",
    "from sklearn.tree import DecisionTreeClassifier"
   ]
  },
  {
   "cell_type": "code",
   "execution_count": 13,
   "metadata": {
    "collapsed": true
   },
   "outputs": [],
   "source": [
    "# set parameters\n",
    "# max_depth: 최대 높이 지정\n",
    "\n",
    "class_weight = 'balanced'"
   ]
  },
  {
   "cell_type": "code",
   "execution_count": 133,
   "metadata": {
    "collapsed": true
   },
   "outputs": [],
   "source": [
    "# dt_model \n",
    "# max_leaf_nodes = cluster 개수로.\n",
    "dt_model = DecisionTreeClassifier(class_weight=class_weight, max_leaf_nodes=n_cluster, criterion='gini')"
   ]
  },
  {
   "cell_type": "code",
   "execution_count": 134,
   "metadata": {},
   "outputs": [
    {
     "data": {
      "text/plain": [
       "DecisionTreeClassifier(class_weight='balanced', criterion='gini',\n",
       "            max_depth=None, max_features=None, max_leaf_nodes=4,\n",
       "            min_impurity_split=1e-07, min_samples_leaf=1,\n",
       "            min_samples_split=2, min_weight_fraction_leaf=0.0,\n",
       "            presort=False, random_state=None, splitter='best')"
      ]
     },
     "execution_count": 134,
     "metadata": {},
     "output_type": "execute_result"
    }
   ],
   "source": [
    "# fit to model\n",
    "# default criterion: 'gini'\n",
    "# 그외 옵션 볼 것.\n",
    "\n",
    "dt_model.fit(X=X_train, y=y_train)"
   ]
  },
  {
   "cell_type": "code",
   "execution_count": 135,
   "metadata": {},
   "outputs": [
    {
     "data": {
      "text/plain": [
       "0.96351610838489443"
      ]
     },
     "execution_count": 135,
     "metadata": {},
     "output_type": "execute_result"
    }
   ],
   "source": [
    "# get score\n",
    "\n",
    "dt_model.score(X=X_test, y=y_test)"
   ]
  },
  {
   "cell_type": "code",
   "execution_count": 136,
   "metadata": {
    "scrolled": true
   },
   "outputs": [
    {
     "data": {
      "text/plain": [
       "array([[3450,  158,    0,  101],\n",
       "       [   0, 2617,    0,   68],\n",
       "       [   0,    0, 1625,    0],\n",
       "       [   0,    0,   15, 1340]])"
      ]
     },
     "execution_count": 136,
     "metadata": {},
     "output_type": "execute_result"
    }
   ],
   "source": [
    "# confusion matrix\n",
    "from sklearn.metrics import confusion_matrix\n",
    "confusion_matrix(y_pred=dt_model.predict(X=X_test), y_true=y_test)"
   ]
  },
  {
   "cell_type": "markdown",
   "metadata": {},
   "source": [
    "Visualization via graphviz"
   ]
  },
  {
   "cell_type": "code",
   "execution_count": 137,
   "metadata": {
    "collapsed": true
   },
   "outputs": [],
   "source": [
    "# import packages for export tree\n",
    "\n",
    "from sklearn.tree import export_graphviz"
   ]
  },
  {
   "cell_type": "code",
   "execution_count": 138,
   "metadata": {
    "collapsed": true
   },
   "outputs": [],
   "source": [
    "class_list = []\n",
    "\n",
    "for i in range(1, n_cluster+1):\n",
    "    class_list.append(str(i))"
   ]
  },
  {
   "cell_type": "code",
   "execution_count": 139,
   "metadata": {
    "collapsed": true
   },
   "outputs": [],
   "source": [
    "# export tree as .dot\n",
    "# 학습이 끝난 모델을 보내줘야 함.\n",
    "\n",
    "with open('DT_C00.dot', 'w') as f:\n",
    "    export_graphviz(dt_model, f, feature_names=X.columns,\n",
    "                    class_names=class_list)"
   ]
  },
  {
   "cell_type": "code",
   "execution_count": 140,
   "metadata": {
    "collapsed": true
   },
   "outputs": [],
   "source": [
    "import graphviz"
   ]
  },
  {
   "cell_type": "code",
   "execution_count": 141,
   "metadata": {
    "scrolled": true
   },
   "outputs": [
    {
     "data": {
      "image/svg+xml": [
       "<?xml version=\"1.0\" encoding=\"UTF-8\" standalone=\"no\"?>\r\n",
       "<!DOCTYPE svg PUBLIC \"-//W3C//DTD SVG 1.1//EN\"\r\n",
       " \"http://www.w3.org/Graphics/SVG/1.1/DTD/svg11.dtd\">\r\n",
       "<!-- Generated by graphviz version 2.38.0 (20140413.2041)\r\n",
       " -->\r\n",
       "<!-- Title: Tree Pages: 1 -->\r\n",
       "<svg width=\"834pt\" height=\"433pt\"\r\n",
       " viewBox=\"0.00 0.00 833.50 433.00\" xmlns=\"http://www.w3.org/2000/svg\" xmlns:xlink=\"http://www.w3.org/1999/xlink\">\r\n",
       "<g id=\"graph0\" class=\"graph\" transform=\"scale(1 1) rotate(0) translate(4 429)\">\r\n",
       "<title>Tree</title>\r\n",
       "<polygon fill=\"white\" stroke=\"none\" points=\"-4,4 -4,-429 829.5,-429 829.5,4 -4,4\"/>\r\n",
       "<!-- 0 -->\r\n",
       "<g id=\"node1\" class=\"node\"><title>0</title>\r\n",
       "<polygon fill=\"none\" stroke=\"black\" points=\"693,-425 387,-425 387,-342 693,-342 693,-425\"/>\r\n",
       "<text text-anchor=\"middle\" x=\"540\" y=\"-409.8\" font-family=\"Times New Roman,serif\" font-size=\"14.00\">MOVEMENT_CODE_Slowing or Stopping &lt;= 0.5</text>\r\n",
       "<text text-anchor=\"middle\" x=\"540\" y=\"-394.8\" font-family=\"Times New Roman,serif\" font-size=\"14.00\">gini = 0.75</text>\r\n",
       "<text text-anchor=\"middle\" x=\"540\" y=\"-379.8\" font-family=\"Times New Roman,serif\" font-size=\"14.00\">samples = 28121</text>\r\n",
       "<text text-anchor=\"middle\" x=\"540\" y=\"-364.8\" font-family=\"Times New Roman,serif\" font-size=\"14.00\">value = [7030.25, 7030.25, 7030.25, 7030.25]</text>\r\n",
       "<text text-anchor=\"middle\" x=\"540\" y=\"-349.8\" font-family=\"Times New Roman,serif\" font-size=\"14.00\">class = 4</text>\r\n",
       "</g>\r\n",
       "<!-- 1 -->\r\n",
       "<g id=\"node2\" class=\"node\"><title>1</title>\r\n",
       "<polygon fill=\"none\" stroke=\"black\" points=\"538,-306 242,-306 242,-223 538,-223 538,-306\"/>\r\n",
       "<text text-anchor=\"middle\" x=\"390\" y=\"-290.8\" font-family=\"Times New Roman,serif\" font-size=\"14.00\">JUNCTION_CODE_Intersection &lt;= 0.5</text>\r\n",
       "<text text-anchor=\"middle\" x=\"390\" y=\"-275.8\" font-family=\"Times New Roman,serif\" font-size=\"14.00\">gini = 0.6683</text>\r\n",
       "<text text-anchor=\"middle\" x=\"390\" y=\"-260.8\" font-family=\"Times New Roman,serif\" font-size=\"14.00\">samples = 23572</text>\r\n",
       "<text text-anchor=\"middle\" x=\"390\" y=\"-245.8\" font-family=\"Times New Roman,serif\" font-size=\"14.00\">value = [6830.5593, 6855.7372, 7030.25, 53.6264]</text>\r\n",
       "<text text-anchor=\"middle\" x=\"390\" y=\"-230.8\" font-family=\"Times New Roman,serif\" font-size=\"14.00\">class = 3</text>\r\n",
       "</g>\r\n",
       "<!-- 0&#45;&gt;1 -->\r\n",
       "<g id=\"edge1\" class=\"edge\"><title>0&#45;&gt;1</title>\r\n",
       "<path fill=\"none\" stroke=\"black\" d=\"M487.958,-341.907C475.742,-332.379 462.626,-322.148 450.089,-312.37\"/>\r\n",
       "<polygon fill=\"black\" stroke=\"black\" points=\"451.987,-309.411 441.95,-306.021 447.682,-314.931 451.987,-309.411\"/>\r\n",
       "<text text-anchor=\"middle\" x=\"445.016\" y=\"-327.132\" font-family=\"Times New Roman,serif\" font-size=\"14.00\">True</text>\r\n",
       "</g>\r\n",
       "<!-- 2 -->\r\n",
       "<g id=\"node7\" class=\"node\"><title>2</title>\r\n",
       "<polygon fill=\"none\" stroke=\"black\" points=\"825.5,-298.5 556.5,-298.5 556.5,-230.5 825.5,-230.5 825.5,-298.5\"/>\r\n",
       "<text text-anchor=\"middle\" x=\"691\" y=\"-283.3\" font-family=\"Times New Roman,serif\" font-size=\"14.00\">gini = 0.0979</text>\r\n",
       "<text text-anchor=\"middle\" x=\"691\" y=\"-268.3\" font-family=\"Times New Roman,serif\" font-size=\"14.00\">samples = 4549</text>\r\n",
       "<text text-anchor=\"middle\" x=\"691\" y=\"-253.3\" font-family=\"Times New Roman,serif\" font-size=\"14.00\">value = [199.6907, 174.5128, 0.0, 6976.6236]</text>\r\n",
       "<text text-anchor=\"middle\" x=\"691\" y=\"-238.3\" font-family=\"Times New Roman,serif\" font-size=\"14.00\">class = 4</text>\r\n",
       "</g>\r\n",
       "<!-- 0&#45;&gt;2 -->\r\n",
       "<g id=\"edge6\" class=\"edge\"><title>0&#45;&gt;2</title>\r\n",
       "<path fill=\"none\" stroke=\"black\" d=\"M592.389,-341.907C607.769,-329.99 624.566,-316.976 639.867,-305.12\"/>\r\n",
       "<polygon fill=\"black\" stroke=\"black\" points=\"642.434,-307.559 648.195,-298.667 638.146,-302.025 642.434,-307.559\"/>\r\n",
       "<text text-anchor=\"middle\" x=\"645.048\" y=\"-319.768\" font-family=\"Times New Roman,serif\" font-size=\"14.00\">False</text>\r\n",
       "</g>\r\n",
       "<!-- 3 -->\r\n",
       "<g id=\"node3\" class=\"node\"><title>3</title>\r\n",
       "<polygon fill=\"none\" stroke=\"black\" points=\"425,-187 55,-187 55,-104 425,-104 425,-187\"/>\r\n",
       "<text text-anchor=\"middle\" x=\"240\" y=\"-171.8\" font-family=\"Times New Roman,serif\" font-size=\"14.00\">COLLISION_TYPE_CODE_Same Direction Rear End &lt;= 0.5</text>\r\n",
       "<text text-anchor=\"middle\" x=\"240\" y=\"-156.8\" font-family=\"Times New Roman,serif\" font-size=\"14.00\">gini = 0.5268</text>\r\n",
       "<text text-anchor=\"middle\" x=\"240\" y=\"-141.8\" font-family=\"Times New Roman,serif\" font-size=\"14.00\">samples = 13308</text>\r\n",
       "<text text-anchor=\"middle\" x=\"240\" y=\"-126.8\" font-family=\"Times New Roman,serif\" font-size=\"14.00\">value = [344.4033, 6855.7372, 7030.25, 53.6264]</text>\r\n",
       "<text text-anchor=\"middle\" x=\"240\" y=\"-111.8\" font-family=\"Times New Roman,serif\" font-size=\"14.00\">class = 3</text>\r\n",
       "</g>\r\n",
       "<!-- 1&#45;&gt;3 -->\r\n",
       "<g id=\"edge2\" class=\"edge\"><title>1&#45;&gt;3</title>\r\n",
       "<path fill=\"none\" stroke=\"black\" d=\"M337.958,-222.907C325.742,-213.379 312.626,-203.148 300.089,-193.37\"/>\r\n",
       "<polygon fill=\"black\" stroke=\"black\" points=\"301.987,-190.411 291.95,-187.021 297.682,-195.931 301.987,-190.411\"/>\r\n",
       "</g>\r\n",
       "<!-- 4 -->\r\n",
       "<g id=\"node6\" class=\"node\"><title>4</title>\r\n",
       "<polygon fill=\"none\" stroke=\"black\" points=\"638.5,-179.5 443.5,-179.5 443.5,-111.5 638.5,-111.5 638.5,-179.5\"/>\r\n",
       "<text text-anchor=\"middle\" x=\"541\" y=\"-164.3\" font-family=\"Times New Roman,serif\" font-size=\"14.00\">gini = 0.0</text>\r\n",
       "<text text-anchor=\"middle\" x=\"541\" y=\"-149.3\" font-family=\"Times New Roman,serif\" font-size=\"14.00\">samples = 10264</text>\r\n",
       "<text text-anchor=\"middle\" x=\"541\" y=\"-134.3\" font-family=\"Times New Roman,serif\" font-size=\"14.00\">value = [6486.156, 0.0, 0.0, 0.0]</text>\r\n",
       "<text text-anchor=\"middle\" x=\"541\" y=\"-119.3\" font-family=\"Times New Roman,serif\" font-size=\"14.00\">class = 1</text>\r\n",
       "</g>\r\n",
       "<!-- 1&#45;&gt;4 -->\r\n",
       "<g id=\"edge5\" class=\"edge\"><title>1&#45;&gt;4</title>\r\n",
       "<path fill=\"none\" stroke=\"black\" d=\"M442.389,-222.907C457.769,-210.99 474.566,-197.976 489.867,-186.12\"/>\r\n",
       "<polygon fill=\"black\" stroke=\"black\" points=\"492.434,-188.559 498.195,-179.667 488.146,-183.025 492.434,-188.559\"/>\r\n",
       "</g>\r\n",
       "<!-- 5 -->\r\n",
       "<g id=\"node4\" class=\"node\"><title>5</title>\r\n",
       "<polygon fill=\"none\" stroke=\"black\" points=\"236,-68 0,-68 0,-0 236,-0 236,-68\"/>\r\n",
       "<text text-anchor=\"middle\" x=\"118\" y=\"-52.8\" font-family=\"Times New Roman,serif\" font-size=\"14.00\">gini = 0.0911</text>\r\n",
       "<text text-anchor=\"middle\" x=\"118\" y=\"-37.8\" font-family=\"Times New Roman,serif\" font-size=\"14.00\">samples = 8402</text>\r\n",
       "<text text-anchor=\"middle\" x=\"118\" y=\"-22.8\" font-family=\"Times New Roman,serif\" font-size=\"14.00\">value = [344.4033, 6855.7372, 0.0, 0.0]</text>\r\n",
       "<text text-anchor=\"middle\" x=\"118\" y=\"-7.8\" font-family=\"Times New Roman,serif\" font-size=\"14.00\">class = 2</text>\r\n",
       "</g>\r\n",
       "<!-- 3&#45;&gt;5 -->\r\n",
       "<g id=\"edge3\" class=\"edge\"><title>3&#45;&gt;5</title>\r\n",
       "<path fill=\"none\" stroke=\"black\" d=\"M194.572,-103.726C184.105,-94.3318 172.982,-84.349 162.553,-74.9883\"/>\r\n",
       "<polygon fill=\"black\" stroke=\"black\" points=\"164.881,-72.3744 155.101,-68.2996 160.205,-77.5839 164.881,-72.3744\"/>\r\n",
       "</g>\r\n",
       "<!-- 6 -->\r\n",
       "<g id=\"node5\" class=\"node\"><title>6</title>\r\n",
       "<polygon fill=\"none\" stroke=\"black\" points=\"469.5,-68 254.5,-68 254.5,-0 469.5,-0 469.5,-68\"/>\r\n",
       "<text text-anchor=\"middle\" x=\"362\" y=\"-52.8\" font-family=\"Times New Roman,serif\" font-size=\"14.00\">gini = 0.015</text>\r\n",
       "<text text-anchor=\"middle\" x=\"362\" y=\"-37.8\" font-family=\"Times New Roman,serif\" font-size=\"14.00\">samples = 4906</text>\r\n",
       "<text text-anchor=\"middle\" x=\"362\" y=\"-22.8\" font-family=\"Times New Roman,serif\" font-size=\"14.00\">value = [0.0, 0.0, 7030.25, 53.6264]</text>\r\n",
       "<text text-anchor=\"middle\" x=\"362\" y=\"-7.8\" font-family=\"Times New Roman,serif\" font-size=\"14.00\">class = 3</text>\r\n",
       "</g>\r\n",
       "<!-- 3&#45;&gt;6 -->\r\n",
       "<g id=\"edge4\" class=\"edge\"><title>3&#45;&gt;6</title>\r\n",
       "<path fill=\"none\" stroke=\"black\" d=\"M285.428,-103.726C295.895,-94.3318 307.018,-84.349 317.447,-74.9883\"/>\r\n",
       "<polygon fill=\"black\" stroke=\"black\" points=\"319.795,-77.5839 324.899,-68.2996 315.119,-72.3744 319.795,-77.5839\"/>\r\n",
       "</g>\r\n",
       "</g>\r\n",
       "</svg>\r\n"
      ],
      "text/plain": [
       "<graphviz.files.Source at 0x17bc221a048>"
      ]
     },
     "execution_count": 141,
     "metadata": {},
     "output_type": "execute_result"
    }
   ],
   "source": [
    "# open .dot & visualize\n",
    "\n",
    "with open('DT_C00.dot', 'r') as f:\n",
    "    dot_graph = f.read()\n",
    "graphviz.Source(dot_graph)"
   ]
  },
  {
   "cell_type": "code",
   "execution_count": 142,
   "metadata": {
    "collapsed": true
   },
   "outputs": [],
   "source": [
    "# 그림파일 생성\n",
    "# cmd에서 해당 디렉토리로 이동한 후 명령어 입력해야 함.\n",
    "# C:\\Users\\User\\Google 드라이브\\DPT 강의\\데이터마이닝\\메릴랜드3\n",
    "# dot -Tpng DT_C00.dot -o DT_C00.png"
   ]
  },
  {
   "cell_type": "markdown",
   "metadata": {},
   "source": [
    "대분류 끝"
   ]
  },
  {
   "cell_type": "markdown",
   "metadata": {},
   "source": [
    "Logistic Regression을 이용한 RFE로 사고유발요인 추정"
   ]
  },
  {
   "cell_type": "markdown",
   "metadata": {},
   "source": [
    "환경변수로 이루어진 데이터셋에 타겟 군집이 1의 값을 가지는 라벨을 각각 붙이기"
   ]
  },
  {
   "cell_type": "code",
   "execution_count": 62,
   "metadata": {
    "collapsed": true
   },
   "outputs": [],
   "source": [
    "# 라벨링된 df 불러오기\n",
    "\n",
    "# import pickle\n",
    "import pickle\n",
    "\n",
    "# load as DataFrame\n",
    "with open('prep_df_c_dum_labeled.pkl', 'rb') as f:\n",
    "    prep_df_c_dum_labeled = pickle.load(f)"
   ]
  },
  {
   "cell_type": "code",
   "execution_count": 63,
   "metadata": {
    "collapsed": true
   },
   "outputs": [],
   "source": [
    "cl1 = prep_df_c_dum_labeled.copy()\n",
    "cl2 = prep_df_c_dum_labeled.copy()\n",
    "cl3 = prep_df_c_dum_labeled.copy()\n",
    "cl4 = prep_df_c_dum_labeled.copy()\n",
    "\n",
    "cls = [cl1, cl2, cl3, cl4]"
   ]
  },
  {
   "cell_type": "code",
   "execution_count": 64,
   "metadata": {
    "collapsed": true
   },
   "outputs": [],
   "source": [
    "def target_setting(row):\n",
    "    if row['big_label'] == i+1:\n",
    "        val = 1\n",
    "    else:\n",
    "        val = 0\n",
    "    return val\n",
    "\n",
    "for i in range(len(cls)):\n",
    "    cls[i]['big_label'] = cls[i].apply(target_setting, axis=1)"
   ]
  },
  {
   "cell_type": "markdown",
   "metadata": {},
   "source": [
    "각각의 데이터에 로지스틱 회귀모델 적용 후 RFE"
   ]
  },
  {
   "cell_type": "code",
   "execution_count": 65,
   "metadata": {
    "collapsed": true
   },
   "outputs": [],
   "source": [
    "# import packages\n",
    "from sklearn.model_selection import train_test_split\n",
    "\n",
    "from sklearn.linear_model import LogisticRegression\n",
    "from sklearn.metrics import confusion_matrix\n",
    "\n",
    "from sklearn.feature_selection import RFECV"
   ]
  },
  {
   "cell_type": "code",
   "execution_count": 66,
   "metadata": {
    "collapsed": true
   },
   "outputs": [],
   "source": [
    "def RFE_generator():\n",
    "    \n",
    "    for n in n_features:\n",
    "    \n",
    "        # estimator & selector\n",
    "        selector = RFE(raw_model, n_features_to_select=n)\n",
    "    \n",
    "        # fit to selector\n",
    "        selector.fit(X_train, y_train)\n",
    "    \n",
    "        # change X to selected_X_train, selected_X_test\n",
    "        selected_cols = selector.support_\n",
    "        selected_X_train, selected_X_test = X_train.iloc[:, selected_cols], X_test.iloc[:, selected_cols]\n",
    "    \n",
    "        # fitting new model\n",
    "        RFE_model = selector.estimator_\n",
    "        RFE_model.fit(X=selected_X_train, y=y_train)\n",
    "        \n",
    "\n",
    "        # get result\n",
    "        score = RFE_model.score(X=selected_X_test, y=y_test)        \n",
    "        print([n, score])\n",
    "\n",
    "        \n",
    "# parameter : n_features\n",
    "n_features = []\n",
    "for i in range(1, 39):\n",
    "    n_features.append(i)"
   ]
  },
  {
   "cell_type": "markdown",
   "metadata": {},
   "source": [
    "cl1"
   ]
  },
  {
   "cell_type": "code",
   "execution_count": 74,
   "metadata": {},
   "outputs": [
    {
     "data": {
      "text/plain": [
       "LogisticRegression(C=1.0, class_weight='balanced', dual=False,\n",
       "          fit_intercept=True, intercept_scaling=1, max_iter=100,\n",
       "          multi_class='ovr', n_jobs=1, penalty='l2', random_state=None,\n",
       "          solver='liblinear', tol=0.0001, verbose=0, warm_start=False)"
      ]
     },
     "execution_count": 74,
     "metadata": {},
     "output_type": "execute_result"
    }
   ],
   "source": [
    "X, y = cl1.drop('big_label', axis=1), cl1.big_label\n",
    "X_train, X_test, y_train, y_test = train_test_split(X, y, test_size=0.25, stratify=y)\n",
    "\n",
    "class_weight = 'balanced'\n",
    "\n",
    "raw_model = LogisticRegression(class_weight=class_weight)\n",
    "raw_model.fit(X=X_train, y=y_train)"
   ]
  },
  {
   "cell_type": "code",
   "execution_count": 68,
   "metadata": {},
   "outputs": [
    {
     "name": "stdout",
     "output_type": "stream",
     "text": [
      "[1, 0.43940687006614038]\n",
      "[2, 0.43930019202048221]\n",
      "[3, 0.44399402602944316]\n",
      "[4, 0.44900789417537873]\n",
      "[5, 0.45828888414764241]\n",
      "[6, 0.45839556219330063]\n",
      "[7, 0.52176232131427347]\n",
      "[8, 0.56720716876466826]\n",
      "[9, 0.58128867079155111]\n",
      "[10, 0.58256880733944949]\n",
      "[11, 0.58278216343076594]\n",
      "[12, 0.58566247066353749]\n",
      "[13, 0.58672925112011953]\n",
      "[14, 0.58555579261787927]\n",
      "[15, 0.58544911457222104]\n",
      "[16, 0.59441007040751015]\n",
      "[17, 0.59344996799658634]\n",
      "[18, 0.59344996799658634]\n",
      "[19, 0.59515681672711751]\n",
      "[20, 0.59526349477277574]\n",
      "[21, 0.59526349477277574]\n",
      "[22, 0.59729037764028159]\n",
      "[23, 0.59739705568593982]\n",
      "[24, 0.59729037764028159]\n",
      "[25, 0.59921058246212933]\n",
      "[26, 0.5991039044164711]\n",
      "[27, 0.60059739705568593]\n",
      "[28, 0.59942393855344567]\n",
      "[29, 0.59889054832515465]\n",
      "[30, 0.5991039044164711]\n",
      "[31, 0.5991039044164711]\n",
      "[32, 0.59921058246212933]\n",
      "[33, 0.59942393855344567]\n",
      "[34, 0.59942393855344567]\n",
      "[35, 0.59942393855344567]\n",
      "[36, 0.59942393855344567]\n",
      "[37, 0.59963729464476212]\n",
      "[38, 0.59953061659910389]\n"
     ]
    }
   ],
   "source": [
    "RFE_generator()"
   ]
  },
  {
   "cell_type": "code",
   "execution_count": 76,
   "metadata": {},
   "outputs": [
    {
     "name": "stdout",
     "output_type": "stream",
     "text": [
      "[9, 0.58054192447194364]\n"
     ]
    }
   ],
   "source": [
    "        n = 9\n",
    "        \n",
    "        # estimator & selector\n",
    "        selector = RFE(raw_model, n_features_to_select=n)\n",
    "    \n",
    "        # fit to selector\n",
    "        selector.fit(X_train, y_train)\n",
    "    \n",
    "        # change X to selected_X_train, selected_X_test\n",
    "        selected_cols = selector.support_\n",
    "        selected_X_train, selected_X_test = X_train.iloc[:, selected_cols], X_test.iloc[:, selected_cols]\n",
    "    \n",
    "        # fitting new model\n",
    "        RFE_model = selector.estimator_\n",
    "        RFE_model.fit(X=selected_X_train, y=y_train)\n",
    "        \n",
    "\n",
    "        # get result\n",
    "        score = RFE_model.score(X=selected_X_test, y=y_test)        \n",
    "        print([n, score])"
   ]
  },
  {
   "cell_type": "code",
   "execution_count": 77,
   "metadata": {},
   "outputs": [
    {
     "data": {
      "text/plain": [
       "array(['', 'C_M_ZONE_FLAG', '', 'AGE', '', 'WEATHER_CODE_Severe Winds', '',\n",
       "       '', 'LIGHT_CODE_Dark No Lights', '', '',\n",
       "       'RD_COND_CODE_Defects on Surface', '', 'RD_COND_CODE_Obstruction',\n",
       "       '', 'RD_DIV_CODE_One-way Trafficway',\n",
       "       'RD_DIV_CODE_Two-way, Divided, Positive Median Barrier', '', '', '',\n",
       "       '', '', '', '', 'BODY_TYPE_CODE_Medium or Heavy Truck', '', '', '',\n",
       "       '', '', '', '', '', '', '', '', '', ''], dtype=object)"
      ]
     },
     "execution_count": 77,
     "metadata": {},
     "output_type": "execute_result"
    }
   ],
   "source": [
    "import numpy as np\n",
    "selector.support_ * np.array(X_train.columns)"
   ]
  },
  {
   "cell_type": "markdown",
   "metadata": {},
   "source": [
    "cl2"
   ]
  },
  {
   "cell_type": "code",
   "execution_count": 78,
   "metadata": {},
   "outputs": [
    {
     "data": {
      "text/plain": [
       "LogisticRegression(C=1.0, class_weight='balanced', dual=False,\n",
       "          fit_intercept=True, intercept_scaling=1, max_iter=100,\n",
       "          multi_class='ovr', n_jobs=1, penalty='l2', random_state=None,\n",
       "          solver='liblinear', tol=0.0001, verbose=0, warm_start=False)"
      ]
     },
     "execution_count": 78,
     "metadata": {},
     "output_type": "execute_result"
    }
   ],
   "source": [
    "X, y = cl2.drop('big_label', axis=1), cl2.big_label\n",
    "X_train, X_test, y_train, y_test = train_test_split(X, y, test_size=0.25, stratify=y)\n",
    "\n",
    "class_weight = 'balanced'\n",
    "\n",
    "raw_model = LogisticRegression(class_weight=class_weight)\n",
    "raw_model.fit(X=X_train, y=y_train)"
   ]
  },
  {
   "cell_type": "code",
   "execution_count": 71,
   "metadata": {},
   "outputs": [
    {
     "name": "stdout",
     "output_type": "stream",
     "text": [
      "[1, 0.72338382760827824]\n",
      "[2, 0.72167697887774696]\n",
      "[3, 0.7214636227864305]\n",
      "[4, 0.71154256454021758]\n",
      "[5, 0.71154256454021758]\n",
      "[6, 0.71154256454021758]\n",
      "[7, 0.69372733091529759]\n",
      "[8, 0.6432686153189674]\n",
      "[9, 0.6432686153189674]\n",
      "[10, 0.6432686153189674]\n",
      "[11, 0.6432686153189674]\n",
      "[12, 0.65212289310859828]\n",
      "[13, 0.64902922978451039]\n",
      "[14, 0.64806912737358646]\n",
      "[15, 0.64412203968423298]\n",
      "[16, 0.66300405376573501]\n",
      "[17, 0.66300405376573501]\n",
      "[18, 0.65350970770215489]\n",
      "[19, 0.65735011734585025]\n",
      "[20, 0.65756347343716659]\n",
      "[21, 0.65799018561979949]\n",
      "[22, 0.65809686366545761]\n",
      "[23, 0.65809686366545761]\n",
      "[24, 0.65809686366545761]\n",
      "[25, 0.65809686366545761]\n",
      "[26, 0.65799018561979949]\n",
      "[27, 0.65799018561979949]\n",
      "[28, 0.65799018561979949]\n",
      "[29, 0.65841689780243229]\n",
      "[30, 0.65841689780243229]\n",
      "[31, 0.65841689780243229]\n",
      "[32, 0.65863025389374863]\n",
      "[33, 0.65905696607638153]\n",
      "[34, 0.65905696607638153]\n",
      "[35, 0.65905696607638153]\n",
      "[36, 0.65884360998506508]\n",
      "[37, 0.65884360998506508]\n",
      "[38, 0.65884360998506508]\n"
     ]
    }
   ],
   "source": [
    "RFE_generator()"
   ]
  },
  {
   "cell_type": "code",
   "execution_count": 79,
   "metadata": {},
   "outputs": [
    {
     "name": "stdout",
     "output_type": "stream",
     "text": [
      "[6, 0.70439513548111798]\n"
     ]
    }
   ],
   "source": [
    "        n = 6\n",
    "        \n",
    "        # estimator & selector\n",
    "        selector = RFE(raw_model, n_features_to_select=n)\n",
    "    \n",
    "        # fit to selector\n",
    "        selector.fit(X_train, y_train)\n",
    "    \n",
    "        # change X to selected_X_train, selected_X_test\n",
    "        selected_cols = selector.support_\n",
    "        selected_X_train, selected_X_test = X_train.iloc[:, selected_cols], X_test.iloc[:, selected_cols]\n",
    "    \n",
    "        # fitting new model\n",
    "        RFE_model = selector.estimator_\n",
    "        RFE_model.fit(X=selected_X_train, y=y_train)\n",
    "        \n",
    "\n",
    "        # get result\n",
    "        score = RFE_model.score(X=selected_X_test, y=y_test)        \n",
    "        print([n, score])"
   ]
  },
  {
   "cell_type": "code",
   "execution_count": 80,
   "metadata": {},
   "outputs": [
    {
     "data": {
      "text/plain": [
       "array(['', '', '', '', '', '', '', '', 'LIGHT_CODE_Dark No Lights', '', '',\n",
       "       'RD_COND_CODE_Defects on Surface', '', 'RD_COND_CODE_Obstruction',\n",
       "       '', '', '', '', '', '', '', '', '', '',\n",
       "       'BODY_TYPE_CODE_Medium or Heavy Truck', '', '', '', '', '',\n",
       "       'CONDITION_CODE_Apparently Normal', '', '', '',\n",
       "       'SAF_EQUIP_CODE_Belt', '', '', ''], dtype=object)"
      ]
     },
     "execution_count": 80,
     "metadata": {},
     "output_type": "execute_result"
    }
   ],
   "source": [
    "selector.support_ * np.array(X_train.columns)"
   ]
  },
  {
   "cell_type": "markdown",
   "metadata": {},
   "source": [
    "cl3"
   ]
  },
  {
   "cell_type": "code",
   "execution_count": 81,
   "metadata": {},
   "outputs": [
    {
     "data": {
      "text/plain": [
       "LogisticRegression(C=1.0, class_weight='balanced', dual=False,\n",
       "          fit_intercept=True, intercept_scaling=1, max_iter=100,\n",
       "          multi_class='ovr', n_jobs=1, penalty='l2', random_state=None,\n",
       "          solver='liblinear', tol=0.0001, verbose=0, warm_start=False)"
      ]
     },
     "execution_count": 81,
     "metadata": {},
     "output_type": "execute_result"
    }
   ],
   "source": [
    "X, y = cl3.drop('big_label', axis=1), cl3.big_label\n",
    "X_train, X_test, y_train, y_test = train_test_split(X, y, test_size=0.25, stratify=y)\n",
    "\n",
    "class_weight = 'balanced'\n",
    "\n",
    "raw_model = LogisticRegression(class_weight=class_weight)\n",
    "raw_model.fit(X=X_train, y=y_train)"
   ]
  },
  {
   "cell_type": "code",
   "execution_count": 82,
   "metadata": {},
   "outputs": [
    {
     "name": "stdout",
     "output_type": "stream",
     "text": [
      "[1, 0.17367185833155538]\n",
      "[2, 0.18615318967356517]\n",
      "[3, 0.50842756560699809]\n",
      "[4, 0.5803285683806273]\n",
      "[5, 0.58235545124813315]\n",
      "[6, 0.58246212929379138]\n",
      "[7, 0.58683592916577765]\n",
      "[8, 0.58246212929379138]\n",
      "[9, 0.65212289310859828]\n",
      "[10, 0.61926605504587151]\n",
      "[11, 0.62001280136547898]\n",
      "[12, 0.62001280136547898]\n",
      "[13, 0.61777256240665668]\n",
      "[14, 0.61051845530189885]\n",
      "[15, 0.61019842116492429]\n",
      "[16, 0.61062513334755708]\n",
      "[17, 0.61073181139321531]\n",
      "[18, 0.6089182846170258]\n",
      "[19, 0.60881160657136757]\n",
      "[20, 0.60881160657136757]\n",
      "[21, 0.60209088969490077]\n",
      "[22, 0.60209088969490077]\n",
      "[23, 0.60198421164924254]\n",
      "[24, 0.60155749946660975]\n",
      "[25, 0.60166417751226797]\n",
      "[26, 0.60155749946660975]\n",
      "[27, 0.60475784083635586]\n",
      "[28, 0.60475784083635586]\n",
      "[29, 0.60486451888201409]\n",
      "[30, 0.60465116279069764]\n",
      "[31, 0.60475784083635586]\n",
      "[32, 0.60465116279069764]\n",
      "[33, 0.60454448474503952]\n",
      "[34, 0.60433112865372307]\n",
      "[35, 0.60433112865372307]\n",
      "[36, 0.60433112865372307]\n",
      "[37, 0.60433112865372307]\n",
      "[38, 0.60433112865372307]\n"
     ]
    }
   ],
   "source": [
    "RFE_generator()"
   ]
  },
  {
   "cell_type": "code",
   "execution_count": 83,
   "metadata": {},
   "outputs": [
    {
     "name": "stdout",
     "output_type": "stream",
     "text": [
      "[9, 0.65212289310859828]\n"
     ]
    }
   ],
   "source": [
    "        n = 9\n",
    "        \n",
    "        # estimator & selector\n",
    "        selector = RFE(raw_model, n_features_to_select=n)\n",
    "    \n",
    "        # fit to selector\n",
    "        selector.fit(X_train, y_train)\n",
    "    \n",
    "        # change X to selected_X_train, selected_X_test\n",
    "        selected_cols = selector.support_\n",
    "        selected_X_train, selected_X_test = X_train.iloc[:, selected_cols], X_test.iloc[:, selected_cols]\n",
    "    \n",
    "        # fitting new model\n",
    "        RFE_model = selector.estimator_\n",
    "        RFE_model.fit(X=selected_X_train, y=y_train)\n",
    "        \n",
    "\n",
    "        # get result\n",
    "        score = RFE_model.score(X=selected_X_test, y=y_test)        \n",
    "        print([n, score])"
   ]
  },
  {
   "cell_type": "code",
   "execution_count": 84,
   "metadata": {},
   "outputs": [
    {
     "data": {
      "text/plain": [
       "array(['SURF_COND_CODE', 'C_M_ZONE_FLAG', '', '', '', '', '', '', '', '',\n",
       "       '', '', 'RD_COND_CODE_No Defects', '', '', '', '',\n",
       "       'RD_DIV_CODE_Two-way, Divided, Unprotected (painted >4 feet) Median',\n",
       "       'RD_DIV_CODE_Two-way, Not Divided', '', '', '',\n",
       "       'BODY_TYPE_CODE_Bus', '', '', '', 'BODY_TYPE_CODE_Offraod Vehicle',\n",
       "       '', 'BODY_TYPE_CODE_Public Vehicle/NE', '', '', '', '', '', '', '',\n",
       "       'SAF_EQUIP_CODE_Child Restraints', ''], dtype=object)"
      ]
     },
     "execution_count": 84,
     "metadata": {},
     "output_type": "execute_result"
    }
   ],
   "source": [
    "selector.support_ * np.array(X_train.columns)"
   ]
  },
  {
   "cell_type": "markdown",
   "metadata": {
    "collapsed": true
   },
   "source": [
    "cl4"
   ]
  },
  {
   "cell_type": "code",
   "execution_count": 85,
   "metadata": {},
   "outputs": [
    {
     "data": {
      "text/plain": [
       "LogisticRegression(C=1.0, class_weight='balanced', dual=False,\n",
       "          fit_intercept=True, intercept_scaling=1, max_iter=100,\n",
       "          multi_class='ovr', n_jobs=1, penalty='l2', random_state=None,\n",
       "          solver='liblinear', tol=0.0001, verbose=0, warm_start=False)"
      ]
     },
     "execution_count": 85,
     "metadata": {},
     "output_type": "execute_result"
    }
   ],
   "source": [
    "X, y = cl4.drop('big_label', axis=1), cl4.big_label\n",
    "X_train, X_test, y_train, y_test = train_test_split(X, y, test_size=0.25, stratify=y)\n",
    "\n",
    "class_weight = 'balanced'\n",
    "\n",
    "raw_model = LogisticRegression(class_weight=class_weight)\n",
    "raw_model.fit(X=X_train, y=y_train)"
   ]
  },
  {
   "cell_type": "code",
   "execution_count": 86,
   "metadata": {},
   "outputs": [
    {
     "name": "stdout",
     "output_type": "stream",
     "text": [
      "[1, 0.15521655643268614]\n",
      "[2, 0.1686579901856198]\n",
      "[3, 0.16908470236825263]\n",
      "[4, 0.16908470236825263]\n",
      "[5, 0.22658416897802433]\n",
      "[6, 0.63580115212289312]\n",
      "[7, 0.64988265414977597]\n",
      "[8, 0.65009601024109243]\n",
      "[9, 0.64646895668871351]\n",
      "[10, 0.64646895668871351]\n",
      "[11, 0.64625560059739706]\n",
      "[12, 0.64657563473437163]\n",
      "[13, 0.64390868359291653]\n",
      "[14, 0.64390868359291653]\n",
      "[15, 0.64390868359291653]\n",
      "[16, 0.65308299551952209]\n",
      "[17, 0.65052272242372522]\n",
      "[18, 0.65041604437806699]\n",
      "[19, 0.63345423511841259]\n",
      "[20, 0.59398335822487736]\n",
      "[21, 0.59462342649882649]\n",
      "[22, 0.59441007040751015]\n",
      "[23, 0.59430339236185192]\n",
      "[24, 0.59473010454448472]\n",
      "[25, 0.59515681672711751]\n",
      "[26, 0.5937700021335609]\n",
      "[27, 0.5937700021335609]\n",
      "[28, 0.59537017281843396]\n",
      "[29, 0.59398335822487736]\n",
      "[30, 0.59398335822487736]\n",
      "[31, 0.59398335822487736]\n",
      "[32, 0.59409003627053547]\n",
      "[33, 0.59409003627053547]\n",
      "[34, 0.59409003627053547]\n",
      "[35, 0.59483678259014294]\n",
      "[36, 0.59483678259014294]\n",
      "[37, 0.59547685086409219]\n",
      "[38, 0.59547685086409219]\n"
     ]
    }
   ],
   "source": [
    "RFE_generator()"
   ]
  },
  {
   "cell_type": "code",
   "execution_count": 87,
   "metadata": {},
   "outputs": [
    {
     "name": "stdout",
     "output_type": "stream",
     "text": [
      "[8, 0.65009601024109243]\n"
     ]
    }
   ],
   "source": [
    "        n = 8\n",
    "        \n",
    "        # estimator & selector\n",
    "        selector = RFE(raw_model, n_features_to_select=n)\n",
    "    \n",
    "        # fit to selector\n",
    "        selector.fit(X_train, y_train)\n",
    "    \n",
    "        # change X to selected_X_train, selected_X_test\n",
    "        selected_cols = selector.support_\n",
    "        selected_X_train, selected_X_test = X_train.iloc[:, selected_cols], X_test.iloc[:, selected_cols]\n",
    "    \n",
    "        # fitting new model\n",
    "        RFE_model = selector.estimator_\n",
    "        RFE_model.fit(X=selected_X_train, y=y_train)\n",
    "        \n",
    "\n",
    "        # get result\n",
    "        score = RFE_model.score(X=selected_X_test, y=y_test)        \n",
    "        print([n, score])"
   ]
  },
  {
   "cell_type": "code",
   "execution_count": 88,
   "metadata": {},
   "outputs": [
    {
     "data": {
      "text/plain": [
       "array(['', '', '', '', '', '', '', '', 'LIGHT_CODE_Dark No Lights', '', '',\n",
       "       '', '', 'RD_COND_CODE_Obstruction', '', '',\n",
       "       'RD_DIV_CODE_Two-way, Divided, Positive Median Barrier', '', '', '',\n",
       "       '', '', '', '', '', '', 'BODY_TYPE_CODE_Offraod Vehicle', '', '',\n",
       "       '', 'CONDITION_CODE_Apparently Normal',\n",
       "       'CONDITION_CODE_Asleep or Fainted or Ill', '', '', '', '',\n",
       "       'SAF_EQUIP_CODE_Child Restraints', 'SAF_EQUIP_CODE_None'], dtype=object)"
      ]
     },
     "execution_count": 88,
     "metadata": {},
     "output_type": "execute_result"
    }
   ],
   "source": [
    "selector.support_ * np.array(X_train.columns)"
   ]
  },
  {
   "cell_type": "code",
   "execution_count": null,
   "metadata": {
    "collapsed": true
   },
   "outputs": [],
   "source": []
  }
 ],
 "metadata": {
  "kernelspec": {
   "display_name": "Python 3",
   "language": "python",
   "name": "python3"
  },
  "language_info": {
   "codemirror_mode": {
    "name": "ipython",
    "version": 3
   },
   "file_extension": ".py",
   "mimetype": "text/x-python",
   "name": "python",
   "nbconvert_exporter": "python",
   "pygments_lexer": "ipython3",
   "version": "3.6.1"
  }
 },
 "nbformat": 4,
 "nbformat_minor": 2
}
